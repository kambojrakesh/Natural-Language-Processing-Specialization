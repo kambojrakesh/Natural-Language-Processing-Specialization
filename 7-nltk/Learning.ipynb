{
 "cells": [
  {
   "cell_type": "code",
   "execution_count": 31,
   "id": "9de1b57c",
   "metadata": {},
   "outputs": [
    {
     "name": "stdout",
     "output_type": "stream",
     "text": [
      "['abc', 'abc.zip', 'alpino', 'alpino.zip', 'biocreative_ppi', 'biocreative_ppi.zip', 'brown', 'brown.zip', 'brown_tei', 'brown_tei.zip', 'cess_cat', 'cess_cat.zip', 'cess_esp', 'cess_esp.zip', 'chat80', 'chat80.zip', 'city_database', 'city_database.zip', 'cmudict', 'cmudict.zip', 'comparative_sentences', 'comparative_sentences.zip', 'comtrans.zip', 'conll2000', 'conll2000.zip', 'conll2002', 'conll2002.zip', 'conll2007.zip', 'crubadan', 'crubadan.zip', 'dependency_treebank', 'dependency_treebank.zip', 'dolch', 'dolch.zip', 'europarl_raw', 'europarl_raw.zip', 'floresta', 'floresta.zip', 'framenet_v15', 'framenet_v15.zip', 'framenet_v17', 'framenet_v17.zip', 'gazetteers', 'gazetteers.zip', 'genesis', 'genesis.zip', 'gutenberg', 'gutenberg.zip', 'ieer', 'ieer.zip', 'inaugural', 'inaugural.zip', 'indian', 'indian.zip', 'jeita.zip', 'kimmo', 'kimmo.zip', 'knbc.zip', 'lin_thesaurus', 'lin_thesaurus.zip', 'machado.zip', 'mac_morpho', 'mac_morpho.zip', 'masc_tagged.zip', 'movie_reviews', 'movie_reviews.zip', 'mte_teip5', 'mte_teip5.zip', 'names', 'names.zip', 'nombank.1.0.zip', 'nonbreaking_prefixes', 'nonbreaking_prefixes.zip', 'nps_chat', 'nps_chat.zip', 'omw', 'omw.zip', 'opinion_lexicon', 'opinion_lexicon.zip', 'panlex_swadesh.zip', 'paradigms', 'paradigms.zip', 'pil', 'pil.zip', 'pl196x', 'pl196x.zip', 'ppattach', 'ppattach.zip', 'problem_reports', 'problem_reports.zip', 'product_reviews_1', 'product_reviews_1.zip', 'product_reviews_2', 'product_reviews_2.zip', 'propbank.zip', 'pros_cons', 'pros_cons.zip', 'ptb', 'ptb.zip', 'qc', 'qc.zip', 'reuters.zip', 'rte', 'rte.zip', 'semcor.zip', 'senseval', 'senseval.zip', 'sentence_polarity', 'sentence_polarity.zip', 'sentiwordnet', 'sentiwordnet.zip', 'shakespeare', 'shakespeare.zip', 'sinica_treebank', 'sinica_treebank.zip', 'smultron', 'smultron.zip', 'state_union', 'state_union.zip', 'stopwords', 'stopwords.zip', 'subjectivity', 'subjectivity.zip', 'swadesh', 'swadesh.zip', 'switchboard', 'switchboard.zip', 'timit', 'timit.zip', 'toolbox', 'toolbox.zip', 'treebank', 'treebank.zip', 'twitter_samples', 'twitter_samples.zip', 'udhr', 'udhr.zip', 'udhr2', 'udhr2.zip', 'unicode_samples', 'unicode_samples.zip', 'universal_treebanks_v20.zip', 'verbnet', 'verbnet.zip', 'verbnet3', 'verbnet3.zip', 'webtext', 'webtext.zip', 'wordnet', 'wordnet.zip', 'wordnet_ic', 'wordnet_ic.zip', 'words', 'words.zip', 'ycoe', 'ycoe.zip']\n"
     ]
    }
   ],
   "source": [
    "import os\n",
    "import nltk\n",
    "import nltk.corpus\n",
    "print(os.listdir(nltk.data.find(\"corpora\")))"
   ]
  },
  {
   "cell_type": "code",
   "execution_count": 28,
   "id": "f731f218",
   "metadata": {},
   "outputs": [
    {
     "data": {
      "text/plain": [
       "['The', 'Fulton', 'County', 'Grand', 'Jury', 'said', ...]"
      ]
     },
     "execution_count": 28,
     "metadata": {},
     "output_type": "execute_result"
    }
   ],
   "source": [
    "from nltk.corpus import brown\n",
    "brown.words()"
   ]
  },
  {
   "cell_type": "code",
   "execution_count": 29,
   "id": "9cc54017",
   "metadata": {},
   "outputs": [
    {
     "data": {
      "text/plain": [
       "['austen-emma.txt',\n",
       " 'austen-persuasion.txt',\n",
       " 'austen-sense.txt',\n",
       " 'bible-kjv.txt',\n",
       " 'blake-poems.txt',\n",
       " 'bryant-stories.txt',\n",
       " 'burgess-busterbrown.txt',\n",
       " 'carroll-alice.txt',\n",
       " 'chesterton-ball.txt',\n",
       " 'chesterton-brown.txt',\n",
       " 'chesterton-thursday.txt',\n",
       " 'edgeworth-parents.txt',\n",
       " 'melville-moby_dick.txt',\n",
       " 'milton-paradise.txt',\n",
       " 'shakespeare-caesar.txt',\n",
       " 'shakespeare-hamlet.txt',\n",
       " 'shakespeare-macbeth.txt',\n",
       " 'whitman-leaves.txt']"
      ]
     },
     "execution_count": 29,
     "metadata": {},
     "output_type": "execute_result"
    }
   ],
   "source": [
    "nltk.corpus.gutenberg.fileids()"
   ]
  },
  {
   "cell_type": "code",
   "execution_count": 20,
   "id": "c62782e6",
   "metadata": {},
   "outputs": [
    {
     "data": {
      "text/plain": [
       "['[', 'The', 'Tragedie', 'of', 'Hamlet', 'by', ...]"
      ]
     },
     "execution_count": 20,
     "metadata": {},
     "output_type": "execute_result"
    }
   ],
   "source": [
    "hamlet = nltk.corpus.gutenberg.words('shakespeare-hamlet.txt')\n",
    "hamlet"
   ]
  },
  {
   "cell_type": "code",
   "execution_count": 45,
   "id": "ff8ecb39",
   "metadata": {},
   "outputs": [
    {
     "name": "stdout",
     "output_type": "stream",
     "text": [
      "[ The Tragedie of Hamlet by William Shakespeare 1599 ] Actus Primus . Scoena Prima . Enter Barnardo and Francisco two Centinels . Barnardo . Who ' s there ? Fran . Nay answer me : Stand & vnfold your selfe Bar . Long liue the King Fran . Barnardo ? Bar . He Fran . You come most carefully vpon your houre Bar . ' Tis now strook twelue , get thee to bed Francisco Fran . For this releefe much thankes : ' Tis bitter cold , And I am sicke at heart Barn . Haue you had quiet Guard ? Fran . Not a Mouse stirring Barn . Well , goodnight . If you do meet Horatio and Marcellus , the Riuals of my Watch , bid them make hast . Enter Horatio and Marcellus . Fran . I thinke I heare them . Stand : who ' s there ? Hor . Friends to this ground Mar . And Leige - men to the Dane Fran . Giue you good night Mar . O farwel honest Soldier , who hath relieu ' d you ? Fra . Barnardo ha ' s my place : giue you goodnight . Exit Fran . Mar . Holla Barnardo Bar . Say , what is Horatio there ? Hor . A peece of him Bar . Welcome Horatio , welcome good Marcellus Mar . What , ha ' s this thing appear ' d againe to night Bar . I haue seene nothing Mar . Horatio saies , ' tis but our Fantasie , And will not let beleefe take hold of him Touching this dreaded sight , twice seene of vs , Therefore I haue intreated him along With vs , to watch the minutes of this Night , That if againe this Apparition come , He may approue our eyes , and speake to it Hor . Tush , tush , ' twill not appeare Bar . Sit downe a - while , And let vs once againe assaile your eares , That are so fortified against our Story , What we two Nights haue seene Hor . Well , sit we downe , And let vs heare Barnardo speake of this Barn . Last night of all , When yond same Starre that ' s Westward from the Pole Had made his course t ' illume that part of Heauen Where now it burnes , Marcellus and my selfe , The Bell then beating one Mar . Peace , breake thee of : Enter the Ghost . Looke where it comes againe Barn . In the same figure , like the King that ' s dead Mar . Thou art a Scholler ; speake to it Horatio Barn . Lookes it not like the King ? Marke it Horatio Hora . Most like : It harrowes me with fear & wonder Barn . It would be spoke too Mar . Question it Horatio Hor . What art "
     ]
    }
   ],
   "source": [
    "for word in hamlet[:500]:\n",
    "    print(word, sep = \" \", end = \" \")"
   ]
  },
  {
   "cell_type": "code",
   "execution_count": 84,
   "id": "0e0bb522",
   "metadata": {},
   "outputs": [],
   "source": [
    "AI = \"\"\"Harish Rawat, the in-charge of Congress affairs in Punjab, said that all the MLAs passed the one-line resolution requesting Gandhi to decide name for next chief minister. The resolution was moved by Brahm Mohindra and seconded by the party's Dalit MLA from Amritsar, Raj Kumar Verka.\n",
    "\n",
    "Rawat said that the resolution has been sent through email to Sonia Gandhi. He, along with fellow party leader Ajay Maken, reached Chandigarh from Delhi on Saturday morning for the CLP meeting convened at the insistence of a group of party leaders close to Navjot Singh Sidhu, \n",
    "\n",
    "who was recently appointed the chief of Congress' Punjab unit.\"\"\""
   ]
  },
  {
   "cell_type": "code",
   "execution_count": 85,
   "id": "4f4c302a",
   "metadata": {},
   "outputs": [
    {
     "data": {
      "text/plain": [
       "115"
      ]
     },
     "execution_count": 85,
     "metadata": {},
     "output_type": "execute_result"
    }
   ],
   "source": [
    "from nltk.tokenize import word_tokenize\n",
    "AI_tokens = word_tokenize(AI)\n",
    "len(AI_tokens)\n"
   ]
  },
  {
   "cell_type": "code",
   "execution_count": 86,
   "id": "ec7fecd0",
   "metadata": {},
   "outputs": [
    {
     "data": {
      "text/plain": [
       "nltk.probability.FreqDist"
      ]
     },
     "execution_count": 86,
     "metadata": {},
     "output_type": "execute_result"
    }
   ],
   "source": [
    "from nltk.probability import FreqDist\n",
    "fDist = FreqDist()\n",
    "type(fDist)"
   ]
  },
  {
   "cell_type": "code",
   "execution_count": 87,
   "id": "d9f837ca",
   "metadata": {},
   "outputs": [
    {
     "data": {
      "text/plain": [
       "FreqDist({'the': 9, ',': 6, 'of': 4, '.': 4, 'resolution': 3, 'to': 3, 'party': 3, 'rawat': 2, 'congress': 2, 'punjab': 2, ...})"
      ]
     },
     "execution_count": 87,
     "metadata": {},
     "output_type": "execute_result"
    }
   ],
   "source": [
    "for word in AI_tokens:\n",
    "    fDist[word.lower()]+=1\n",
    "fDist"
   ]
  },
  {
   "cell_type": "code",
   "execution_count": 88,
   "id": "e971576a",
   "metadata": {},
   "outputs": [
    {
     "data": {
      "text/plain": [
       "79"
      ]
     },
     "execution_count": 88,
     "metadata": {},
     "output_type": "execute_result"
    }
   ],
   "source": [
    "len(fDist)"
   ]
  },
  {
   "cell_type": "code",
   "execution_count": 89,
   "id": "6c087454",
   "metadata": {},
   "outputs": [
    {
     "data": {
      "text/plain": [
       "[('the', 9),\n",
       " (',', 6),\n",
       " ('of', 4),\n",
       " ('.', 4),\n",
       " ('resolution', 3),\n",
       " ('to', 3),\n",
       " ('party', 3),\n",
       " ('rawat', 2),\n",
       " ('congress', 2),\n",
       " ('punjab', 2)]"
      ]
     },
     "execution_count": 89,
     "metadata": {},
     "output_type": "execute_result"
    }
   ],
   "source": [
    "fDist_10 = fDist.most_common(10)\n",
    "fDist_10"
   ]
  },
  {
   "cell_type": "code",
   "execution_count": 90,
   "id": "ff61a94e",
   "metadata": {},
   "outputs": [
    {
     "data": {
      "text/plain": [
       "3"
      ]
     },
     "execution_count": 90,
     "metadata": {},
     "output_type": "execute_result"
    }
   ],
   "source": [
    "from nltk.tokenize import blankline_tokenize\n",
    "AI_blank = blankline_tokenize(AI)\n",
    "len(AI_blank)"
   ]
  },
  {
   "cell_type": "code",
   "execution_count": 91,
   "id": "43ed920c",
   "metadata": {},
   "outputs": [
    {
     "data": {
      "text/plain": [
       "\"Harish Rawat, the in-charge of Congress affairs in Punjab, said that all the MLAs passed the one-line resolution requesting Gandhi to decide name for next chief minister. The resolution was moved by Brahm Mohindra and seconded by the party's Dalit MLA from Amritsar, Raj Kumar Verka.\""
      ]
     },
     "execution_count": 91,
     "metadata": {},
     "output_type": "execute_result"
    }
   ],
   "source": [
    "AI_blank[0]"
   ]
  },
  {
   "cell_type": "code",
   "execution_count": 92,
   "id": "264ff34e",
   "metadata": {},
   "outputs": [
    {
     "name": "stdout",
     "output_type": "stream",
     "text": [
      "['Harish', 'Rawat', ',', 'the', 'in-charge', 'of', 'Congress', 'affairs', 'in', 'Punjab', ',', 'said', 'that', 'all', 'the', 'MLAs', 'passed', 'the', 'one-line', 'resolution', 'requesting', 'Gandhi', 'to', 'decide', 'name', 'for', 'next', 'chief', 'minister', '.', 'The', 'resolution', 'was', 'moved', 'by', 'Brahm', 'Mohindra', 'and', 'seconded', 'by', 'the', 'party', \"'s\", 'Dalit', 'MLA', 'from', 'Amritsar', ',', 'Raj', 'Kumar', 'Verka', '.']\n"
     ]
    }
   ],
   "source": [
    "from nltk.util import bigrams, trigrams, ngrams\n",
    "news_str = \"Harish Rawat, the in-charge of Congress affairs in Punjab, said that all the MLAs passed the one-line resolution requesting Gandhi to decide name for next chief minister. The resolution was moved by Brahm Mohindra and seconded by the party's Dalit MLA from Amritsar, Raj Kumar Verka.\"\n",
    "\n",
    "news_tokens = nltk.word_tokenize(news_str)\n",
    "print(news_tokens)"
   ]
  },
  {
   "cell_type": "code",
   "execution_count": 94,
   "id": "7767b854",
   "metadata": {},
   "outputs": [
    {
     "data": {
      "text/plain": [
       "[('Harish', 'Rawat', ','),\n",
       " ('Rawat', ',', 'the'),\n",
       " (',', 'the', 'in-charge'),\n",
       " ('the', 'in-charge', 'of'),\n",
       " ('in-charge', 'of', 'Congress'),\n",
       " ('of', 'Congress', 'affairs'),\n",
       " ('Congress', 'affairs', 'in'),\n",
       " ('affairs', 'in', 'Punjab'),\n",
       " ('in', 'Punjab', ','),\n",
       " ('Punjab', ',', 'said'),\n",
       " (',', 'said', 'that'),\n",
       " ('said', 'that', 'all'),\n",
       " ('that', 'all', 'the'),\n",
       " ('all', 'the', 'MLAs'),\n",
       " ('the', 'MLAs', 'passed'),\n",
       " ('MLAs', 'passed', 'the'),\n",
       " ('passed', 'the', 'one-line'),\n",
       " ('the', 'one-line', 'resolution'),\n",
       " ('one-line', 'resolution', 'requesting'),\n",
       " ('resolution', 'requesting', 'Gandhi'),\n",
       " ('requesting', 'Gandhi', 'to'),\n",
       " ('Gandhi', 'to', 'decide'),\n",
       " ('to', 'decide', 'name'),\n",
       " ('decide', 'name', 'for'),\n",
       " ('name', 'for', 'next'),\n",
       " ('for', 'next', 'chief'),\n",
       " ('next', 'chief', 'minister'),\n",
       " ('chief', 'minister', '.'),\n",
       " ('minister', '.', 'The'),\n",
       " ('.', 'The', 'resolution'),\n",
       " ('The', 'resolution', 'was'),\n",
       " ('resolution', 'was', 'moved'),\n",
       " ('was', 'moved', 'by'),\n",
       " ('moved', 'by', 'Brahm'),\n",
       " ('by', 'Brahm', 'Mohindra'),\n",
       " ('Brahm', 'Mohindra', 'and'),\n",
       " ('Mohindra', 'and', 'seconded'),\n",
       " ('and', 'seconded', 'by'),\n",
       " ('seconded', 'by', 'the'),\n",
       " ('by', 'the', 'party'),\n",
       " ('the', 'party', \"'s\"),\n",
       " ('party', \"'s\", 'Dalit'),\n",
       " (\"'s\", 'Dalit', 'MLA'),\n",
       " ('Dalit', 'MLA', 'from'),\n",
       " ('MLA', 'from', 'Amritsar'),\n",
       " ('from', 'Amritsar', ','),\n",
       " ('Amritsar', ',', 'Raj'),\n",
       " (',', 'Raj', 'Kumar'),\n",
       " ('Raj', 'Kumar', 'Verka'),\n",
       " ('Kumar', 'Verka', '.')]"
      ]
     },
     "execution_count": 94,
     "metadata": {},
     "output_type": "execute_result"
    }
   ],
   "source": [
    "news_bigrams = list(nltk.trigrams(news_tokens))\n",
    "news_bigrams"
   ]
  },
  {
   "cell_type": "code",
   "execution_count": 97,
   "id": "5c7c93dc",
   "metadata": {},
   "outputs": [
    {
     "data": {
      "text/plain": [
       "[('Harish', 'Rawat', ',', 'the', 'in-charge'),\n",
       " ('Rawat', ',', 'the', 'in-charge', 'of'),\n",
       " (',', 'the', 'in-charge', 'of', 'Congress'),\n",
       " ('the', 'in-charge', 'of', 'Congress', 'affairs'),\n",
       " ('in-charge', 'of', 'Congress', 'affairs', 'in'),\n",
       " ('of', 'Congress', 'affairs', 'in', 'Punjab'),\n",
       " ('Congress', 'affairs', 'in', 'Punjab', ','),\n",
       " ('affairs', 'in', 'Punjab', ',', 'said'),\n",
       " ('in', 'Punjab', ',', 'said', 'that'),\n",
       " ('Punjab', ',', 'said', 'that', 'all'),\n",
       " (',', 'said', 'that', 'all', 'the'),\n",
       " ('said', 'that', 'all', 'the', 'MLAs'),\n",
       " ('that', 'all', 'the', 'MLAs', 'passed'),\n",
       " ('all', 'the', 'MLAs', 'passed', 'the'),\n",
       " ('the', 'MLAs', 'passed', 'the', 'one-line'),\n",
       " ('MLAs', 'passed', 'the', 'one-line', 'resolution'),\n",
       " ('passed', 'the', 'one-line', 'resolution', 'requesting'),\n",
       " ('the', 'one-line', 'resolution', 'requesting', 'Gandhi'),\n",
       " ('one-line', 'resolution', 'requesting', 'Gandhi', 'to'),\n",
       " ('resolution', 'requesting', 'Gandhi', 'to', 'decide'),\n",
       " ('requesting', 'Gandhi', 'to', 'decide', 'name'),\n",
       " ('Gandhi', 'to', 'decide', 'name', 'for'),\n",
       " ('to', 'decide', 'name', 'for', 'next'),\n",
       " ('decide', 'name', 'for', 'next', 'chief'),\n",
       " ('name', 'for', 'next', 'chief', 'minister'),\n",
       " ('for', 'next', 'chief', 'minister', '.'),\n",
       " ('next', 'chief', 'minister', '.', 'The'),\n",
       " ('chief', 'minister', '.', 'The', 'resolution'),\n",
       " ('minister', '.', 'The', 'resolution', 'was'),\n",
       " ('.', 'The', 'resolution', 'was', 'moved'),\n",
       " ('The', 'resolution', 'was', 'moved', 'by'),\n",
       " ('resolution', 'was', 'moved', 'by', 'Brahm'),\n",
       " ('was', 'moved', 'by', 'Brahm', 'Mohindra'),\n",
       " ('moved', 'by', 'Brahm', 'Mohindra', 'and'),\n",
       " ('by', 'Brahm', 'Mohindra', 'and', 'seconded'),\n",
       " ('Brahm', 'Mohindra', 'and', 'seconded', 'by'),\n",
       " ('Mohindra', 'and', 'seconded', 'by', 'the'),\n",
       " ('and', 'seconded', 'by', 'the', 'party'),\n",
       " ('seconded', 'by', 'the', 'party', \"'s\"),\n",
       " ('by', 'the', 'party', \"'s\", 'Dalit'),\n",
       " ('the', 'party', \"'s\", 'Dalit', 'MLA'),\n",
       " ('party', \"'s\", 'Dalit', 'MLA', 'from'),\n",
       " (\"'s\", 'Dalit', 'MLA', 'from', 'Amritsar'),\n",
       " ('Dalit', 'MLA', 'from', 'Amritsar', ','),\n",
       " ('MLA', 'from', 'Amritsar', ',', 'Raj'),\n",
       " ('from', 'Amritsar', ',', 'Raj', 'Kumar'),\n",
       " ('Amritsar', ',', 'Raj', 'Kumar', 'Verka'),\n",
       " (',', 'Raj', 'Kumar', 'Verka', '.')]"
      ]
     },
     "execution_count": 97,
     "metadata": {},
     "output_type": "execute_result"
    }
   ],
   "source": [
    "news_ngrams = list(nltk.ngrams(news_tokens, 5))\n",
    "news_ngrams"
   ]
  },
  {
   "cell_type": "code",
   "execution_count": 98,
   "id": "60e5a062",
   "metadata": {},
   "outputs": [
    {
     "data": {
      "text/plain": [
       "'have'"
      ]
     },
     "execution_count": 98,
     "metadata": {},
     "output_type": "execute_result"
    }
   ],
   "source": [
    "from nltk.stem import PorterStemmer\n",
    "pst = PorterStemmer()\n",
    "pst.stem(\"having\")"
   ]
  },
  {
   "cell_type": "code",
   "execution_count": 100,
   "id": "1b1febeb",
   "metadata": {},
   "outputs": [
    {
     "name": "stdout",
     "output_type": "stream",
     "text": [
      "gave\n",
      "give\n",
      "given\n",
      "give\n"
     ]
    }
   ],
   "source": [
    "word_to_stems = [\"gave\",\"giving\",\"given\", \"give\"]\n",
    "for word in word_to_stems:\n",
    "    print(pst.stem(word))"
   ]
  },
  {
   "cell_type": "code",
   "execution_count": 102,
   "id": "ee94fd21",
   "metadata": {},
   "outputs": [
    {
     "name": "stdout",
     "output_type": "stream",
     "text": [
      "gav\n",
      "giv\n",
      "giv\n",
      "giv\n"
     ]
    }
   ],
   "source": [
    "from nltk.stem import LancasterStemmer\n",
    "pst = LancasterStemmer()\n",
    "for word in word_to_stems:\n",
    "    print(pst.stem(word))"
   ]
  },
  {
   "cell_type": "code",
   "execution_count": 104,
   "id": "a7b44e96",
   "metadata": {},
   "outputs": [
    {
     "name": "stdout",
     "output_type": "stream",
     "text": [
      "gave\n",
      "give\n",
      "given\n",
      "give\n"
     ]
    }
   ],
   "source": [
    "from nltk.stem import SnowballStemmer\n",
    "pst = SnowballStemmer(\"english\")\n",
    "for word in word_to_stems:\n",
    "    print(pst.stem(word))"
   ]
  },
  {
   "cell_type": "code",
   "execution_count": 106,
   "id": "df137b9a",
   "metadata": {},
   "outputs": [
    {
     "ename": "ImportError",
     "evalue": "cannot import name 'WordNetLematizer' from 'nltk.stem' (C:\\Users\\Vikki\\anaconda3\\lib\\site-packages\\nltk\\stem\\__init__.py)",
     "output_type": "error",
     "traceback": [
      "\u001b[1;31m---------------------------------------------------------------------------\u001b[0m",
      "\u001b[1;31mImportError\u001b[0m                               Traceback (most recent call last)",
      "\u001b[1;32m<ipython-input-106-44e2f4154eb0>\u001b[0m in \u001b[0;36m<module>\u001b[1;34m\u001b[0m\n\u001b[0;32m      1\u001b[0m \u001b[1;32mfrom\u001b[0m \u001b[0mnltk\u001b[0m\u001b[1;33m.\u001b[0m\u001b[0mstem\u001b[0m \u001b[1;32mimport\u001b[0m \u001b[0mwordnet\u001b[0m\u001b[1;33m\u001b[0m\u001b[1;33m\u001b[0m\u001b[0m\n\u001b[1;32m----> 2\u001b[1;33m \u001b[1;32mfrom\u001b[0m \u001b[0mnltk\u001b[0m\u001b[1;33m.\u001b[0m\u001b[0mstem\u001b[0m \u001b[1;32mimport\u001b[0m \u001b[0mWordNetLematizer\u001b[0m\u001b[1;33m\u001b[0m\u001b[1;33m\u001b[0m\u001b[0m\n\u001b[0m\u001b[0;32m      3\u001b[0m \u001b[0mpst\u001b[0m \u001b[1;33m=\u001b[0m \u001b[0mWordNetLematizer\u001b[0m\u001b[1;33m(\u001b[0m\u001b[1;33m)\u001b[0m\u001b[1;33m\u001b[0m\u001b[1;33m\u001b[0m\u001b[0m\n\u001b[0;32m      4\u001b[0m \u001b[1;32mfor\u001b[0m \u001b[0mword\u001b[0m \u001b[1;32min\u001b[0m \u001b[0mword_to_stems\u001b[0m\u001b[1;33m:\u001b[0m\u001b[1;33m\u001b[0m\u001b[1;33m\u001b[0m\u001b[0m\n\u001b[0;32m      5\u001b[0m     \u001b[0mprint\u001b[0m\u001b[1;33m(\u001b[0m\u001b[0mpst\u001b[0m\u001b[1;33m.\u001b[0m\u001b[0mstem\u001b[0m\u001b[1;33m(\u001b[0m\u001b[0mword\u001b[0m\u001b[1;33m)\u001b[0m\u001b[1;33m)\u001b[0m\u001b[1;33m\u001b[0m\u001b[1;33m\u001b[0m\u001b[0m\n",
      "\u001b[1;31mImportError\u001b[0m: cannot import name 'WordNetLematizer' from 'nltk.stem' (C:\\Users\\Vikki\\anaconda3\\lib\\site-packages\\nltk\\stem\\__init__.py)"
     ]
    }
   ],
   "source": [
    "from nltk.stem import wordnet\n",
    "from nltk.stem import WordNetLematizer\n",
    "pst = WordNetLematizer()\n",
    "for word in word_to_stems:\n",
    "    print(pst.stem(word))"
   ]
  },
  {
   "cell_type": "code",
   "execution_count": null,
   "id": "89aded7b",
   "metadata": {},
   "outputs": [],
   "source": []
  }
 ],
 "metadata": {
  "kernelspec": {
   "display_name": "Python 3",
   "language": "python",
   "name": "python3"
  },
  "language_info": {
   "codemirror_mode": {
    "name": "ipython",
    "version": 3
   },
   "file_extension": ".py",
   "mimetype": "text/x-python",
   "name": "python",
   "nbconvert_exporter": "python",
   "pygments_lexer": "ipython3",
   "version": "3.8.8"
  }
 },
 "nbformat": 4,
 "nbformat_minor": 5
}
