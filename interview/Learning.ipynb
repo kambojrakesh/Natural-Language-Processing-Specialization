{
 "cells": [
  {
   "cell_type": "code",
   "execution_count": 86,
   "id": "6db0c2ee",
   "metadata": {},
   "outputs": [],
   "source": [
    "my_string = \"test string test, test string testing, test string test string\".replace(\",\",\"\").split()\n",
    "map_dic={}\n",
    "\n",
    "for i in range(len(my_string)):\n",
    "    map_dic[my_string[i]]=map_dic.setdefault(my_string[i],0)+1\n",
    "\n",
    "#print(\"The total count of substring test is: \", count )"
   ]
  },
  {
   "cell_type": "code",
   "execution_count": 87,
   "id": "61ecb04d",
   "metadata": {},
   "outputs": [
    {
     "data": {
      "text/plain": [
       "5"
      ]
     },
     "execution_count": 87,
     "metadata": {},
     "output_type": "execute_result"
    }
   ],
   "source": [
    "map_dic[\"test\"]"
   ]
  },
  {
   "cell_type": "code",
   "execution_count": 91,
   "id": "0d624c77",
   "metadata": {},
   "outputs": [
    {
     "data": {
      "text/plain": [
       "defaultdict(int, {'test': 5, 'string': 4, 'testing': 1})"
      ]
     },
     "execution_count": 91,
     "metadata": {},
     "output_type": "execute_result"
    }
   ],
   "source": [
    "import collections \n",
    "map_dict = collections.defaultdict(int)\n",
    "\n",
    "for word in my_string:\n",
    "    map_dict[word]+=1\n",
    "    \n",
    "map_dict"
   ]
  },
  {
   "cell_type": "code",
   "execution_count": 92,
   "id": "bfc61170",
   "metadata": {},
   "outputs": [],
   "source": [
    "#print(\"The total count of substring test is: \", count )"
   ]
  },
  {
   "cell_type": "code",
   "execution_count": 94,
   "id": "5ee9a795",
   "metadata": {},
   "outputs": [
    {
     "name": "stdout",
     "output_type": "stream",
     "text": [
      "hello world!\n",
      "Guru99\n",
      "Value in built variable name is:   __main__\n"
     ]
    }
   ],
   "source": []
  },
  {
   "cell_type": "code",
   "execution_count": null,
   "id": "92bb89a4",
   "metadata": {},
   "outputs": [],
   "source": []
  },
  {
   "cell_type": "code",
   "execution_count": null,
   "id": "ffd04efa",
   "metadata": {},
   "outputs": [],
   "source": []
  },
  {
   "cell_type": "code",
   "execution_count": null,
   "id": "8d571073",
   "metadata": {},
   "outputs": [],
   "source": []
  }
 ],
 "metadata": {
  "kernelspec": {
   "display_name": "Python 3",
   "language": "python",
   "name": "python3"
  },
  "language_info": {
   "codemirror_mode": {
    "name": "ipython",
    "version": 3
   },
   "file_extension": ".py",
   "mimetype": "text/x-python",
   "name": "python",
   "nbconvert_exporter": "python",
   "pygments_lexer": "ipython3",
   "version": "3.8.8"
  }
 },
 "nbformat": 4,
 "nbformat_minor": 5
}
