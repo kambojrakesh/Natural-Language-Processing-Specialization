{
 "cells": [
  {
   "cell_type": "code",
   "execution_count": 1,
   "metadata": {},
   "outputs": [],
   "source": [
    "first_sentence = \"Data Science is the sexiest job of the 21st century\".split()\n",
    "second_sentence = \"machine learning is the key for data science\".split()\n",
    "\n",
    "com=first_sentence+second_sentence\n",
    "total=set(com)"
   ]
  },
  {
   "cell_type": "code",
   "execution_count": 2,
   "metadata": {},
   "outputs": [],
   "source": [
    "dictA=dict.fromkeys(total,0)"
   ]
  },
  {
   "cell_type": "code",
   "execution_count": 5,
   "metadata": {},
   "outputs": [],
   "source": [
    "### The number of times a word appears in a document divded by the total number of words in the document\n",
    "for word in first_sentence:\n",
    "    dictA[word]=dictA.setdefault(word, 0)+1\n",
    "dictA\n",
    "\n",
    "tfFirst={}\n",
    "length=len(first_sentence)\n",
    "for key,value in dictA.items():\n",
    "    tfFirst[key]=value/length"
   ]
  },
  {
   "cell_type": "code",
   "execution_count": 6,
   "metadata": {},
   "outputs": [
    {
     "data": {
      "text/plain": [
       "{'the': 0.4,\n",
       " 'science': 0.0,\n",
       " '21st': 0.2,\n",
       " 'machine': 0.0,\n",
       " 'for': 0.0,\n",
       " 'century': 0.2,\n",
       " 'learning': 0.0,\n",
       " 'job': 0.2,\n",
       " 'data': 0.0,\n",
       " 'Data': 0.2,\n",
       " 'Science': 0.2,\n",
       " 'is': 0.2,\n",
       " 'key': 0.0,\n",
       " 'sexiest': 0.2,\n",
       " 'of': 0.2}"
      ]
     },
     "execution_count": 6,
     "metadata": {},
     "output_type": "execute_result"
    }
   ],
   "source": [
    "tfFirst"
   ]
  },
  {
   "cell_type": "code",
   "execution_count": 5,
   "metadata": {},
   "outputs": [],
   "source": [
    "dictB=dict.fromkeys(total,0)"
   ]
  },
  {
   "cell_type": "code",
   "execution_count": 6,
   "metadata": {},
   "outputs": [],
   "source": [
    "for word in second_sentence:\n",
    "    dictB[word]=dictB.setdefault(word, 0)+1\n",
    "\n",
    "tfsecond={}\n",
    "length=len(second_sentence)\n",
    "for key,value in dictB.items():\n",
    "    tfsecond[key]=value/length"
   ]
  },
  {
   "cell_type": "code",
   "execution_count": 7,
   "metadata": {},
   "outputs": [
    {
     "data": {
      "text/plain": [
       "{'is': 0.125,\n",
       " 'key': 0.125,\n",
       " 'for': 0.125,\n",
       " 'of': 0.0,\n",
       " 'century': 0.0,\n",
       " 'the': 0.125,\n",
       " 'science': 0.125,\n",
       " '21st': 0.0,\n",
       " 'sexiest': 0.0,\n",
       " 'Data': 0.0,\n",
       " 'job': 0.0,\n",
       " 'learning': 0.125,\n",
       " 'data': 0.125,\n",
       " 'machine': 0.125,\n",
       " 'Science': 0.0}"
      ]
     },
     "execution_count": 7,
     "metadata": {},
     "output_type": "execute_result"
    }
   ],
   "source": [
    "tfsecond"
   ]
  },
  {
   "cell_type": "code",
   "execution_count": 8,
   "metadata": {},
   "outputs": [],
   "source": [
    "import math\n",
    "doclist=[dictA,dictB]"
   ]
  },
  {
   "cell_type": "code",
   "execution_count": 9,
   "metadata": {},
   "outputs": [
    {
     "data": {
      "text/plain": [
       "{'is': 0.0,\n",
       " 'key': 0.6931471805599453,\n",
       " 'for': 0.6931471805599453,\n",
       " 'of': 0.6931471805599453,\n",
       " 'century': 0.6931471805599453,\n",
       " 'the': 0.0,\n",
       " 'science': 0.6931471805599453,\n",
       " '21st': 0.6931471805599453,\n",
       " 'sexiest': 0.6931471805599453,\n",
       " 'Data': 0.6931471805599453,\n",
       " 'job': 0.6931471805599453,\n",
       " 'learning': 0.6931471805599453,\n",
       " 'data': 0.6931471805599453,\n",
       " 'machine': 0.6931471805599453,\n",
       " 'Science': 0.6931471805599453}"
      ]
     },
     "execution_count": 9,
     "metadata": {},
     "output_type": "execute_result"
    }
   ],
   "source": [
    "###Inverse data frequency determines the weight of rare words across all documents in the corpus.\n",
    "idf_dict=dict.fromkeys(doclist[0],0)\n",
    "N=len(doclist)\n",
    "for document in doclist:\n",
    "    for key, value in document.items():\n",
    "        if value>0:\n",
    "            idf_dict[key]+=1\n",
    "        \n",
    "for word,value in idf_dict.items():\n",
    "    idf_dict[word]=math.log(N/float(value))\n",
    "    \n",
    "idf_dict"
   ]
  },
  {
   "cell_type": "code",
   "execution_count": 10,
   "metadata": {},
   "outputs": [
    {
     "data": {
      "text/plain": [
       "{'is': 0.0,\n",
       " 'key': 0.0,\n",
       " 'for': 0.0,\n",
       " 'of': 0.06931471805599453,\n",
       " 'century': 0.06931471805599453,\n",
       " 'the': 0.0,\n",
       " 'science': 0.0,\n",
       " '21st': 0.06931471805599453,\n",
       " 'sexiest': 0.06931471805599453,\n",
       " 'Data': 0.06931471805599453,\n",
       " 'job': 0.06931471805599453,\n",
       " 'learning': 0.0,\n",
       " 'data': 0.0,\n",
       " 'machine': 0.0,\n",
       " 'Science': 0.06931471805599453}"
      ]
     },
     "execution_count": 10,
     "metadata": {},
     "output_type": "execute_result"
    }
   ],
   "source": [
    "tfidf={}\n",
    "for word,value in tfFirst.items():\n",
    "    tfidf[word]=value*idf_dict[word]  \n",
    "tfidf"
   ]
  },
  {
   "cell_type": "code",
   "execution_count": null,
   "metadata": {},
   "outputs": [],
   "source": []
  }
 ],
 "metadata": {
  "kernelspec": {
   "display_name": "Python 3",
   "language": "python",
   "name": "python3"
  },
  "language_info": {
   "codemirror_mode": {
    "name": "ipython",
    "version": 3
   },
   "file_extension": ".py",
   "mimetype": "text/x-python",
   "name": "python",
   "nbconvert_exporter": "python",
   "pygments_lexer": "ipython3",
   "version": "3.8.8"
  }
 },
 "nbformat": 4,
 "nbformat_minor": 4
}
