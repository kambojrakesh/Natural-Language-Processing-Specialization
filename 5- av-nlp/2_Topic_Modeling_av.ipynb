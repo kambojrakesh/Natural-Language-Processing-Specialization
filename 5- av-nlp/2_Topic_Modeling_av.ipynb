{
  "nbformat": 4,
  "nbformat_minor": 0,
  "metadata": {
    "colab": {
      "name": "Topic_Modeling.ipynb",
      "provenance": [],
      "collapsed_sections": []
    },
    "kernelspec": {
      "name": "python3",
      "display_name": "Python 3"
    },
    "language_info": {
      "name": "python"
    }
  },
  "cells": [
    {
      "cell_type": "code",
      "execution_count": null,
      "metadata": {
        "id": "uQ-FdeFNEw6_"
      },
      "outputs": [],
      "source": [
        "from sklearn.decomposition import LatentDirichletAllocation \n",
        "from sklearn.feature_extraction.text import CountVectorizer \n",
        "import numpy as np \n",
        "\n",
        "cvectorizer = CountVectorizer()"
      ]
    },
    {
      "cell_type": "code",
      "source": [
        "corpus = [\"i love cooking\", \"I have prepared a cake today\", \"he is going to a new place\", \"he will learn cooking there\"]"
      ],
      "metadata": {
        "id": "bXOoPOwjJkSq"
      },
      "execution_count": null,
      "outputs": []
    },
    {
      "cell_type": "code",
      "source": [
        "cvz = cvectorizer.fit_transform(corpus)"
      ],
      "metadata": {
        "id": "0exKgtAtJk7q"
      },
      "execution_count": null,
      "outputs": []
    },
    {
      "cell_type": "code",
      "source": [
        "cvz"
      ],
      "metadata": {
        "colab": {
          "base_uri": "https://localhost:8080/"
        },
        "id": "K3t182t8Js04",
        "outputId": "a54cf855-318b-4996-eb5f-e7fce449ce15"
      },
      "execution_count": null,
      "outputs": [
        {
          "output_type": "execute_result",
          "data": {
            "text/plain": [
              "<4x15 sparse matrix of type '<class 'numpy.int64'>'\n",
              "\twith 17 stored elements in Compressed Sparse Row format>"
            ]
          },
          "metadata": {},
          "execution_count": 7
        }
      ]
    },
    {
      "cell_type": "code",
      "source": [
        "vocab = cvectorizer.get_feature_names()\n",
        "vocab"
      ],
      "metadata": {
        "colab": {
          "base_uri": "https://localhost:8080/"
        },
        "id": "170hktQJJxYr",
        "outputId": "594d6607-4d9f-4304-d4b8-c32c56fd5678"
      },
      "execution_count": null,
      "outputs": [
        {
          "output_type": "stream",
          "name": "stderr",
          "text": [
            "/usr/local/lib/python3.7/dist-packages/sklearn/utils/deprecation.py:87: FutureWarning: Function get_feature_names is deprecated; get_feature_names is deprecated in 1.0 and will be removed in 1.2. Please use get_feature_names_out instead.\n",
            "  warnings.warn(msg, category=FutureWarning)\n"
          ]
        },
        {
          "output_type": "execute_result",
          "data": {
            "text/plain": [
              "['cake',\n",
              " 'cooking',\n",
              " 'going',\n",
              " 'have',\n",
              " 'he',\n",
              " 'is',\n",
              " 'learn',\n",
              " 'love',\n",
              " 'new',\n",
              " 'place',\n",
              " 'prepared',\n",
              " 'there',\n",
              " 'to',\n",
              " 'today',\n",
              " 'will']"
            ]
          },
          "metadata": {},
          "execution_count": 11
        }
      ]
    },
    {
      "cell_type": "code",
      "source": [
        "lda_model = LatentDirichletAllocation(n_components= 3, max_iter=20, random_state=20)\n",
        "X_topics = lda_model.fit_transform(cvz)\n",
        "topic_words = lda_model.components_"
      ],
      "metadata": {
        "id": "F8rarn_6KANR"
      },
      "execution_count": null,
      "outputs": []
    },
    {
      "cell_type": "code",
      "source": [
        "n_top_words = 4 \n",
        "\n",
        "for i, topic_dist in enumerate(topic_words):\n",
        "    sorted_topic_dist = np.argsort(topic_dist)\n",
        "    topic_words = np.array(vocab)[sorted_topic_dist]\n",
        "    topic_words = topic_words[:-n_top_words:-1]\n",
        "    print (\"Topic\", str(i+1), topic_words)"
      ],
      "metadata": {
        "colab": {
          "base_uri": "https://localhost:8080/"
        },
        "id": "7wJdza3ULCBq",
        "outputId": "4c847aa0-0de6-4d40-f1a7-974d6655e197"
      },
      "execution_count": null,
      "outputs": [
        {
          "output_type": "stream",
          "name": "stdout",
          "text": [
            "Topic 1 ['cooking' 'love' 'will']\n",
            "Topic 2 ['today' 'prepared' 'have']\n",
            "Topic 3 ['he' 'to' 'place']\n"
          ]
        }
      ]
    },
    {
      "cell_type": "code",
      "source": [
        "doc_topic = lda_model.transform(cvz)\n",
        "for n in range(doc_topic.shape[0]):\n",
        "    topic_doc = doc_topic[n].argmax()\n",
        "    print (\"Document\", n+1, \" -- Topic:\" ,topic_doc)"
      ],
      "metadata": {
        "colab": {
          "base_uri": "https://localhost:8080/"
        },
        "id": "jXqoEbauK4Em",
        "outputId": "29fa5033-b500-46a3-e518-28ef8ed1844c"
      },
      "execution_count": null,
      "outputs": [
        {
          "output_type": "stream",
          "name": "stdout",
          "text": [
            "Document 1  -- Topic: 0\n",
            "Document 2  -- Topic: 1\n",
            "Document 3  -- Topic: 2\n",
            "Document 4  -- Topic: 2\n"
          ]
        }
      ]
    }
  ]
}