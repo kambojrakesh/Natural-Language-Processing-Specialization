{
  "nbformat": 4,
  "nbformat_minor": 0,
  "metadata": {
    "colab": {
      "name": "1_1_Topic_modeling_with_Cron_Soup_presentation.ipynb",
      "provenance": [],
      "collapsed_sections": []
    },
    "kernelspec": {
      "name": "python3",
      "display_name": "Python 3"
    },
    "language_info": {
      "name": "python"
    }
  },
  "cells": [
    {
      "cell_type": "code",
      "execution_count": 1,
      "metadata": {
        "colab": {
          "base_uri": "https://localhost:8080/"
        },
        "id": "6SAuZUwJJBgs",
        "outputId": "5c98c2b5-9d21-42e4-fe74-a1d2bfea4598"
      },
      "outputs": [
        {
          "output_type": "stream",
          "name": "stdout",
          "text": [
            "Requirement already satisfied: beautifulsoup4 in /usr/local/lib/python3.7/dist-packages (4.6.3)\n",
            "Requirement already satisfied: requests in /usr/local/lib/python3.7/dist-packages (2.23.0)\n",
            "Requirement already satisfied: certifi>=2017.4.17 in /usr/local/lib/python3.7/dist-packages (from requests) (2021.10.8)\n",
            "Requirement already satisfied: chardet<4,>=3.0.2 in /usr/local/lib/python3.7/dist-packages (from requests) (3.0.4)\n",
            "Requirement already satisfied: idna<3,>=2.5 in /usr/local/lib/python3.7/dist-packages (from requests) (2.10)\n",
            "Requirement already satisfied: urllib3!=1.25.0,!=1.25.1,<1.26,>=1.21.1 in /usr/local/lib/python3.7/dist-packages (from requests) (1.24.3)\n",
            "Collecting schedule\n",
            "  Downloading schedule-1.1.0-py2.py3-none-any.whl (10 kB)\n",
            "Installing collected packages: schedule\n",
            "Successfully installed schedule-1.1.0\n"
          ]
        }
      ],
      "source": [
        "!pip install beautifulsoup4 requests\n",
        "!pip install schedule"
      ]
    },
    {
      "cell_type": "code",
      "source": [
        "import urllib.request,sys,time\n",
        "from bs4 import BeautifulSoup\n",
        "import requests\n",
        "import pandas as pd\n",
        "from time import sleep\n",
        "import schedule\n",
        "import pandas as pd\n",
        "import re\n",
        "from sklearn.decomposition import LatentDirichletAllocation\n",
        "from sklearn.feature_extraction.text import CountVectorizer\n",
        "import numpy as np\n",
        "import spacy\n",
        "import re\n",
        "\n",
        "import numpy as np\n",
        "import pandas as pd\n",
        "from IPython.display import display\n",
        "from tqdm import tqdm\n",
        "from collections import Counter\n",
        "import ast\n",
        "\n",
        "import matplotlib.pyplot as plt\n",
        "import matplotlib.mlab as mlab\n",
        "import seaborn as sb\n",
        "\n",
        "from sklearn.feature_extraction.text import CountVectorizer\n",
        "from textblob import TextBlob\n",
        "import scipy.stats as stats\n",
        "\n",
        "from sklearn.decomposition import TruncatedSVD\n",
        "from sklearn.decomposition import LatentDirichletAllocation\n",
        "from sklearn.manifold import TSNE\n",
        "\n",
        "from bokeh.plotting import figure, output_file, show\n",
        "from bokeh.models import Label\n",
        "from bokeh.io import output_notebook\n",
        "output_notebook()"
      ],
      "metadata": {
        "id": "SGAFaO0bI2qi"
      },
      "execution_count": 2,
      "outputs": []
    },
    {
      "cell_type": "code",
      "source": [
        "n_top_words = 60 \n",
        "pagesToGet= 1\n",
        "upperframe=[]  \n",
        "submeu_li = []\n",
        "\n",
        "nlp=spacy.load('en_core_web_sm')\n",
        "all_stopwords = nlp.Defaults.stop_words"
      ],
      "metadata": {
        "id": "3Jl_0GJZGYkD"
      },
      "execution_count": 3,
      "outputs": []
    },
    {
      "cell_type": "code",
      "source": [
        "def get_soup(url1):\n",
        "\n",
        "  page=\"\"\n",
        "  #an exception might be thrown, so the code should be in a try-except block\n",
        "  try:\n",
        "      #use the browser to get the url. This is suspicious command that might blow up.\n",
        "      page=requests.get(url1)                             # this might throw an exception if something goes wrong.\n",
        "\n",
        "  except Exception as e:                                   # this describes what to do if an exception is thrown\n",
        "      error_type, error_obj, error_info = sys.exc_info()      # get the exception information\n",
        "      print ('ERROR FOR LINK:',url1)                          #print the link that cause the problem\n",
        "      print (error_type, 'Line:', error_info.tb_lineno)     #print error info and line that threw the exception\n",
        "  \n",
        "  soup=BeautifulSoup(page.text,'html.parser')\n",
        "  return soup"
      ],
      "metadata": {
        "id": "0mP7iF3LJG3X"
      },
      "execution_count": 4,
      "outputs": []
    },
    {
      "cell_type": "code",
      "source": [
        "def get_news(): \n",
        "  url = \"https://www.npr.org/sections/news/\" \n",
        "  frame =[]\n",
        "  soup = get_soup(url)\n",
        "  links=soup.find_all(class_=\"item\")\n",
        "  \n",
        "  for j in links:\n",
        "    St = j.find(\"div\",attrs={'class':'item-info'}).find(\"h2\").text.strip()\n",
        "    La = j.find(\"p\").text.strip()\n",
        "    if(len(La) > 10 and len(St) > 10):\n",
        "      frame.append((St + \" \" +La))\n",
        "    \n",
        "  submeu=soup.find(class_=\"animated\")#.find_all(\"li\")\n",
        "\n",
        "  for a in submeu.find_all('a', href=True):\n",
        "    url = \"https://www.npr.org\" + a['href']\n",
        "    soup = get_soup(url)\n",
        "    links=soup.find_all(class_=\"item\")\n",
        "    for j in links:\n",
        "      Statement = j.find(\"div\",attrs={'class':'item-info'}).find(\"h2\").text.strip()\n",
        "      Label = j.find(\"p\").text.strip()\n",
        "      if(len(Label) > 10 and len(Statement) > 10):\n",
        "        frame.append((Statement+ \" \" +Label))\n",
        "\n",
        "  frame = [re.sub('\\n','', f) for f in frame]\n",
        "  frame = [re.sub(' +', ' ', f) for f in frame]\n",
        "  frame = list(set(frame))\n",
        "\n",
        "  return frame"
      ],
      "metadata": {
        "id": "aWeMN03uIKhK"
      },
      "execution_count": 5,
      "outputs": []
    },
    {
      "cell_type": "code",
      "source": [
        "def remove_mystopwords(sentence):\n",
        "    tokens = sentence.split(\" \")\n",
        "    tokens_filtered= [word for word in tokens if not word in all_stopwords]\n",
        "    return (\" \").join(tokens_filtered)"
      ],
      "metadata": {
        "id": "PaE-r8OZI-uG"
      },
      "execution_count": 6,
      "outputs": []
    },
    {
      "cell_type": "code",
      "source": [
        "def data_cleaning(frame):\n",
        "  en_core = spacy.load('en_core_web_sm')\n",
        "  #print(\"++++++++\", frame)\n",
        "  lemma_frame_ls = []\n",
        "  frame = [f.lower() for f in frame]\n",
        "  frame = [re.sub('hide caption','', word) for word in frame]\n",
        "  frame = [re.sub('getty images','', word) for word in frame]\n",
        "  frame = [re.sub('[^A-Za-z ]+', '', word) for word in frame]\n",
        "  #print(\"--------------\", frame)\n",
        "  frame =[remove_mystopwords(text) for text in frame]\n",
        "  #frame = ' '.join(frame)\n",
        "  #print(\"===========\", frame)\n",
        "  #doc=nlp(frame)\n",
        "  # Lemmatizing the text\n",
        "  #lemma_frame = [token.lemma_ for token in doc]\n",
        "  #lemma_frame_str = ' '.join(lemma_frame)\n",
        "\n",
        "  #lemma_frame_ls.append(lemma_frame_str)\n",
        "  frame = [re.sub(' +', ' ', word) for word in frame]\n",
        "\n",
        "  df = pd.DataFrame(frame, columns=['data'])\n",
        "  df[\"data_cleanned\"] = df['data'].apply(lambda x: \" \".join([y.lemma_ for y in en_core(x)]))\n",
        "\n",
        "  return df"
      ],
      "metadata": {
        "id": "9vQlhUuPxdA-"
      },
      "execution_count": 7,
      "outputs": []
    },
    {
      "cell_type": "code",
      "source": [
        "# Define helper functions\n",
        "def get_top_n_words(n_top_words, count_vectorizer, text_data):\n",
        "    '''\n",
        "    returns a tuple of the top n words in a sample and their \n",
        "    accompanying counts, given a CountVectorizer object and text sample\n",
        "    '''\n",
        "    vectorized_headlines = count_vectorizer.fit_transform(text_data.values)\n",
        "    vectorized_total = np.sum(vectorized_headlines, axis=0)\n",
        "    word_indices = np.flip(np.argsort(vectorized_total)[0,:], 1)\n",
        "    word_values = np.flip(np.sort(vectorized_total)[0,:],1)\n",
        "    \n",
        "    word_vectors = np.zeros((n_top_words, vectorized_headlines.shape[1]))\n",
        "    for i in range(n_top_words):\n",
        "        word_vectors[i,word_indices[0,i]] = 1\n",
        "\n",
        "    words = [word[0].encode('ascii').decode('utf-8') for \n",
        "             word in count_vectorizer.inverse_transform(word_vectors)]\n",
        "\n",
        "    return (words, word_values[0,:n_top_words].tolist()[0])"
      ],
      "metadata": {
        "id": "LB1KqXukcBJV"
      },
      "execution_count": 8,
      "outputs": []
    },
    {
      "cell_type": "code",
      "source": [
        "import matplotlib.pyplot as plt\n",
        "import matplotlib.mlab as mlab\n",
        "import seaborn as sb\n",
        "\n",
        "reindexed_data = data_cleaning(get_news())\n",
        "reindexed_data = reindexed_data['data_cleanned']\n",
        "\n",
        "count_vectorizer = CountVectorizer(stop_words='english')\n",
        "words, word_values = get_top_n_words(n_top_words=15,\n",
        "                                     count_vectorizer=count_vectorizer, \n",
        "                                     text_data=reindexed_data)\n",
        "\n",
        "fig, ax = plt.subplots(figsize=(16,8))\n",
        "ax.bar(range(len(words)), word_values);\n",
        "ax.set_xticks(range(len(words)));\n",
        "ax.set_xticklabels(words, rotation='vertical');\n",
        "ax.set_title('Top words in headlines dataset (excluding stop words)');\n",
        "ax.set_xlabel('Word');\n",
        "ax.set_ylabel('Number of occurences');\n",
        "plt.show()"
      ],
      "metadata": {
        "colab": {
          "base_uri": "https://localhost:8080/",
          "height": 546
        },
        "id": "aBM117AbaC2J",
        "outputId": "d108092a-8c69-4a8e-acfb-0c41e4c74ece"
      },
      "execution_count": 9,
      "outputs": [
        {
          "output_type": "display_data",
          "data": {
            "text/plain": [
              "<Figure size 1152x576 with 1 Axes>"
            ],
            "image/png": "[encoded data removed]"
          },
          "metadata": {
            "needs_background": "light"
          }
        }
      ]
    },
    {
      "cell_type": "code",
      "source": [
        "!python -m textblob.download_corpora"
      ],
      "metadata": {
        "colab": {
          "base_uri": "https://localhost:8080/"
        },
        "id": "DY0wwtKVd-6z",
        "outputId": "b47d856a-5904-43e4-aa1a-cc80a7857506"
      },
      "execution_count": 10,
      "outputs": [
        {
          "output_type": "stream",
          "name": "stdout",
          "text": [
            "[nltk_data] Downloading package brown to /root/nltk_data...\n",
            "[nltk_data]   Unzipping corpora/brown.zip.\n",
            "[nltk_data] Downloading package punkt to /root/nltk_data...\n",
            "[nltk_data]   Unzipping tokenizers/punkt.zip.\n",
            "[nltk_data] Downloading package wordnet to /root/nltk_data...\n",
            "[nltk_data]   Unzipping corpora/wordnet.zip.\n",
            "[nltk_data] Downloading package averaged_perceptron_tagger to\n",
            "[nltk_data]     /root/nltk_data...\n",
            "[nltk_data]   Unzipping taggers/averaged_perceptron_tagger.zip.\n",
            "[nltk_data] Downloading package conll2000 to /root/nltk_data...\n",
            "[nltk_data]   Unzipping corpora/conll2000.zip.\n",
            "[nltk_data] Downloading package movie_reviews to /root/nltk_data...\n",
            "[nltk_data]   Unzipping corpora/movie_reviews.zip.\n",
            "Finished.\n"
          ]
        }
      ]
    },
    {
      "cell_type": "code",
      "source": [
        "from textblob import TextBlob\n",
        "import scipy.stats as stats\n",
        "tagged_headlines = [TextBlob(reindexed_data[i]).pos_tags for i in range(reindexed_data.shape[0])]"
      ],
      "metadata": {
        "id": "iqo9EsTYcHqE"
      },
      "execution_count": 11,
      "outputs": []
    },
    {
      "cell_type": "code",
      "source": [
        "tagged_headlines_df = pd.DataFrame({'tags':tagged_headlines})\n",
        "\n",
        "word_counts = [] \n",
        "pos_counts = {}\n",
        "\n",
        "for headline in tagged_headlines_df[u'tags']:\n",
        "    word_counts.append(len(headline))\n",
        "    for tag in headline:\n",
        "        if tag[1] in pos_counts:\n",
        "            pos_counts[tag[1]] += 1\n",
        "        else:\n",
        "            pos_counts[tag[1]] = 1\n",
        "            \n",
        "print('Total number of words: ', np.sum(word_counts))\n",
        "print('Mean number of words per headline: ', np.mean(word_counts))"
      ],
      "metadata": {
        "colab": {
          "base_uri": "https://localhost:8080/"
        },
        "id": "W21gZ42Qdu6X",
        "outputId": "d9617e70-fd12-41f5-bc2a-831ffd887dc2"
      },
      "execution_count": 12,
      "outputs": [
        {
          "output_type": "stream",
          "name": "stdout",
          "text": [
            "Total number of words:  3971\n",
            "Mean number of words per headline:  24.213414634146343\n"
          ]
        }
      ]
    },
    {
      "cell_type": "code",
      "source": [
        "y = stats.norm.pdf(np.linspace(0,50,70), np.mean(word_counts), np.std(word_counts))\n",
        "\n",
        "fig, ax = plt.subplots(figsize=(18,8))\n",
        "ax.hist(word_counts, bins=range(1,50), density=True);\n",
        "ax.plot(np.linspace(0,50,70), y, 'r--', linewidth=1);\n",
        "ax.set_title('Headline word lengths');\n",
        "ax.set_xticks(range(1,50));\n",
        "ax.set_xlabel('Number of words');\n",
        "plt.show()"
      ],
      "metadata": {
        "colab": {
          "base_uri": "https://localhost:8080/",
          "height": 513
        },
        "id": "KTMsJ5DweVMB",
        "outputId": "0743ff0b-ca19-4a18-87d5-eb79139e3eff"
      },
      "execution_count": 13,
      "outputs": [
        {
          "output_type": "display_data",
          "data": {
            "text/plain": [
              "<Figure size 1296x576 with 1 Axes>"
            ],
            "image/png": "[encoded data removed]"
          },
          "metadata": {
            "needs_background": "light"
          }
        }
      ]
    },
    {
      "cell_type": "code",
      "source": [
        "pos_sorted_types = sorted(pos_counts, key=pos_counts.__getitem__, reverse=True)\n",
        "pos_sorted_counts = sorted(pos_counts.values(), reverse=True)\n",
        "\n",
        "fig, ax = plt.subplots(figsize=(18,8))\n",
        "ax.bar(range(len(pos_counts)), pos_sorted_counts);\n",
        "ax.set_xticks(range(len(pos_counts)));\n",
        "ax.set_xticklabels(pos_sorted_types);\n",
        "ax.set_title('Part-of-Speech Tagging for Headlines Corpus');\n",
        "ax.set_xlabel('Type of Word');"
      ],
      "metadata": {
        "colab": {
          "base_uri": "https://localhost:8080/",
          "height": 513
        },
        "id": "OCmUD-oyyccx",
        "outputId": "b10f25d8-1511-4157-d89c-e46159ce312c"
      },
      "execution_count": 14,
      "outputs": [
        {
          "output_type": "display_data",
          "data": {
            "text/plain": [
              "<Figure size 1296x576 with 1 Axes>"
            ],
            "image/png": "[encoded data removed]"
          },
          "metadata": {
            "needs_background": "light"
          }
        }
      ]
    },
    {
      "cell_type": "code",
      "source": [
        "count_vectorizer = CountVectorizer(stop_words='english', max_features=40000)\n",
        "#small_text_sample = reindexed_data.sample(n=10000, random_state=0).values\n",
        "\n",
        "print('Headline before vectorization: {}'.format(reindexed_data[123]))\n",
        "\n",
        "document_term_matrix = count_vectorizer.fit_transform(reindexed_data)\n",
        "\n",
        "print('Headline after vectorization: \\n{}'.format(document_term_matrix[123]))"
      ],
      "metadata": {
        "colab": {
          "base_uri": "https://localhost:8080/"
        },
        "id": "SkHkxsFb1vsK",
        "outputId": "c7c0aa98-9d9c-48f4-bad9-664e79e94481"
      },
      "execution_count": 15,
      "outputs": [
        {
          "output_type": "stream",
          "name": "stdout",
          "text": [
            "Headline before vectorization: complex effort hold vladimir putin accountable war crimes father oleksandr yarmolchyk stand inside demolish nave orthodox church peremoha ukraine april say russians bomb church hold franco ordoez npr\n",
            "Headline after vectorization: \n",
            "  (0, 1555)\t1\n",
            "  (0, 1912)\t1\n",
            "  (0, 1847)\t1\n",
            "  (0, 90)\t1\n",
            "  (0, 541)\t1\n",
            "  (0, 856)\t1\n",
            "  (0, 800)\t2\n",
            "  (0, 1220)\t1\n",
            "  (0, 1680)\t1\n",
            "  (0, 299)\t2\n",
            "  (0, 349)\t1\n",
            "  (0, 1899)\t1\n",
            "  (0, 1405)\t1\n",
            "  (0, 13)\t1\n",
            "  (0, 394)\t1\n",
            "  (0, 626)\t1\n",
            "  (0, 1244)\t1\n",
            "  (0, 1964)\t1\n",
            "  (0, 448)\t1\n",
            "  (0, 1183)\t1\n",
            "  (0, 1254)\t1\n",
            "  (0, 1297)\t1\n",
            "  (0, 1539)\t1\n",
            "  (0, 182)\t1\n",
            "  (0, 683)\t1\n",
            "  (0, 1252)\t1\n"
          ]
        }
      ]
    },
    {
      "cell_type": "code",
      "source": [
        "\n",
        "n_topics = 20\n",
        "lsa_model = TruncatedSVD(n_components=n_topics)\n",
        "lsa_topic_matrix = lsa_model.fit_transform(document_term_matrix)"
      ],
      "metadata": {
        "id": "YqeE3prK1dLz"
      },
      "execution_count": 16,
      "outputs": []
    },
    {
      "cell_type": "code",
      "source": [
        "# Define helper functions\n",
        "def get_keys(topic_matrix):\n",
        "    '''\n",
        "    returns an integer list of predicted topic \n",
        "    categories for a given topic matrix\n",
        "    '''\n",
        "    keys = topic_matrix.argmax(axis=1).tolist()\n",
        "    return keys\n",
        "\n",
        "def keys_to_counts(keys):\n",
        "    '''\n",
        "    returns a tuple of topic categories and their \n",
        "    accompanying magnitudes for a given list of keys\n",
        "    '''\n",
        "    count_pairs = Counter(keys).items()\n",
        "    categories = [pair[0] for pair in count_pairs]\n",
        "    counts = [pair[1] for pair in count_pairs]\n",
        "    return (categories, counts)"
      ],
      "metadata": {
        "id": "WtMIFykI1g_v"
      },
      "execution_count": 17,
      "outputs": []
    },
    {
      "cell_type": "code",
      "source": [
        "lsa_keys = get_keys(lsa_topic_matrix)\n",
        "lsa_categories, lsa_counts = keys_to_counts(lsa_keys)"
      ],
      "metadata": {
        "id": "fFamSaQv1iTQ"
      },
      "execution_count": 18,
      "outputs": []
    },
    {
      "cell_type": "code",
      "source": [
        "# Define helper functions\n",
        "def get_top_n_words(n, keys, document_term_matrix, count_vectorizer):\n",
        "    '''\n",
        "    returns a list of n_topic strings, where each string contains the n most common \n",
        "    words in a predicted category, in order\n",
        "    '''\n",
        "    top_word_indices = []\n",
        "    for topic in range(n_topics):\n",
        "        temp_vector_sum = 0\n",
        "        for i in range(len(keys)):\n",
        "            if keys[i] == topic:\n",
        "                temp_vector_sum += document_term_matrix[i]\n",
        "        if not isinstance(temp_vector_sum, int):\n",
        "          temp_vector_sum = temp_vector_sum.toarray()\n",
        "          top_n_word_indices = np.flip(np.argsort(temp_vector_sum)[0][-n:],0)\n",
        "          top_word_indices.append(top_n_word_indices)   \n",
        "    top_words = []\n",
        "    for topic in top_word_indices:\n",
        "        topic_words = []\n",
        "        for index in topic:\n",
        "            temp_word_vector = np.zeros((1,document_term_matrix.shape[1]))\n",
        "            temp_word_vector[:,index] = 1\n",
        "            the_word = count_vectorizer.inverse_transform(temp_word_vector)[0][0]\n",
        "            topic_words.append(the_word.encode('ascii').decode('utf-8'))\n",
        "        top_words.append(\" \".join(topic_words))         \n",
        "    return top_words"
      ],
      "metadata": {
        "id": "FqMkT7Ah2jTJ"
      },
      "execution_count": 19,
      "outputs": []
    },
    {
      "cell_type": "code",
      "source": [
        "top_n_words_lsa = get_top_n_words(3, lsa_keys, document_term_matrix, count_vectorizer)\n",
        "\n",
        "for i in range(len(top_n_words_lsa)):\n",
        "    print(\"Topic {}: \".format(i+1), top_n_words_lsa[i])"
      ],
      "metadata": {
        "colab": {
          "base_uri": "https://localhost:8080/"
        },
        "id": "mZ4hnDPs2mbv",
        "outputId": "203beb21-2031-4eb8-c1b9-3e41e6f82cf5"
      },
      "execution_count": 20,
      "outputs": [
        {
          "output_type": "stream",
          "name": "stdout",
          "text": [
            "Topic 1:  roe supreme court\n",
            "Topic 2:  new york city\n",
            "Topic 3:  ohio primary senate\n",
            "Topic 4:  oil russian mariupol\n",
            "Topic 5:  grigsby makeup erika\n",
            "Topic 6:  house secretary biden\n",
            "Topic 7:  abortion speak dc\n",
            "Topic 8:  climate change city\n",
            "Topic 9:  dam water photo\n",
            "Topic 10:  free turbotax settlement\n",
            "Topic 11:  covid people kill\n",
            "Topic 12:  shirt argentina wear\n",
            "Topic 13:  health home mask\n",
            "Topic 14:  nasa sample solar\n",
            "Topic 15:  march place church\n",
            "Topic 16:  hari kondabolu antoine\n",
            "Topic 17:  scientist human emotion\n",
            "Topic 18:  hospital capitol charge\n",
            "Topic 19:  race tulsa npr\n",
            "Topic 20:  texas say fossil\n"
          ]
        }
      ]
    },
    {
      "cell_type": "code",
      "source": [
        "top_3_words = get_top_n_words(3, lsa_keys, document_term_matrix, count_vectorizer)\n",
        "labels = ['Topic {}: \\n'.format(i) + top_3_words[i] for i in lsa_categories]\n",
        "\n",
        "fig, ax = plt.subplots(figsize=(16,8))\n",
        "ax.bar(lsa_categories, lsa_counts);\n",
        "ax.set_xticks(lsa_categories);\n",
        "ax.set_xticklabels(labels);\n",
        "ax.set_ylabel('Number of headlines');\n",
        "ax.set_title('LSA topic counts');\n",
        "plt.show()"
      ],
      "metadata": {
        "colab": {
          "base_uri": "https://localhost:8080/",
          "height": 510
        },
        "id": "JVQDxO0a2pRb",
        "outputId": "9aea2fcc-cd06-4757-f883-1aac7f000dce"
      },
      "execution_count": 21,
      "outputs": [
        {
          "output_type": "display_data",
          "data": {
            "text/plain": [
              "<Figure size 1152x576 with 1 Axes>"
            ],
            "image/png": "[encoded data removed]"
          },
          "metadata": {
            "needs_background": "light"
          }
        }
      ]
    },
    {
      "cell_type": "code",
      "source": [
        "tsne_lsa_model = TSNE(n_components=2, perplexity=50, learning_rate=100, \n",
        "                        n_iter=2000, verbose=1, random_state=0, angle=0.75)\n",
        "tsne_lsa_vectors = tsne_lsa_model.fit_transform(lsa_topic_matrix)"
      ],
      "metadata": {
        "colab": {
          "base_uri": "https://localhost:8080/"
        },
        "id": "78QyC6202szg",
        "outputId": "9c80f40b-21ee-4b63-8eb7-902b9f5b3916"
      },
      "execution_count": 22,
      "outputs": [
        {
          "output_type": "stream",
          "name": "stderr",
          "text": [
            "/usr/local/lib/python3.7/dist-packages/sklearn/manifold/_t_sne.py:783: FutureWarning: The default initialization in TSNE will change from 'random' to 'pca' in 1.2.\n",
            "  FutureWarning,\n"
          ]
        },
        {
          "output_type": "stream",
          "name": "stdout",
          "text": [
            "[t-SNE] Computing 151 nearest neighbors...\n",
            "[t-SNE] Indexed 164 samples in 0.001s...\n",
            "[t-SNE] Computed neighbors for 164 samples in 0.008s...\n",
            "[t-SNE] Computed conditional probabilities for sample 164 / 164\n",
            "[t-SNE] Mean sigma: 0.972190\n",
            "[t-SNE] KL divergence after 250 iterations with early exaggeration: 53.659302\n",
            "[t-SNE] KL divergence after 1250 iterations: 0.254558\n"
          ]
        }
      ]
    },
    {
      "cell_type": "code",
      "source": [
        "# Define helper functions\n",
        "def get_mean_topic_vectors(keys, two_dim_vectors):\n",
        "    '''\n",
        "    returns a list of centroid vectors from each predicted topic category\n",
        "    '''\n",
        "    mean_topic_vectors = []\n",
        "    for t in range(n_topics):\n",
        "        articles_in_that_topic = []\n",
        "        for i in range(len(keys)):\n",
        "            if keys[i] == t:\n",
        "                articles_in_that_topic.append(two_dim_vectors[i])    \n",
        "        \n",
        "        articles_in_that_topic = np.vstack(articles_in_that_topic)\n",
        "        mean_article_in_that_topic = np.mean(articles_in_that_topic, axis=0)\n",
        "        mean_topic_vectors.append(mean_article_in_that_topic)\n",
        "    return mean_topic_vectors"
      ],
      "metadata": {
        "id": "-8swafBo2vgs"
      },
      "execution_count": 23,
      "outputs": []
    },
    {
      "cell_type": "code",
      "source": [
        "colormap = np.array([\n",
        "    \"#1f77b4\", \"#aec7e8\", \"#ff7f0e\", \"#ffbb78\", \"#2ca02c\",\n",
        "    \"#98df8a\", \"#d62728\", \"#ff9896\", \"#9467bd\", \"#c5b0d5\",\n",
        "    \"#8c564b\", \"#c49c94\", \"#e377c2\", \"#f7b6d2\", \"#7f7f7f\",\n",
        "    \"#c7c7c7\", \"#bcbd22\", \"#dbdb8d\", \"#17becf\", \"#9edae5\" ])\n",
        "colormap = colormap[:n_topics]"
      ],
      "metadata": {
        "id": "GSPbFfk92xTz"
      },
      "execution_count": 24,
      "outputs": []
    },
    {
      "cell_type": "code",
      "source": [
        "top_3_words_lsa = get_top_n_words(3, lsa_keys, document_term_matrix, count_vectorizer)\n",
        "lsa_mean_topic_vectors = get_mean_topic_vectors(lsa_keys, tsne_lsa_vectors)\n",
        "\n",
        "plot = figure(title=\"t-SNE Clustering of {} LSA Topics\".format(n_topics), plot_width=700, plot_height=700)\n",
        "plot.scatter(x=tsne_lsa_vectors[:,0], y=tsne_lsa_vectors[:,1], color=colormap[lsa_keys])\n",
        "\n",
        "for t in range(n_topics):\n",
        "    label = Label(x=lsa_mean_topic_vectors[t][0], y=lsa_mean_topic_vectors[t][1], \n",
        "                  text=top_3_words_lsa[t], text_color=colormap[t])\n",
        "    plot.add_layout(label)\n",
        "    \n",
        "show(plot)"
      ],
      "metadata": {
        "colab": {
          "base_uri": "https://localhost:8080/",
          "height": 717
        },
        "id": "_z3sod3C2zVP",
        "outputId": "2487133c-730a-435d-ecae-db3f8ed6c22f"
      },
      "execution_count": 25,
      "outputs": [
        {
          "output_type": "display_data",
          "data": {
            "application/javascript": [
              "\n",
              "(function(root) {\n",
              "  function now() {\n",
              "    return new Date();\n",
              "  }\n",
              "\n",
              "  var force = true;\n",
              "\n",
              "  if (typeof root._bokeh_onload_callbacks === \"undefined\" || force === true) {\n",
              "    root._bokeh_onload_callbacks = [];\n",
              "    root._bokeh_is_loading = undefined;\n",
              "  }\n",
              "\n",
              "  var JS_MIME_TYPE = 'application/javascript';\n",
              "  var HTML_MIME_TYPE = 'text/html';\n",
              "  var EXEC_MIME_TYPE = 'application/vnd.bokehjs_exec.v0+json';\n",
              "  var CLASS_NAME = 'output_bokeh rendered_html';\n",
              "\n",
              "  /**\n",
              "   * Render data to the DOM node\n",
              "   */\n",
              "  function render(props, node) {\n",
              "    var script = document.createElement(\"script\");\n",
              "    node.appendChild(script);\n",
              "  }\n",
              "\n",
              "  /**\n",
              "   * Handle when an output is cleared or removed\n",
              "   */\n",
              "  function handleClearOutput(event, handle) {\n",
              "    var cell = handle.cell;\n",
              "\n",
              "    var id = cell.output_area._bokeh_element_id;\n",
              "    var server_id = cell.output_area._bokeh_server_id;\n",
              "    // Clean up Bokeh references\n",
              "    if (id != null && id in Bokeh.index) {\n",
              "      Bokeh.index[id].model.document.clear();\n",
              "      delete Bokeh.index[id];\n",
              "    }\n",
              "\n",
              "    if (server_id !== undefined) {\n",
              "      // Clean up Bokeh references\n",
              "      var cmd = \"from bokeh.io.state import curstate; print(curstate().uuid_to_server['\" + server_id + \"'].get_sessions()[0].document.roots[0]._id)\";\n",
              "      cell.notebook.kernel.execute(cmd, {\n",
              "        iopub: {\n",
              "          output: function(msg) {\n",
              "            var id = msg.content.text.trim();\n",
              "            if (id in Bokeh.index) {\n",
              "              Bokeh.index[id].model.document.clear();\n",
              "              delete Bokeh.index[id];\n",
              "            }\n",
              "          }\n",
              "        }\n",
              "      });\n",
              "      // Destroy server and session\n",
              "      var cmd = \"import bokeh.io.notebook as ion; ion.destroy_server('\" + server_id + \"')\";\n",
              "      cell.notebook.kernel.execute(cmd);\n",
              "    }\n",
              "  }\n",
              "\n",
              "  /**\n",
              "   * Handle when a new output is added\n",
              "   */\n",
              "  function handleAddOutput(event, handle) {\n",
              "    var output_area = handle.output_area;\n",
              "    var output = handle.output;\n",
              "\n",
              "    // limit handleAddOutput to display_data with EXEC_MIME_TYPE content only\n",
              "    if ((output.output_type != \"display_data\") || (!Object.prototype.hasOwnProperty.call(output.data, EXEC_MIME_TYPE))) {\n",
              "      return\n",
              "    }\n",
              "\n",
              "    var toinsert = output_area.element.find(\".\" + CLASS_NAME.split(' ')[0]);\n",
              "\n",
              "    if (output.metadata[EXEC_MIME_TYPE][\"id\"] !== undefined) {\n",
              "      toinsert[toinsert.length - 1].firstChild.textContent = output.data[JS_MIME_TYPE];\n",
              "      // store reference to embed id on output_area\n",
              "      output_area._bokeh_element_id = output.metadata[EXEC_MIME_TYPE][\"id\"];\n",
              "    }\n",
              "    if (output.metadata[EXEC_MIME_TYPE][\"server_id\"] !== undefined) {\n",
              "      var bk_div = document.createElement(\"div\");\n",
              "      bk_div.innerHTML = output.data[HTML_MIME_TYPE];\n",
              "      var script_attrs = bk_div.children[0].attributes;\n",
              "      for (var i = 0; i < script_attrs.length; i++) {\n",
              "        toinsert[toinsert.length - 1].firstChild.setAttribute(script_attrs[i].name, script_attrs[i].value);\n",
              "        toinsert[toinsert.length - 1].firstChild.textContent = bk_div.children[0].textContent\n",
              "      }\n",
              "      // store reference to server id on output_area\n",
              "      output_area._bokeh_server_id = output.metadata[EXEC_MIME_TYPE][\"server_id\"];\n",
              "    }\n",
              "  }\n",
              "\n",
              "  function register_renderer(events, OutputArea) {\n",
              "\n",
              "    function append_mime(data, metadata, element) {\n",
              "      // create a DOM node to render to\n",
              "      var toinsert = this.create_output_subarea(\n",
              "        metadata,\n",
              "        CLASS_NAME,\n",
              "        EXEC_MIME_TYPE\n",
              "      );\n",
              "      this.keyboard_manager.register_events(toinsert);\n",
              "      // Render to node\n",
              "      var props = {data: data, metadata: metadata[EXEC_MIME_TYPE]};\n",
              "      render(props, toinsert[toinsert.length - 1]);\n",
              "      element.append(toinsert);\n",
              "      return toinsert\n",
              "    }\n",
              "\n",
              "    /* Handle when an output is cleared or removed */\n",
              "    events.on('clear_output.CodeCell', handleClearOutput);\n",
              "    events.on('delete.Cell', handleClearOutput);\n",
              "\n",
              "    /* Handle when a new output is added */\n",
              "    events.on('output_added.OutputArea', handleAddOutput);\n",
              "\n",
              "    /**\n",
              "     * Register the mime type and append_mime function with output_area\n",
              "     */\n",
              "    OutputArea.prototype.register_mime_type(EXEC_MIME_TYPE, append_mime, {\n",
              "      /* Is output safe? */\n",
              "      safe: true,\n",
              "      /* Index of renderer in `output_area.display_order` */\n",
              "      index: 0\n",
              "    });\n",
              "  }\n",
              "\n",
              "  // register the mime type if in Jupyter Notebook environment and previously unregistered\n",
              "  if (root.Jupyter !== undefined) {\n",
              "    var events = require('base/js/events');\n",
              "    var OutputArea = require('notebook/js/outputarea').OutputArea;\n",
              "\n",
              "    if (OutputArea.prototype.mime_types().indexOf(EXEC_MIME_TYPE) == -1) {\n",
              "      register_renderer(events, OutputArea);\n",
              "    }\n",
              "  }\n",
              "\n",
              "  \n",
              "  if (typeof (root._bokeh_timeout) === \"undefined\" || force === true) {\n",
              "    root._bokeh_timeout = Date.now() + 5000;\n",
              "    root._bokeh_failed_load = false;\n",
              "  }\n",
              "\n",
              "  var NB_LOAD_WARNING = {'data': {'text/html':\n",
              "     \"<div style='background-color: #fdd'>\\n\"+\n",
              "     \"<p>\\n\"+\n",
              "     \"BokehJS does not appear to have successfully loaded. If loading BokehJS from CDN, this \\n\"+\n",
              "     \"may be due to a slow or bad network connection. Possible fixes:\\n\"+\n",
              "     \"</p>\\n\"+\n",
              "     \"<ul>\\n\"+\n",
              "     \"<li>re-rerun `output_notebook()` to attempt to load from CDN again, or</li>\\n\"+\n",
              "     \"<li>use INLINE resources instead, as so:</li>\\n\"+\n",
              "     \"</ul>\\n\"+\n",
              "     \"<code>\\n\"+\n",
              "     \"from bokeh.resources import INLINE\\n\"+\n",
              "     \"output_notebook(resources=INLINE)\\n\"+\n",
              "     \"</code>\\n\"+\n",
              "     \"</div>\"}};\n",
              "\n",
              "  function display_loaded() {\n",
              "    var el = document.getElementById(null);\n",
              "    if (el != null) {\n",
              "      el.textContent = \"BokehJS is loading...\";\n",
              "    }\n",
              "    if (root.Bokeh !== undefined) {\n",
              "      if (el != null) {\n",
              "        el.textContent = \"BokehJS \" + root.Bokeh.version + \" successfully loaded.\";\n",
              "      }\n",
              "    } else if (Date.now() < root._bokeh_timeout) {\n",
              "      setTimeout(display_loaded, 100)\n",
              "    }\n",
              "  }\n",
              "\n",
              "\n",
              "  function run_callbacks() {\n",
              "    try {\n",
              "      root._bokeh_onload_callbacks.forEach(function(callback) {\n",
              "        if (callback != null)\n",
              "          callback();\n",
              "      });\n",
              "    } finally {\n",
              "      delete root._bokeh_onload_callbacks\n",
              "    }\n",
              "    console.debug(\"Bokeh: all callbacks have finished\");\n",
              "  }\n",
              "\n",
              "  function load_libs(css_urls, js_urls, callback) {\n",
              "    if (css_urls == null) css_urls = [];\n",
              "    if (js_urls == null) js_urls = [];\n",
              "\n",
              "    root._bokeh_onload_callbacks.push(callback);\n",
              "    if (root._bokeh_is_loading > 0) {\n",
              "      console.debug(\"Bokeh: BokehJS is being loaded, scheduling callback at\", now());\n",
              "      return null;\n",
              "    }\n",
              "    if (js_urls == null || js_urls.length === 0) {\n",
              "      run_callbacks();\n",
              "      return null;\n",
              "    }\n",
              "    console.debug(\"Bokeh: BokehJS not loaded, scheduling load and callback at\", now());\n",
              "    root._bokeh_is_loading = css_urls.length + js_urls.length;\n",
              "\n",
              "    function on_load() {\n",
              "      root._bokeh_is_loading--;\n",
              "      if (root._bokeh_is_loading === 0) {\n",
              "        console.debug(\"Bokeh: all BokehJS libraries/stylesheets loaded\");\n",
              "        run_callbacks()\n",
              "      }\n",
              "    }\n",
              "\n",
              "    function on_error(url) {\n",
              "      console.error(\"failed to load \" + url);\n",
              "    }\n",
              "\n",
              "    for (let i = 0; i < css_urls.length; i++) {\n",
              "      const url = css_urls[i];\n",
              "      const element = document.createElement(\"link\");\n",
              "      element.onload = on_load;\n",
              "      element.onerror = on_error.bind(null, url);\n",
              "      element.rel = \"stylesheet\";\n",
              "      element.type = \"text/css\";\n",
              "      element.href = url;\n",
              "      console.debug(\"Bokeh: injecting link tag for BokehJS stylesheet: \", url);\n",
              "      document.body.appendChild(element);\n",
              "    }\n",
              "\n",
              "    const hashes = {\"https://cdn.bokeh.org/bokeh/release/bokeh-2.3.3.min.js\": \"dM3QQsP+wXdHg42wTqW85BjZQdLNNIXqlPw/BgKoExPmTG7ZLML4EGqLMfqHT6ON\", \"https://cdn.bokeh.org/bokeh/release/bokeh-tables-2.3.3.min.js\": \"8x57I4YuIfu8XyZfFo0XVr2WAT8EK4rh/uDe3wF7YuW2FNUSNEpJbsPaB1nJ2fz2\", \"https://cdn.bokeh.org/bokeh/release/bokeh-widgets-2.3.3.min.js\": \"3QTqdz9LyAm2i0sG5XTePsHec3UHWwVsrOL68SYRoAXsafvfAyqtQ+h440+qIBhS\"};\n",
              "\n",
              "    for (let i = 0; i < js_urls.length; i++) {\n",
              "      const url = js_urls[i];\n",
              "      const element = document.createElement('script');\n",
              "      element.onload = on_load;\n",
              "      element.onerror = on_error.bind(null, url);\n",
              "      element.async = false;\n",
              "      element.src = url;\n",
              "      if (url in hashes) {\n",
              "        element.crossOrigin = \"anonymous\";\n",
              "        element.integrity = \"sha384-\" + hashes[url];\n",
              "      }\n",
              "      console.debug(\"Bokeh: injecting script tag for BokehJS library: \", url);\n",
              "      document.head.appendChild(element);\n",
              "    }\n",
              "  };\n",
              "\n",
              "  function inject_raw_css(css) {\n",
              "    const element = document.createElement(\"style\");\n",
              "    element.appendChild(document.createTextNode(css));\n",
              "    document.body.appendChild(element);\n",
              "  }\n",
              "\n",
              "  \n",
              "  var js_urls = [\"https://cdn.bokeh.org/bokeh/release/bokeh-2.3.3.min.js\", \"https://cdn.bokeh.org/bokeh/release/bokeh-widgets-2.3.3.min.js\", \"https://cdn.bokeh.org/bokeh/release/bokeh-tables-2.3.3.min.js\"];\n",
              "  var css_urls = [];\n",
              "  \n",
              "\n",
              "  var inline_js = [\n",
              "    function(Bokeh) {\n",
              "      Bokeh.set_log_level(\"info\");\n",
              "    },\n",
              "    function(Bokeh) {\n",
              "    \n",
              "    \n",
              "    }\n",
              "  ];\n",
              "\n",
              "  function run_inline_js() {\n",
              "    \n",
              "    if (root.Bokeh !== undefined || force === true) {\n",
              "      \n",
              "    for (var i = 0; i < inline_js.length; i++) {\n",
              "      inline_js[i].call(root, root.Bokeh);\n",
              "    }\n",
              "    } else if (Date.now() < root._bokeh_timeout) {\n",
              "      setTimeout(run_inline_js, 100);\n",
              "    } else if (!root._bokeh_failed_load) {\n",
              "      console.log(\"Bokeh: BokehJS failed to load within specified timeout.\");\n",
              "      root._bokeh_failed_load = true;\n",
              "    } else if (force !== true) {\n",
              "      var cell = $(document.getElementById(null)).parents('.cell').data().cell;\n",
              "      cell.output_area.append_execute_result(NB_LOAD_WARNING)\n",
              "    }\n",
              "\n",
              "  }\n",
              "\n",
              "  if (root._bokeh_is_loading === 0) {\n",
              "    console.debug(\"Bokeh: BokehJS loaded, going straight to plotting\");\n",
              "    run_inline_js();\n",
              "  } else {\n",
              "    load_libs(css_urls, js_urls, function() {\n",
              "      console.debug(\"Bokeh: BokehJS plotting callback run at\", now());\n",
              "      run_inline_js();\n",
              "    });\n",
              "  }\n",
              "}(window));"
            ],
            "application/vnd.bokehjs_load.v0+json": "\n(function(root) {\n  function now() {\n    return new Date();\n  }\n\n  var force = true;\n\n  if (typeof root._bokeh_onload_callbacks === \"undefined\" || force === true) {\n    root._bokeh_onload_callbacks = [];\n    root._bokeh_is_loading = undefined;\n  }\n\n  \n\n  \n  if (typeof (root._bokeh_timeout) === \"undefined\" || force === true) {\n    root._bokeh_timeout = Date.now() + 5000;\n    root._bokeh_failed_load = false;\n  }\n\n  var NB_LOAD_WARNING = {'data': {'text/html':\n     \"<div style='background-color: #fdd'>\\n\"+\n     \"<p>\\n\"+\n     \"BokehJS does not appear to have successfully loaded. If loading BokehJS from CDN, this \\n\"+\n     \"may be due to a slow or bad network connection. Possible fixes:\\n\"+\n     \"</p>\\n\"+\n     \"<ul>\\n\"+\n     \"<li>re-rerun `output_notebook()` to attempt to load from CDN again, or</li>\\n\"+\n     \"<li>use INLINE resources instead, as so:</li>\\n\"+\n     \"</ul>\\n\"+\n     \"<code>\\n\"+\n     \"from bokeh.resources import INLINE\\n\"+\n     \"output_notebook(resources=INLINE)\\n\"+\n     \"</code>\\n\"+\n     \"</div>\"}};\n\n  function display_loaded() {\n    var el = document.getElementById(null);\n    if (el != null) {\n      el.textContent = \"BokehJS is loading...\";\n    }\n    if (root.Bokeh !== undefined) {\n      if (el != null) {\n        el.textContent = \"BokehJS \" + root.Bokeh.version + \" successfully loaded.\";\n      }\n    } else if (Date.now() < root._bokeh_timeout) {\n      setTimeout(display_loaded, 100)\n    }\n  }\n\n\n  function run_callbacks() {\n    try {\n      root._bokeh_onload_callbacks.forEach(function(callback) {\n        if (callback != null)\n          callback();\n      });\n    } finally {\n      delete root._bokeh_onload_callbacks\n    }\n    console.debug(\"Bokeh: all callbacks have finished\");\n  }\n\n  function load_libs(css_urls, js_urls, callback) {\n    if (css_urls == null) css_urls = [];\n    if (js_urls == null) js_urls = [];\n\n    root._bokeh_onload_callbacks.push(callback);\n    if (root._bokeh_is_loading > 0) {\n      console.debug(\"Bokeh: BokehJS is being loaded, scheduling callback at\", now());\n      return null;\n    }\n    if (js_urls == null || js_urls.length === 0) {\n      run_callbacks();\n      return null;\n    }\n    console.debug(\"Bokeh: BokehJS not loaded, scheduling load and callback at\", now());\n    root._bokeh_is_loading = css_urls.length + js_urls.length;\n\n    function on_load() {\n      root._bokeh_is_loading--;\n      if (root._bokeh_is_loading === 0) {\n        console.debug(\"Bokeh: all BokehJS libraries/stylesheets loaded\");\n        run_callbacks()\n      }\n    }\n\n    function on_error(url) {\n      console.error(\"failed to load \" + url);\n    }\n\n    for (let i = 0; i < css_urls.length; i++) {\n      const url = css_urls[i];\n      const element = document.createElement(\"link\");\n      element.onload = on_load;\n      element.onerror = on_error.bind(null, url);\n      element.rel = \"stylesheet\";\n      element.type = \"text/css\";\n      element.href = url;\n      console.debug(\"Bokeh: injecting link tag for BokehJS stylesheet: \", url);\n      document.body.appendChild(element);\n    }\n\n    const hashes = {\"https://cdn.bokeh.org/bokeh/release/bokeh-2.3.3.min.js\": \"dM3QQsP+wXdHg42wTqW85BjZQdLNNIXqlPw/BgKoExPmTG7ZLML4EGqLMfqHT6ON\", \"https://cdn.bokeh.org/bokeh/release/bokeh-tables-2.3.3.min.js\": \"8x57I4YuIfu8XyZfFo0XVr2WAT8EK4rh/uDe3wF7YuW2FNUSNEpJbsPaB1nJ2fz2\", \"https://cdn.bokeh.org/bokeh/release/bokeh-widgets-2.3.3.min.js\": \"3QTqdz9LyAm2i0sG5XTePsHec3UHWwVsrOL68SYRoAXsafvfAyqtQ+h440+qIBhS\"};\n\n    for (let i = 0; i < js_urls.length; i++) {\n      const url = js_urls[i];\n      const element = document.createElement('script');\n      element.onload = on_load;\n      element.onerror = on_error.bind(null, url);\n      element.async = false;\n      element.src = url;\n      if (url in hashes) {\n        element.crossOrigin = \"anonymous\";\n        element.integrity = \"sha384-\" + hashes[url];\n      }\n      console.debug(\"Bokeh: injecting script tag for BokehJS library: \", url);\n      document.head.appendChild(element);\n    }\n  };\n\n  function inject_raw_css(css) {\n    const element = document.createElement(\"style\");\n    element.appendChild(document.createTextNode(css));\n    document.body.appendChild(element);\n  }\n\n  \n  var js_urls = [\"https://cdn.bokeh.org/bokeh/release/bokeh-2.3.3.min.js\", \"https://cdn.bokeh.org/bokeh/release/bokeh-widgets-2.3.3.min.js\", \"https://cdn.bokeh.org/bokeh/release/bokeh-tables-2.3.3.min.js\"];\n  var css_urls = [];\n  \n\n  var inline_js = [\n    function(Bokeh) {\n      Bokeh.set_log_level(\"info\");\n    },\n    function(Bokeh) {\n    \n    \n    }\n  ];\n\n  function run_inline_js() {\n    \n    if (root.Bokeh !== undefined || force === true) {\n      \n    for (var i = 0; i < inline_js.length; i++) {\n      inline_js[i].call(root, root.Bokeh);\n    }\n    } else if (Date.now() < root._bokeh_timeout) {\n      setTimeout(run_inline_js, 100);\n    } else if (!root._bokeh_failed_load) {\n      console.log(\"Bokeh: BokehJS failed to load within specified timeout.\");\n      root._bokeh_failed_load = true;\n    } else if (force !== true) {\n      var cell = $(document.getElementById(null)).parents('.cell').data().cell;\n      cell.output_area.append_execute_result(NB_LOAD_WARNING)\n    }\n\n  }\n\n  if (root._bokeh_is_loading === 0) {\n    console.debug(\"Bokeh: BokehJS loaded, going straight to plotting\");\n    run_inline_js();\n  } else {\n    load_libs(css_urls, js_urls, function() {\n      console.debug(\"Bokeh: BokehJS plotting callback run at\", now());\n      run_inline_js();\n    });\n  }\n}(window));"
          },
          "metadata": {}
        },
        {
          "output_type": "display_data",
          "data": {
            "text/html": [
              "\n",
              "\n",
              "\n",
              "\n",
              "\n",
              "\n",
              "  <div class=\"bk-root\" id=\"022da7b7-407b-4f30-b0b8-7498a6dffcc4\" data-root-id=\"1002\"></div>\n"
            ]
          },
          "metadata": {}
        },
        {
          "output_type": "display_data",
          "data": {
            "application/javascript": [
              "(function(root) {\n",
              "  function embed_document(root) {\n",
              "    \n",
              "  var docs_json = {\"dfa8072a-48bd-4a4b-a5cc-d9811cdefc0c\":{\"defs\":[],\"roots\":{\"references\":[{\"attributes\":{\"below\":[{\"id\":\"1013\"}],\"center\":[{\"id\":\"1016\"},{\"id\":\"1020\"},{\"id\":\"1040\"},{\"id\":\"1041\"},{\"id\":\"1042\"},{\"id\":\"1043\"},{\"id\":\"1044\"},{\"id\":\"1045\"},{\"id\":\"1046\"},{\"id\":\"1047\"},{\"id\":\"1048\"},{\"id\":\"1049\"},{\"id\":\"1050\"},{\"id\":\"1051\"},{\"id\":\"1052\"},{\"id\":\"1053\"},{\"id\":\"1054\"},{\"id\":\"1055\"},{\"id\":\"1056\"},{\"id\":\"1057\"},{\"id\":\"1058\"},{\"id\":\"1059\"}],\"height\":700,\"left\":[{\"id\":\"1017\"}],\"renderers\":[{\"id\":\"1038\"}],\"title\":{\"id\":\"1003\"},\"toolbar\":{\"id\":\"1028\"},\"width\":700,\"x_range\":{\"id\":\"1005\"},\"x_scale\":{\"id\":\"1009\"},\"y_range\":{\"id\":\"1007\"},\"y_scale\":{\"id\":\"1011\"}},\"id\":\"1002\",\"subtype\":\"Figure\",\"type\":\"Plot\"},{\"attributes\":{},\"id\":\"1025\",\"type\":\"ResetTool\"},{\"attributes\":{},\"id\":\"1063\",\"type\":\"AllLabels\"},{\"attributes\":{},\"id\":\"1018\",\"type\":\"BasicTicker\"},{\"attributes\":{\"text\":\"nasa sample solar\",\"text_color\":\"#f7b6d2\",\"x\":-10.654133796691895,\"y\":0.5093675851821899},\"id\":\"1053\",\"type\":\"Label\"},{\"attributes\":{},\"id\":\"1065\",\"type\":\"BasicTickFormatter\"},{\"attributes\":{\"text\":\"oil russian mariupol\",\"text_color\":\"#ffbb78\",\"x\":-9.20927906036377,\"y\":3.948943853378296},\"id\":\"1043\",\"type\":\"Label\"},{\"attributes\":{\"text\":\"scientist human emotion\",\"text_color\":\"#bcbd22\",\"x\":-11.381500244140625,\"y\":2.7453839778900146},\"id\":\"1056\",\"type\":\"Label\"},{\"attributes\":{},\"id\":\"1021\",\"type\":\"PanTool\"},{\"attributes\":{\"fill_color\":{\"field\":\"fill_color\"},\"line_color\":{\"field\":\"line_color\"},\"x\":{\"field\":\"x\"},\"y\":{\"field\":\"y\"}},\"id\":\"1036\",\"type\":\"Scatter\"},{\"attributes\":{\"fill_alpha\":{\"value\":0.1},\"fill_color\":{\"field\":\"fill_color\"},\"line_alpha\":{\"value\":0.1},\"line_color\":{\"field\":\"line_color\"},\"x\":{\"field\":\"x\"},\"y\":{\"field\":\"y\"}},\"id\":\"1037\",\"type\":\"Scatter\"},{\"attributes\":{},\"id\":\"1005\",\"type\":\"DataRange1d\"},{\"attributes\":{\"text\":\"t-SNE Clustering of 20 LSA Topics\"},\"id\":\"1003\",\"type\":\"Title\"},{\"attributes\":{\"text\":\"shirt argentina wear\",\"text_color\":\"#c49c94\",\"x\":-10.29564380645752,\"y\":-2.6290409564971924},\"id\":\"1051\",\"type\":\"Label\"},{\"attributes\":{\"text\":\"march place church\",\"text_color\":\"#7f7f7f\",\"x\":-9.470300674438477,\"y\":1.7372032403945923},\"id\":\"1054\",\"type\":\"Label\"},{\"attributes\":{},\"id\":\"1066\",\"type\":\"AllLabels\"},{\"attributes\":{\"text\":\"health home mask\",\"text_color\":\"#e377c2\",\"x\":-10.96438980102539,\"y\":-2.076110363006592},\"id\":\"1052\",\"type\":\"Label\"},{\"attributes\":{\"data\":{\"fill_color\":[\"#ff7f0e\",\"#aec7e8\",\"#aec7e8\",\"#ffbb78\",\"#9edae5\",\"#aec7e8\",\"#aec7e8\",\"#bcbd22\",\"#ff9896\",\"#1f77b4\",\"#ffbb78\",\"#8c564b\",\"#98df8a\",\"#8c564b\",\"#9edae5\",\"#dbdb8d\",\"#ff7f0e\",\"#ff9896\",\"#f7b6d2\",\"#dbdb8d\",\"#9edae5\",\"#ff7f0e\",\"#17becf\",\"#f7b6d2\",\"#9edae5\",\"#dbdb8d\",\"#8c564b\",\"#ff7f0e\",\"#ffbb78\",\"#aec7e8\",\"#9edae5\",\"#ff9896\",\"#aec7e8\",\"#aec7e8\",\"#c49c94\",\"#17becf\",\"#17becf\",\"#c7c7c7\",\"#ffbb78\",\"#d62728\",\"#7f7f7f\",\"#98df8a\",\"#aec7e8\",\"#ff9896\",\"#8c564b\",\"#ff9896\",\"#ffbb78\",\"#aec7e8\",\"#dbdb8d\",\"#aec7e8\",\"#9edae5\",\"#98df8a\",\"#aec7e8\",\"#1f77b4\",\"#ffbb78\",\"#9467bd\",\"#ffbb78\",\"#aec7e8\",\"#98df8a\",\"#1f77b4\",\"#1f77b4\",\"#bcbd22\",\"#d62728\",\"#ff9896\",\"#d62728\",\"#aec7e8\",\"#17becf\",\"#bcbd22\",\"#9467bd\",\"#c5b0d5\",\"#aec7e8\",\"#aec7e8\",\"#c5b0d5\",\"#ff9896\",\"#ff7f0e\",\"#aec7e8\",\"#dbdb8d\",\"#dbdb8d\",\"#8c564b\",\"#bcbd22\",\"#aec7e8\",\"#d62728\",\"#aec7e8\",\"#e377c2\",\"#1f77b4\",\"#aec7e8\",\"#aec7e8\",\"#1f77b4\",\"#aec7e8\",\"#ff9896\",\"#aec7e8\",\"#98df8a\",\"#aec7e8\",\"#1f77b4\",\"#ff9896\",\"#aec7e8\",\"#aec7e8\",\"#ffbb78\",\"#aec7e8\",\"#ff9896\",\"#d62728\",\"#ff7f0e\",\"#bcbd22\",\"#ff9896\",\"#1f77b4\",\"#ff7f0e\",\"#aec7e8\",\"#dbdb8d\",\"#d62728\",\"#98df8a\",\"#aec7e8\",\"#aec7e8\",\"#9467bd\",\"#98df8a\",\"#9467bd\",\"#7f7f7f\",\"#aec7e8\",\"#ff9896\",\"#dbdb8d\",\"#17becf\",\"#1f77b4\",\"#9edae5\",\"#aec7e8\",\"#9edae5\",\"#9467bd\",\"#dbdb8d\",\"#ffbb78\",\"#1f77b4\",\"#ff9896\",\"#e377c2\",\"#17becf\",\"#ffbb78\",\"#ff9896\",\"#8c564b\",\"#17becf\",\"#ff9896\",\"#ff9896\",\"#ff9896\",\"#1f77b4\",\"#1f77b4\",\"#9467bd\",\"#1f77b4\",\"#1f77b4\",\"#1f77b4\",\"#7f7f7f\",\"#98df8a\",\"#aec7e8\",\"#dbdb8d\",\"#ffbb78\",\"#7f7f7f\",\"#1f77b4\",\"#7f7f7f\",\"#17becf\",\"#17becf\",\"#8c564b\",\"#98df8a\",\"#9467bd\",\"#aec7e8\",\"#7f7f7f\",\"#2ca02c\",\"#bcbd22\",\"#8c564b\",\"#ffbb78\",\"#1f77b4\"],\"line_color\":[\"#ff7f0e\",\"#aec7e8\",\"#aec7e8\",\"#ffbb78\",\"#9edae5\",\"#aec7e8\",\"#aec7e8\",\"#bcbd22\",\"#ff9896\",\"#1f77b4\",\"#ffbb78\",\"#8c564b\",\"#98df8a\",\"#8c564b\",\"#9edae5\",\"#dbdb8d\",\"#ff7f0e\",\"#ff9896\",\"#f7b6d2\",\"#dbdb8d\",\"#9edae5\",\"#ff7f0e\",\"#17becf\",\"#f7b6d2\",\"#9edae5\",\"#dbdb8d\",\"#8c564b\",\"#ff7f0e\",\"#ffbb78\",\"#aec7e8\",\"#9edae5\",\"#ff9896\",\"#aec7e8\",\"#aec7e8\",\"#c49c94\",\"#17becf\",\"#17becf\",\"#c7c7c7\",\"#ffbb78\",\"#d62728\",\"#7f7f7f\",\"#98df8a\",\"#aec7e8\",\"#ff9896\",\"#8c564b\",\"#ff9896\",\"#ffbb78\",\"#aec7e8\",\"#dbdb8d\",\"#aec7e8\",\"#9edae5\",\"#98df8a\",\"#aec7e8\",\"#1f77b4\",\"#ffbb78\",\"#9467bd\",\"#ffbb78\",\"#aec7e8\",\"#98df8a\",\"#1f77b4\",\"#1f77b4\",\"#bcbd22\",\"#d62728\",\"#ff9896\",\"#d62728\",\"#aec7e8\",\"#17becf\",\"#bcbd22\",\"#9467bd\",\"#c5b0d5\",\"#aec7e8\",\"#aec7e8\",\"#c5b0d5\",\"#ff9896\",\"#ff7f0e\",\"#aec7e8\",\"#dbdb8d\",\"#dbdb8d\",\"#8c564b\",\"#bcbd22\",\"#aec7e8\",\"#d62728\",\"#aec7e8\",\"#e377c2\",\"#1f77b4\",\"#aec7e8\",\"#aec7e8\",\"#1f77b4\",\"#aec7e8\",\"#ff9896\",\"#aec7e8\",\"#98df8a\",\"#aec7e8\",\"#1f77b4\",\"#ff9896\",\"#aec7e8\",\"#aec7e8\",\"#ffbb78\",\"#aec7e8\",\"#ff9896\",\"#d62728\",\"#ff7f0e\",\"#bcbd22\",\"#ff9896\",\"#1f77b4\",\"#ff7f0e\",\"#aec7e8\",\"#dbdb8d\",\"#d62728\",\"#98df8a\",\"#aec7e8\",\"#aec7e8\",\"#9467bd\",\"#98df8a\",\"#9467bd\",\"#7f7f7f\",\"#aec7e8\",\"#ff9896\",\"#dbdb8d\",\"#17becf\",\"#1f77b4\",\"#9edae5\",\"#aec7e8\",\"#9edae5\",\"#9467bd\",\"#dbdb8d\",\"#ffbb78\",\"#1f77b4\",\"#ff9896\",\"#e377c2\",\"#17becf\",\"#ffbb78\",\"#ff9896\",\"#8c564b\",\"#17becf\",\"#ff9896\",\"#ff9896\",\"#ff9896\",\"#1f77b4\",\"#1f77b4\",\"#9467bd\",\"#1f77b4\",\"#1f77b4\",\"#1f77b4\",\"#7f7f7f\",\"#98df8a\",\"#aec7e8\",\"#dbdb8d\",\"#ffbb78\",\"#7f7f7f\",\"#1f77b4\",\"#7f7f7f\",\"#17becf\",\"#17becf\",\"#8c564b\",\"#98df8a\",\"#9467bd\",\"#aec7e8\",\"#7f7f7f\",\"#2ca02c\",\"#bcbd22\",\"#8c564b\",\"#ffbb78\",\"#1f77b4\"],\"x\":{\"__ndarray__\":\"x9PxwA7ePMHBCFfB1wQnwV33FsFU71LBkhY/wS0YNMF/XWLBUzu2wAKdEcHaUEnBfJsTwTi9RsHZHPjAIyUZwUGv7MAJ4lPB3QsuwbReI8ElTxvBVNLswDGyFMHN4ibBYbEXwYO9LsEQ2VTBeofuwBt+wcDvd17Bw/P8wGUFYcHIZFXBeMoLwfW6JMGjETLBnociweg8K8HoCL7AcXgDwenyG8Ev+iXBEYZNwTB+U8HZDFbBrLQrwYlhNME/Qz/BsokSwdOzWsEeBS3BKHsOwQxUPMGxOB/BYF7BwPk7RcExFjXBhzAbwb/LEcFW5vjAQOXUwMdFN8G8lADBR6QvwSEIAMEe3EXBcTQlwUvOO8GpuC/BkbErwakLY8GX+SbBr/hIwfSDY8GEqvDAptcQwVX6GsH0GALByv1AwdcAOsF9sR7B7V0ZwWr4PcEebC3BuV2zwDV8YsGtAVTBia+zwHHNJsFti13BtotCwfr3DsGJXD7BeKLZwOiJKcFVz0zBMyxfwQWxNMFPZhnBy4xgwQs1AcGS8+7AvNs0wSapYMH8KDXB/a3swG2KCsEGoAbBfsEDwaIgBMHpyD3BTi4owQl7JcEpyAfBVpRGwXtv8sCIkjrBROhjwSBAKcFmpSnBXmCwwIDhUcGhmUHBh6sBwXvBLcEZQRbBzio1wfSntcCSsjDBK3AxwVPHJsGggsDAeihoweMnOME73yDBduc7wW7uLcHgYVrBR+TWwAgRtMCs3ivBuY7hwDF8J8H1RNjAYpb/wGdDJMH9QDDBJNIRwQUcJsFMLCnBRtDawArjKMH4uSDBhuIrwfZ8MsGwGwPBWbErwXjtP8HsICbB2QYrwfCWLsG4cGDBC2k1wSulrcA=\",\"dtype\":\"float32\",\"order\":\"little\",\"shape\":[164]},\"y\":{\"__ndarray__\":\"4m+eQGkNSr9qe2S/cZasQF96Mz9F1q6+NTp5PvOBIkCQU2RA+SPFv9YVVD99Ebk/GsEqQAlk2j+8IQg/0F/pPyj7p0Caai5ABB3eP46Wbj9GM4I/EDWmQDHVkb8zbje/+mSNP+2MBsA+wdQ/Re6kQHQ/DEA1PAy/n5wDP47CZEBl/mW/e1T9PzVCKMBK3Eo+2jeMP/S3pT/N+Q1ArYgLwHSyyT85//s/K7gOP3JQWUAesUU/BnCcP9nwq0DsgjU+KWFWvl8FXz5O5Io/5gprQAXLEL88oF9AoooMQMupEcDLGKpAldI3QC+lhkDJ+fm/oFrTv7XWX0Ao6jHA2taRP/NnDsAGwqa98Uf6P5rackA1Xd8/QTmXPzgFp7/N7Lo/BhWlv6g9Z0DDEqJAsYhOP+33rr/kx+U+MCHeP7zzZ0CVAbQ/HvxyQAbNoL8Lc/O/3v/CvyIlor+Cod0/usPCv4U9UT+M3GFAVhEev0RYOUCjBUQ+oBLQv1uBqT/F4MG+Z4Umv+L1p0CnLXpAI3ljQJh/KsDkYKlAgWeZP+ZBYUDsERJAWbqoQJBW5j9gDdG+kcM8wHDyD0BXL+E+sKGMPx8TjL/SUClAPZUgwNyQ+D9+XHE+2zxoQHEsrz+Hz68//FjEv53NhECUmiA/ELO4P1D+yD8U1hS/ZHq2QC2jwr8QuNs/dwQQwGCmVz/vpwxA/uFsQNSLnT/SJzI9TDsZQCyE1D/ap1xAF8qzvyPQwb9Ezos/XsYCwCObnz9Uscq/yX4PQDN1LUA+H1g/h8I4v2YJqkAcJR8/SYDKv1N7wj/p798+JQ9hQGUZpj8m5EJAC39cPsgjSL6nbiFAXeOWP/++6D9O2F8/lxKtQF18xr8=\",\"dtype\":\"float32\",\"order\":\"little\",\"shape\":[164]}},\"selected\":{\"id\":\"1068\"},\"selection_policy\":{\"id\":\"1069\"}},\"id\":\"1035\",\"type\":\"ColumnDataSource\"},{\"attributes\":{\"text\":\"free turbotax settlement\",\"text_color\":\"#c5b0d5\",\"x\":-11.645782470703125,\"y\":-0.05413466691970825},\"id\":\"1049\",\"type\":\"Label\"},{\"attributes\":{},\"id\":\"1069\",\"type\":\"UnionRenderers\"},{\"attributes\":{},\"id\":\"1011\",\"type\":\"LinearScale\"},{\"attributes\":{\"axis\":{\"id\":\"1013\"},\"ticker\":null},\"id\":\"1016\",\"type\":\"Grid\"},{\"attributes\":{},\"id\":\"1024\",\"type\":\"SaveTool\"},{\"attributes\":{\"text\":\"climate change city\",\"text_color\":\"#ff9896\",\"x\":-12.893013000488281,\"y\":2.8066787719726562},\"id\":\"1047\",\"type\":\"Label\"},{\"attributes\":{},\"id\":\"1014\",\"type\":\"BasicTicker\"},{\"attributes\":{\"bottom_units\":\"screen\",\"fill_alpha\":0.5,\"fill_color\":\"lightgrey\",\"left_units\":\"screen\",\"level\":\"overlay\",\"line_alpha\":1.0,\"line_color\":\"black\",\"line_dash\":[4,4],\"line_width\":2,\"right_units\":\"screen\",\"syncable\":false,\"top_units\":\"screen\"},\"id\":\"1027\",\"type\":\"BoxAnnotation\"},{\"attributes\":{\"text\":\"race tulsa npr\",\"text_color\":\"#17becf\",\"x\":-10.308385848999023,\"y\":0.9247652888298035},\"id\":\"1058\",\"type\":\"Label\"},{\"attributes\":{\"overlay\":{\"id\":\"1027\"}},\"id\":\"1023\",\"type\":\"BoxZoomTool\"},{\"attributes\":{},\"id\":\"1007\",\"type\":\"DataRange1d\"},{\"attributes\":{\"text\":\"hari kondabolu antoine\",\"text_color\":\"#c7c7c7\",\"x\":-10.702369689941406,\"y\":1.2946763038635254},\"id\":\"1055\",\"type\":\"Label\"},{\"attributes\":{\"text\":\"hospital capitol charge\",\"text_color\":\"#dbdb8d\",\"x\":-9.517621040344238,\"y\":-0.08175067603588104},\"id\":\"1057\",\"type\":\"Label\"},{\"attributes\":{\"text\":\"house secretary biden\",\"text_color\":\"#98df8a\",\"x\":-9.084104537963867,\"y\":2.895906925201416},\"id\":\"1045\",\"type\":\"Label\"},{\"attributes\":{\"text\":\"texas say fossil\",\"text_color\":\"#9edae5\",\"x\":-9.53962230682373,\"y\":1.318368673324585},\"id\":\"1059\",\"type\":\"Label\"},{\"attributes\":{\"text\":\"new york city\",\"text_color\":\"#aec7e8\",\"x\":-11.82275390625,\"y\":0.3523922860622406},\"id\":\"1041\",\"type\":\"Label\"},{\"attributes\":{},\"id\":\"1062\",\"type\":\"BasicTickFormatter\"},{\"attributes\":{\"source\":{\"id\":\"1035\"}},\"id\":\"1039\",\"type\":\"CDSView\"},{\"attributes\":{\"formatter\":{\"id\":\"1065\"},\"major_label_policy\":{\"id\":\"1066\"},\"ticker\":{\"id\":\"1018\"}},\"id\":\"1017\",\"type\":\"LinearAxis\"},{\"attributes\":{\"text\":\"covid people kill\",\"text_color\":\"#8c564b\",\"x\":-12.554910659790039,\"y\":1.3405834436416626},\"id\":\"1050\",\"type\":\"Label\"},{\"attributes\":{},\"id\":\"1009\",\"type\":\"LinearScale\"},{\"attributes\":{\"text\":\"abortion speak dc\",\"text_color\":\"#d62728\",\"x\":-8.35846996307373,\"y\":-1.500344157218933},\"id\":\"1046\",\"type\":\"Label\"},{\"attributes\":{},\"id\":\"1068\",\"type\":\"Selection\"},{\"attributes\":{\"active_multi\":null,\"tools\":[{\"id\":\"1021\"},{\"id\":\"1022\"},{\"id\":\"1023\"},{\"id\":\"1024\"},{\"id\":\"1025\"},{\"id\":\"1026\"}]},\"id\":\"1028\",\"type\":\"Toolbar\"},{\"attributes\":{\"text\":\"grigsby makeup erika\",\"text_color\":\"#2ca02c\",\"x\":-10.68917179107666,\"y\":1.1788135766983032},\"id\":\"1044\",\"type\":\"Label\"},{\"attributes\":{\"formatter\":{\"id\":\"1062\"},\"major_label_policy\":{\"id\":\"1063\"},\"ticker\":{\"id\":\"1014\"}},\"id\":\"1013\",\"type\":\"LinearAxis\"},{\"attributes\":{},\"id\":\"1022\",\"type\":\"WheelZoomTool\"},{\"attributes\":{},\"id\":\"1026\",\"type\":\"HelpTool\"},{\"attributes\":{\"axis\":{\"id\":\"1017\"},\"dimension\":1,\"ticker\":null},\"id\":\"1020\",\"type\":\"Grid\"},{\"attributes\":{\"text\":\"dam water photo\",\"text_color\":\"#9467bd\",\"x\":-11.199410438537598,\"y\":-0.17951098084449768},\"id\":\"1048\",\"type\":\"Label\"},{\"attributes\":{\"data_source\":{\"id\":\"1035\"},\"glyph\":{\"id\":\"1036\"},\"hover_glyph\":null,\"muted_glyph\":null,\"nonselection_glyph\":{\"id\":\"1037\"},\"view\":{\"id\":\"1039\"}},\"id\":\"1038\",\"type\":\"GlyphRenderer\"},{\"attributes\":{\"text\":\"roe supreme court\",\"text_color\":\"#1f77b4\",\"x\":-7.028902053833008,\"y\":-0.9132012128829956},\"id\":\"1040\",\"type\":\"Label\"},{\"attributes\":{\"text\":\"ohio primary senate\",\"text_color\":\"#ff7f0e\",\"x\":-7.456070899963379,\"y\":5.168463706970215},\"id\":\"1042\",\"type\":\"Label\"}],\"root_ids\":[\"1002\"]},\"title\":\"Bokeh Application\",\"version\":\"2.3.3\"}};\n",
              "  var render_items = [{\"docid\":\"dfa8072a-48bd-4a4b-a5cc-d9811cdefc0c\",\"root_ids\":[\"1002\"],\"roots\":{\"1002\":\"022da7b7-407b-4f30-b0b8-7498a6dffcc4\"}}];\n",
              "  root.Bokeh.embed.embed_items_notebook(docs_json, render_items);\n",
              "\n",
              "  }\n",
              "  if (root.Bokeh !== undefined) {\n",
              "    embed_document(root);\n",
              "  } else {\n",
              "    var attempts = 0;\n",
              "    var timer = setInterval(function(root) {\n",
              "      if (root.Bokeh !== undefined) {\n",
              "        clearInterval(timer);\n",
              "        embed_document(root);\n",
              "      } else {\n",
              "        attempts++;\n",
              "        if (attempts > 100) {\n",
              "          clearInterval(timer);\n",
              "          console.log(\"Bokeh: ERROR: Unable to run BokehJS code because BokehJS library is missing\");\n",
              "        }\n",
              "      }\n",
              "    }, 10, root)\n",
              "  }\n",
              "})(window);"
            ],
            "application/vnd.bokehjs_exec.v0+json": ""
          },
          "metadata": {
            "application/vnd.bokehjs_exec.v0+json": {
              "id": "1002"
            }
          }
        }
      ]
    },
    {
      "cell_type": "code",
      "source": [
        ""
      ],
      "metadata": {
        "id": "rOIAVaka23mV"
      },
      "execution_count": 25,
      "outputs": []
    },
    {
      "cell_type": "code",
      "source": [
        "lda_model = LatentDirichletAllocation(n_components=n_topics, learning_method='online', \n",
        "                                          random_state=0, verbose=0)\n",
        "lda_topic_matrix = lda_model.fit_transform(document_term_matrix)"
      ],
      "metadata": {
        "id": "MnUVyNqP23t5"
      },
      "execution_count": 26,
      "outputs": []
    },
    {
      "cell_type": "code",
      "source": [
        "lda_keys = get_keys(lda_topic_matrix)\n",
        "lda_categories, lda_counts = keys_to_counts(lda_keys)"
      ],
      "metadata": {
        "id": "lf7KsSQo25vi"
      },
      "execution_count": 27,
      "outputs": []
    },
    {
      "cell_type": "code",
      "source": [
        "top_n_words_lda = get_top_n_words(3, lda_keys, document_term_matrix, count_vectorizer)\n",
        "\n",
        "for i in range(len(top_n_words_lda)):\n",
        "    print(\"Topic {}: \".format(i+1), top_n_words_lda[i])"
      ],
      "metadata": {
        "colab": {
          "base_uri": "https://localhost:8080/"
        },
        "id": "s0Zs4h1k27I-",
        "outputId": "b0f5b0f2-6adb-4d62-da56-204c40da756a"
      },
      "execution_count": 28,
      "outputs": [
        {
          "output_type": "stream",
          "name": "stdout",
          "text": [
            "Topic 1:  wave california chappelle\n",
            "Topic 2:  zurich natural capitol\n",
            "Topic 3:  house free solar\n",
            "Topic 4:  secretary ukraine mariupol\n",
            "Topic 5:  oil russian abortion\n",
            "Topic 6:  gas stock city\n",
            "Topic 7:  quantitative kasha kondabolu\n",
            "Topic 8:  ohio primary senate\n",
            "Topic 9:  new people die\n",
            "Topic 10:  library rep book\n",
            "Topic 11:  abortion john underground\n",
            "Topic 12:  climate change emotion\n",
            "Topic 13:  fairfax amber speak\n",
            "Topic 14:  mariupol york new\n",
            "Topic 15:  supreme court roe\n",
            "Topic 16:  abortion mask washington\n",
            "Topic 17:  south new health\n",
            "Topic 18:  arizona judge year\n",
            "Topic 19:  tulsa shirt auction\n",
            "Topic 20:  church texas figure\n"
          ]
        }
      ]
    },
    {
      "cell_type": "code",
      "source": [
        "top_3_words = get_top_n_words(3, lda_keys, document_term_matrix, count_vectorizer)\n",
        "labels = ['Topic {}: \\n'.format(i) + top_3_words[i] for i in lda_categories]\n",
        "\n",
        "fig, ax = plt.subplots(figsize=(16,8))\n",
        "ax.bar(lda_categories, lda_counts);\n",
        "ax.set_xticks(lda_categories);\n",
        "ax.set_xticklabels(labels);\n",
        "ax.set_title('LDA topic counts');\n",
        "ax.set_ylabel('Number of headlines');"
      ],
      "metadata": {
        "colab": {
          "base_uri": "https://localhost:8080/",
          "height": 510
        },
        "id": "H1-YP1df29P6",
        "outputId": "ee434204-32fb-4255-91e8-0ee970367cdc"
      },
      "execution_count": 29,
      "outputs": [
        {
          "output_type": "display_data",
          "data": {
            "text/plain": [
              "<Figure size 1152x576 with 1 Axes>"
            ],
            "image/png": "[encoded data removed]"
          },
          "metadata": {
            "needs_background": "light"
          }
        }
      ]
    },
    {
      "cell_type": "code",
      "source": [
        "tsne_lda_model = TSNE(n_components=2, perplexity=50, learning_rate=100, \n",
        "                        n_iter=2000, verbose=1, random_state=0, angle=0.75)\n",
        "tsne_lda_vectors = tsne_lda_model.fit_transform(lda_topic_matrix)"
      ],
      "metadata": {
        "colab": {
          "base_uri": "https://localhost:8080/"
        },
        "id": "E9M6w1EU2_75",
        "outputId": "a5a747be-fdc4-4dce-a591-89dc81524e3b"
      },
      "execution_count": 30,
      "outputs": [
        {
          "output_type": "stream",
          "name": "stderr",
          "text": [
            "/usr/local/lib/python3.7/dist-packages/sklearn/manifold/_t_sne.py:783: FutureWarning: The default initialization in TSNE will change from 'random' to 'pca' in 1.2.\n",
            "  FutureWarning,\n"
          ]
        },
        {
          "output_type": "stream",
          "name": "stdout",
          "text": [
            "[t-SNE] Computing 151 nearest neighbors...\n",
            "[t-SNE] Indexed 164 samples in 0.000s...\n",
            "[t-SNE] Computed neighbors for 164 samples in 0.006s...\n",
            "[t-SNE] Computed conditional probabilities for sample 164 / 164\n",
            "[t-SNE] Mean sigma: 0.716834\n",
            "[t-SNE] KL divergence after 250 iterations with early exaggeration: 50.686432\n",
            "[t-SNE] KL divergence after 1200 iterations: 0.154748\n"
          ]
        }
      ]
    },
    {
      "cell_type": "code",
      "source": [
        "top_3_words_lda = get_top_n_words(3, lda_keys, document_term_matrix, count_vectorizer)\n",
        "lda_mean_topic_vectors = get_mean_topic_vectors(lda_keys, tsne_lda_vectors)\n",
        "\n",
        "plot = figure(title=\"t-SNE Clustering of {} LDA Topics\".format(n_topics), plot_width=700, plot_height=700)\n",
        "plot.scatter(x=tsne_lda_vectors[:,0], y=tsne_lda_vectors[:,1], color=colormap[lda_keys])\n",
        "\n",
        "for t in range(n_topics):\n",
        "    label = Label(x=lda_mean_topic_vectors[t][0], y=lda_mean_topic_vectors[t][1], \n",
        "                  text=top_3_words_lda[t], text_color=colormap[t])\n",
        "    plot.add_layout(label)\n",
        "\n",
        "show(plot)"
      ],
      "metadata": {
        "colab": {
          "base_uri": "https://localhost:8080/",
          "height": 717
        },
        "id": "KNg5Ugc13B9-",
        "outputId": "16260c1e-47bb-4f3f-f68e-ca2ad028a255"
      },
      "execution_count": 31,
      "outputs": [
        {
          "output_type": "display_data",
          "data": {
            "application/javascript": [
              "\n",
              "(function(root) {\n",
              "  function now() {\n",
              "    return new Date();\n",
              "  }\n",
              "\n",
              "  var force = true;\n",
              "\n",
              "  if (typeof root._bokeh_onload_callbacks === \"undefined\" || force === true) {\n",
              "    root._bokeh_onload_callbacks = [];\n",
              "    root._bokeh_is_loading = undefined;\n",
              "  }\n",
              "\n",
              "  var JS_MIME_TYPE = 'application/javascript';\n",
              "  var HTML_MIME_TYPE = 'text/html';\n",
              "  var EXEC_MIME_TYPE = 'application/vnd.bokehjs_exec.v0+json';\n",
              "  var CLASS_NAME = 'output_bokeh rendered_html';\n",
              "\n",
              "  /**\n",
              "   * Render data to the DOM node\n",
              "   */\n",
              "  function render(props, node) {\n",
              "    var script = document.createElement(\"script\");\n",
              "    node.appendChild(script);\n",
              "  }\n",
              "\n",
              "  /**\n",
              "   * Handle when an output is cleared or removed\n",
              "   */\n",
              "  function handleClearOutput(event, handle) {\n",
              "    var cell = handle.cell;\n",
              "\n",
              "    var id = cell.output_area._bokeh_element_id;\n",
              "    var server_id = cell.output_area._bokeh_server_id;\n",
              "    // Clean up Bokeh references\n",
              "    if (id != null && id in Bokeh.index) {\n",
              "      Bokeh.index[id].model.document.clear();\n",
              "      delete Bokeh.index[id];\n",
              "    }\n",
              "\n",
              "    if (server_id !== undefined) {\n",
              "      // Clean up Bokeh references\n",
              "      var cmd = \"from bokeh.io.state import curstate; print(curstate().uuid_to_server['\" + server_id + \"'].get_sessions()[0].document.roots[0]._id)\";\n",
              "      cell.notebook.kernel.execute(cmd, {\n",
              "        iopub: {\n",
              "          output: function(msg) {\n",
              "            var id = msg.content.text.trim();\n",
              "            if (id in Bokeh.index) {\n",
              "              Bokeh.index[id].model.document.clear();\n",
              "              delete Bokeh.index[id];\n",
              "            }\n",
              "          }\n",
              "        }\n",
              "      });\n",
              "      // Destroy server and session\n",
              "      var cmd = \"import bokeh.io.notebook as ion; ion.destroy_server('\" + server_id + \"')\";\n",
              "      cell.notebook.kernel.execute(cmd);\n",
              "    }\n",
              "  }\n",
              "\n",
              "  /**\n",
              "   * Handle when a new output is added\n",
              "   */\n",
              "  function handleAddOutput(event, handle) {\n",
              "    var output_area = handle.output_area;\n",
              "    var output = handle.output;\n",
              "\n",
              "    // limit handleAddOutput to display_data with EXEC_MIME_TYPE content only\n",
              "    if ((output.output_type != \"display_data\") || (!Object.prototype.hasOwnProperty.call(output.data, EXEC_MIME_TYPE))) {\n",
              "      return\n",
              "    }\n",
              "\n",
              "    var toinsert = output_area.element.find(\".\" + CLASS_NAME.split(' ')[0]);\n",
              "\n",
              "    if (output.metadata[EXEC_MIME_TYPE][\"id\"] !== undefined) {\n",
              "      toinsert[toinsert.length - 1].firstChild.textContent = output.data[JS_MIME_TYPE];\n",
              "      // store reference to embed id on output_area\n",
              "      output_area._bokeh_element_id = output.metadata[EXEC_MIME_TYPE][\"id\"];\n",
              "    }\n",
              "    if (output.metadata[EXEC_MIME_TYPE][\"server_id\"] !== undefined) {\n",
              "      var bk_div = document.createElement(\"div\");\n",
              "      bk_div.innerHTML = output.data[HTML_MIME_TYPE];\n",
              "      var script_attrs = bk_div.children[0].attributes;\n",
              "      for (var i = 0; i < script_attrs.length; i++) {\n",
              "        toinsert[toinsert.length - 1].firstChild.setAttribute(script_attrs[i].name, script_attrs[i].value);\n",
              "        toinsert[toinsert.length - 1].firstChild.textContent = bk_div.children[0].textContent\n",
              "      }\n",
              "      // store reference to server id on output_area\n",
              "      output_area._bokeh_server_id = output.metadata[EXEC_MIME_TYPE][\"server_id\"];\n",
              "    }\n",
              "  }\n",
              "\n",
              "  function register_renderer(events, OutputArea) {\n",
              "\n",
              "    function append_mime(data, metadata, element) {\n",
              "      // create a DOM node to render to\n",
              "      var toinsert = this.create_output_subarea(\n",
              "        metadata,\n",
              "        CLASS_NAME,\n",
              "        EXEC_MIME_TYPE\n",
              "      );\n",
              "      this.keyboard_manager.register_events(toinsert);\n",
              "      // Render to node\n",
              "      var props = {data: data, metadata: metadata[EXEC_MIME_TYPE]};\n",
              "      render(props, toinsert[toinsert.length - 1]);\n",
              "      element.append(toinsert);\n",
              "      return toinsert\n",
              "    }\n",
              "\n",
              "    /* Handle when an output is cleared or removed */\n",
              "    events.on('clear_output.CodeCell', handleClearOutput);\n",
              "    events.on('delete.Cell', handleClearOutput);\n",
              "\n",
              "    /* Handle when a new output is added */\n",
              "    events.on('output_added.OutputArea', handleAddOutput);\n",
              "\n",
              "    /**\n",
              "     * Register the mime type and append_mime function with output_area\n",
              "     */\n",
              "    OutputArea.prototype.register_mime_type(EXEC_MIME_TYPE, append_mime, {\n",
              "      /* Is output safe? */\n",
              "      safe: true,\n",
              "      /* Index of renderer in `output_area.display_order` */\n",
              "      index: 0\n",
              "    });\n",
              "  }\n",
              "\n",
              "  // register the mime type if in Jupyter Notebook environment and previously unregistered\n",
              "  if (root.Jupyter !== undefined) {\n",
              "    var events = require('base/js/events');\n",
              "    var OutputArea = require('notebook/js/outputarea').OutputArea;\n",
              "\n",
              "    if (OutputArea.prototype.mime_types().indexOf(EXEC_MIME_TYPE) == -1) {\n",
              "      register_renderer(events, OutputArea);\n",
              "    }\n",
              "  }\n",
              "\n",
              "  \n",
              "  if (typeof (root._bokeh_timeout) === \"undefined\" || force === true) {\n",
              "    root._bokeh_timeout = Date.now() + 5000;\n",
              "    root._bokeh_failed_load = false;\n",
              "  }\n",
              "\n",
              "  var NB_LOAD_WARNING = {'data': {'text/html':\n",
              "     \"<div style='background-color: #fdd'>\\n\"+\n",
              "     \"<p>\\n\"+\n",
              "     \"BokehJS does not appear to have successfully loaded. If loading BokehJS from CDN, this \\n\"+\n",
              "     \"may be due to a slow or bad network connection. Possible fixes:\\n\"+\n",
              "     \"</p>\\n\"+\n",
              "     \"<ul>\\n\"+\n",
              "     \"<li>re-rerun `output_notebook()` to attempt to load from CDN again, or</li>\\n\"+\n",
              "     \"<li>use INLINE resources instead, as so:</li>\\n\"+\n",
              "     \"</ul>\\n\"+\n",
              "     \"<code>\\n\"+\n",
              "     \"from bokeh.resources import INLINE\\n\"+\n",
              "     \"output_notebook(resources=INLINE)\\n\"+\n",
              "     \"</code>\\n\"+\n",
              "     \"</div>\"}};\n",
              "\n",
              "  function display_loaded() {\n",
              "    var el = document.getElementById(null);\n",
              "    if (el != null) {\n",
              "      el.textContent = \"BokehJS is loading...\";\n",
              "    }\n",
              "    if (root.Bokeh !== undefined) {\n",
              "      if (el != null) {\n",
              "        el.textContent = \"BokehJS \" + root.Bokeh.version + \" successfully loaded.\";\n",
              "      }\n",
              "    } else if (Date.now() < root._bokeh_timeout) {\n",
              "      setTimeout(display_loaded, 100)\n",
              "    }\n",
              "  }\n",
              "\n",
              "\n",
              "  function run_callbacks() {\n",
              "    try {\n",
              "      root._bokeh_onload_callbacks.forEach(function(callback) {\n",
              "        if (callback != null)\n",
              "          callback();\n",
              "      });\n",
              "    } finally {\n",
              "      delete root._bokeh_onload_callbacks\n",
              "    }\n",
              "    console.debug(\"Bokeh: all callbacks have finished\");\n",
              "  }\n",
              "\n",
              "  function load_libs(css_urls, js_urls, callback) {\n",
              "    if (css_urls == null) css_urls = [];\n",
              "    if (js_urls == null) js_urls = [];\n",
              "\n",
              "    root._bokeh_onload_callbacks.push(callback);\n",
              "    if (root._bokeh_is_loading > 0) {\n",
              "      console.debug(\"Bokeh: BokehJS is being loaded, scheduling callback at\", now());\n",
              "      return null;\n",
              "    }\n",
              "    if (js_urls == null || js_urls.length === 0) {\n",
              "      run_callbacks();\n",
              "      return null;\n",
              "    }\n",
              "    console.debug(\"Bokeh: BokehJS not loaded, scheduling load and callback at\", now());\n",
              "    root._bokeh_is_loading = css_urls.length + js_urls.length;\n",
              "\n",
              "    function on_load() {\n",
              "      root._bokeh_is_loading--;\n",
              "      if (root._bokeh_is_loading === 0) {\n",
              "        console.debug(\"Bokeh: all BokehJS libraries/stylesheets loaded\");\n",
              "        run_callbacks()\n",
              "      }\n",
              "    }\n",
              "\n",
              "    function on_error(url) {\n",
              "      console.error(\"failed to load \" + url);\n",
              "    }\n",
              "\n",
              "    for (let i = 0; i < css_urls.length; i++) {\n",
              "      const url = css_urls[i];\n",
              "      const element = document.createElement(\"link\");\n",
              "      element.onload = on_load;\n",
              "      element.onerror = on_error.bind(null, url);\n",
              "      element.rel = \"stylesheet\";\n",
              "      element.type = \"text/css\";\n",
              "      element.href = url;\n",
              "      console.debug(\"Bokeh: injecting link tag for BokehJS stylesheet: \", url);\n",
              "      document.body.appendChild(element);\n",
              "    }\n",
              "\n",
              "    const hashes = {\"https://cdn.bokeh.org/bokeh/release/bokeh-2.3.3.min.js\": \"dM3QQsP+wXdHg42wTqW85BjZQdLNNIXqlPw/BgKoExPmTG7ZLML4EGqLMfqHT6ON\", \"https://cdn.bokeh.org/bokeh/release/bokeh-tables-2.3.3.min.js\": \"8x57I4YuIfu8XyZfFo0XVr2WAT8EK4rh/uDe3wF7YuW2FNUSNEpJbsPaB1nJ2fz2\", \"https://cdn.bokeh.org/bokeh/release/bokeh-widgets-2.3.3.min.js\": \"3QTqdz9LyAm2i0sG5XTePsHec3UHWwVsrOL68SYRoAXsafvfAyqtQ+h440+qIBhS\"};\n",
              "\n",
              "    for (let i = 0; i < js_urls.length; i++) {\n",
              "      const url = js_urls[i];\n",
              "      const element = document.createElement('script');\n",
              "      element.onload = on_load;\n",
              "      element.onerror = on_error.bind(null, url);\n",
              "      element.async = false;\n",
              "      element.src = url;\n",
              "      if (url in hashes) {\n",
              "        element.crossOrigin = \"anonymous\";\n",
              "        element.integrity = \"sha384-\" + hashes[url];\n",
              "      }\n",
              "      console.debug(\"Bokeh: injecting script tag for BokehJS library: \", url);\n",
              "      document.head.appendChild(element);\n",
              "    }\n",
              "  };\n",
              "\n",
              "  function inject_raw_css(css) {\n",
              "    const element = document.createElement(\"style\");\n",
              "    element.appendChild(document.createTextNode(css));\n",
              "    document.body.appendChild(element);\n",
              "  }\n",
              "\n",
              "  \n",
              "  var js_urls = [\"https://cdn.bokeh.org/bokeh/release/bokeh-2.3.3.min.js\", \"https://cdn.bokeh.org/bokeh/release/bokeh-widgets-2.3.3.min.js\", \"https://cdn.bokeh.org/bokeh/release/bokeh-tables-2.3.3.min.js\"];\n",
              "  var css_urls = [];\n",
              "  \n",
              "\n",
              "  var inline_js = [\n",
              "    function(Bokeh) {\n",
              "      Bokeh.set_log_level(\"info\");\n",
              "    },\n",
              "    function(Bokeh) {\n",
              "    \n",
              "    \n",
              "    }\n",
              "  ];\n",
              "\n",
              "  function run_inline_js() {\n",
              "    \n",
              "    if (root.Bokeh !== undefined || force === true) {\n",
              "      \n",
              "    for (var i = 0; i < inline_js.length; i++) {\n",
              "      inline_js[i].call(root, root.Bokeh);\n",
              "    }\n",
              "    } else if (Date.now() < root._bokeh_timeout) {\n",
              "      setTimeout(run_inline_js, 100);\n",
              "    } else if (!root._bokeh_failed_load) {\n",
              "      console.log(\"Bokeh: BokehJS failed to load within specified timeout.\");\n",
              "      root._bokeh_failed_load = true;\n",
              "    } else if (force !== true) {\n",
              "      var cell = $(document.getElementById(null)).parents('.cell').data().cell;\n",
              "      cell.output_area.append_execute_result(NB_LOAD_WARNING)\n",
              "    }\n",
              "\n",
              "  }\n",
              "\n",
              "  if (root._bokeh_is_loading === 0) {\n",
              "    console.debug(\"Bokeh: BokehJS loaded, going straight to plotting\");\n",
              "    run_inline_js();\n",
              "  } else {\n",
              "    load_libs(css_urls, js_urls, function() {\n",
              "      console.debug(\"Bokeh: BokehJS plotting callback run at\", now());\n",
              "      run_inline_js();\n",
              "    });\n",
              "  }\n",
              "}(window));"
            ],
            "application/vnd.bokehjs_load.v0+json": "\n(function(root) {\n  function now() {\n    return new Date();\n  }\n\n  var force = true;\n\n  if (typeof root._bokeh_onload_callbacks === \"undefined\" || force === true) {\n    root._bokeh_onload_callbacks = [];\n    root._bokeh_is_loading = undefined;\n  }\n\n  \n\n  \n  if (typeof (root._bokeh_timeout) === \"undefined\" || force === true) {\n    root._bokeh_timeout = Date.now() + 5000;\n    root._bokeh_failed_load = false;\n  }\n\n  var NB_LOAD_WARNING = {'data': {'text/html':\n     \"<div style='background-color: #fdd'>\\n\"+\n     \"<p>\\n\"+\n     \"BokehJS does not appear to have successfully loaded. If loading BokehJS from CDN, this \\n\"+\n     \"may be due to a slow or bad network connection. Possible fixes:\\n\"+\n     \"</p>\\n\"+\n     \"<ul>\\n\"+\n     \"<li>re-rerun `output_notebook()` to attempt to load from CDN again, or</li>\\n\"+\n     \"<li>use INLINE resources instead, as so:</li>\\n\"+\n     \"</ul>\\n\"+\n     \"<code>\\n\"+\n     \"from bokeh.resources import INLINE\\n\"+\n     \"output_notebook(resources=INLINE)\\n\"+\n     \"</code>\\n\"+\n     \"</div>\"}};\n\n  function display_loaded() {\n    var el = document.getElementById(null);\n    if (el != null) {\n      el.textContent = \"BokehJS is loading...\";\n    }\n    if (root.Bokeh !== undefined) {\n      if (el != null) {\n        el.textContent = \"BokehJS \" + root.Bokeh.version + \" successfully loaded.\";\n      }\n    } else if (Date.now() < root._bokeh_timeout) {\n      setTimeout(display_loaded, 100)\n    }\n  }\n\n\n  function run_callbacks() {\n    try {\n      root._bokeh_onload_callbacks.forEach(function(callback) {\n        if (callback != null)\n          callback();\n      });\n    } finally {\n      delete root._bokeh_onload_callbacks\n    }\n    console.debug(\"Bokeh: all callbacks have finished\");\n  }\n\n  function load_libs(css_urls, js_urls, callback) {\n    if (css_urls == null) css_urls = [];\n    if (js_urls == null) js_urls = [];\n\n    root._bokeh_onload_callbacks.push(callback);\n    if (root._bokeh_is_loading > 0) {\n      console.debug(\"Bokeh: BokehJS is being loaded, scheduling callback at\", now());\n      return null;\n    }\n    if (js_urls == null || js_urls.length === 0) {\n      run_callbacks();\n      return null;\n    }\n    console.debug(\"Bokeh: BokehJS not loaded, scheduling load and callback at\", now());\n    root._bokeh_is_loading = css_urls.length + js_urls.length;\n\n    function on_load() {\n      root._bokeh_is_loading--;\n      if (root._bokeh_is_loading === 0) {\n        console.debug(\"Bokeh: all BokehJS libraries/stylesheets loaded\");\n        run_callbacks()\n      }\n    }\n\n    function on_error(url) {\n      console.error(\"failed to load \" + url);\n    }\n\n    for (let i = 0; i < css_urls.length; i++) {\n      const url = css_urls[i];\n      const element = document.createElement(\"link\");\n      element.onload = on_load;\n      element.onerror = on_error.bind(null, url);\n      element.rel = \"stylesheet\";\n      element.type = \"text/css\";\n      element.href = url;\n      console.debug(\"Bokeh: injecting link tag for BokehJS stylesheet: \", url);\n      document.body.appendChild(element);\n    }\n\n    const hashes = {\"https://cdn.bokeh.org/bokeh/release/bokeh-2.3.3.min.js\": \"dM3QQsP+wXdHg42wTqW85BjZQdLNNIXqlPw/BgKoExPmTG7ZLML4EGqLMfqHT6ON\", \"https://cdn.bokeh.org/bokeh/release/bokeh-tables-2.3.3.min.js\": \"8x57I4YuIfu8XyZfFo0XVr2WAT8EK4rh/uDe3wF7YuW2FNUSNEpJbsPaB1nJ2fz2\", \"https://cdn.bokeh.org/bokeh/release/bokeh-widgets-2.3.3.min.js\": \"3QTqdz9LyAm2i0sG5XTePsHec3UHWwVsrOL68SYRoAXsafvfAyqtQ+h440+qIBhS\"};\n\n    for (let i = 0; i < js_urls.length; i++) {\n      const url = js_urls[i];\n      const element = document.createElement('script');\n      element.onload = on_load;\n      element.onerror = on_error.bind(null, url);\n      element.async = false;\n      element.src = url;\n      if (url in hashes) {\n        element.crossOrigin = \"anonymous\";\n        element.integrity = \"sha384-\" + hashes[url];\n      }\n      console.debug(\"Bokeh: injecting script tag for BokehJS library: \", url);\n      document.head.appendChild(element);\n    }\n  };\n\n  function inject_raw_css(css) {\n    const element = document.createElement(\"style\");\n    element.appendChild(document.createTextNode(css));\n    document.body.appendChild(element);\n  }\n\n  \n  var js_urls = [\"https://cdn.bokeh.org/bokeh/release/bokeh-2.3.3.min.js\", \"https://cdn.bokeh.org/bokeh/release/bokeh-widgets-2.3.3.min.js\", \"https://cdn.bokeh.org/bokeh/release/bokeh-tables-2.3.3.min.js\"];\n  var css_urls = [];\n  \n\n  var inline_js = [\n    function(Bokeh) {\n      Bokeh.set_log_level(\"info\");\n    },\n    function(Bokeh) {\n    \n    \n    }\n  ];\n\n  function run_inline_js() {\n    \n    if (root.Bokeh !== undefined || force === true) {\n      \n    for (var i = 0; i < inline_js.length; i++) {\n      inline_js[i].call(root, root.Bokeh);\n    }\n    } else if (Date.now() < root._bokeh_timeout) {\n      setTimeout(run_inline_js, 100);\n    } else if (!root._bokeh_failed_load) {\n      console.log(\"Bokeh: BokehJS failed to load within specified timeout.\");\n      root._bokeh_failed_load = true;\n    } else if (force !== true) {\n      var cell = $(document.getElementById(null)).parents('.cell').data().cell;\n      cell.output_area.append_execute_result(NB_LOAD_WARNING)\n    }\n\n  }\n\n  if (root._bokeh_is_loading === 0) {\n    console.debug(\"Bokeh: BokehJS loaded, going straight to plotting\");\n    run_inline_js();\n  } else {\n    load_libs(css_urls, js_urls, function() {\n      console.debug(\"Bokeh: BokehJS plotting callback run at\", now());\n      run_inline_js();\n    });\n  }\n}(window));"
          },
          "metadata": {}
        },
        {
          "output_type": "display_data",
          "data": {
            "text/html": [
              "\n",
              "\n",
              "\n",
              "\n",
              "\n",
              "\n",
              "  <div class=\"bk-root\" id=\"7cdaf00c-e371-4501-a54d-9b37d13b5f7c\" data-root-id=\"1120\"></div>\n"
            ]
          },
          "metadata": {}
        },
        {
          "output_type": "display_data",
          "data": {
            "application/javascript": [
              "(function(root) {\n",
              "  function embed_document(root) {\n",
              "    \n",
              "  var docs_json = {\"382b0f4d-d3e9-4c11-959e-ef6d6695f0a4\":{\"defs\":[],\"roots\":{\"references\":[{\"attributes\":{\"below\":[{\"id\":\"1131\"}],\"center\":[{\"id\":\"1134\"},{\"id\":\"1138\"},{\"id\":\"1158\"},{\"id\":\"1159\"},{\"id\":\"1160\"},{\"id\":\"1161\"},{\"id\":\"1162\"},{\"id\":\"1163\"},{\"id\":\"1164\"},{\"id\":\"1165\"},{\"id\":\"1166\"},{\"id\":\"1167\"},{\"id\":\"1168\"},{\"id\":\"1169\"},{\"id\":\"1170\"},{\"id\":\"1171\"},{\"id\":\"1172\"},{\"id\":\"1173\"},{\"id\":\"1174\"},{\"id\":\"1175\"},{\"id\":\"1176\"},{\"id\":\"1177\"}],\"height\":700,\"left\":[{\"id\":\"1135\"}],\"renderers\":[{\"id\":\"1156\"}],\"title\":{\"id\":\"1121\"},\"toolbar\":{\"id\":\"1146\"},\"width\":700,\"x_range\":{\"id\":\"1123\"},\"x_scale\":{\"id\":\"1127\"},\"y_range\":{\"id\":\"1125\"},\"y_scale\":{\"id\":\"1129\"}},\"id\":\"1120\",\"subtype\":\"Figure\",\"type\":\"Plot\"},{\"attributes\":{\"text\":\"abortion mask washington\",\"text_color\":\"#c7c7c7\",\"x\":-4.491509437561035,\"y\":-8.762639045715332},\"id\":\"1173\",\"type\":\"Label\"},{\"attributes\":{},\"id\":\"1132\",\"type\":\"BasicTicker\"},{\"attributes\":{\"fill_color\":{\"field\":\"fill_color\"},\"line_color\":{\"field\":\"line_color\"},\"x\":{\"field\":\"x\"},\"y\":{\"field\":\"y\"}},\"id\":\"1154\",\"type\":\"Scatter\"},{\"attributes\":{\"text\":\"zurich natural capitol\",\"text_color\":\"#aec7e8\",\"x\":-9.435404777526855,\"y\":-5.859300136566162},\"id\":\"1159\",\"type\":\"Label\"},{\"attributes\":{\"text\":\"south new health\",\"text_color\":\"#bcbd22\",\"x\":-4.375274181365967,\"y\":-0.9031838178634644},\"id\":\"1174\",\"type\":\"Label\"},{\"attributes\":{},\"id\":\"1196\",\"type\":\"Selection\"},{\"attributes\":{},\"id\":\"1144\",\"type\":\"HelpTool\"},{\"attributes\":{\"text\":\"quantitative kasha kondabolu\",\"text_color\":\"#d62728\",\"x\":1.7331992387771606,\"y\":-6.4438700675964355},\"id\":\"1164\",\"type\":\"Label\"},{\"attributes\":{\"text\":\"arizona judge year\",\"text_color\":\"#dbdb8d\",\"x\":-7.5267181396484375,\"y\":-2.745213270187378},\"id\":\"1175\",\"type\":\"Label\"},{\"attributes\":{\"text\":\"tulsa shirt auction\",\"text_color\":\"#17becf\",\"x\":2.2516119480133057,\"y\":-3.4925737380981445},\"id\":\"1176\",\"type\":\"Label\"},{\"attributes\":{\"bottom_units\":\"screen\",\"fill_alpha\":0.5,\"fill_color\":\"lightgrey\",\"left_units\":\"screen\",\"level\":\"overlay\",\"line_alpha\":1.0,\"line_color\":\"black\",\"line_dash\":[4,4],\"line_width\":2,\"right_units\":\"screen\",\"syncable\":false,\"top_units\":\"screen\"},\"id\":\"1145\",\"type\":\"BoxAnnotation\"},{\"attributes\":{\"text\":\"house free solar\",\"text_color\":\"#ff7f0e\",\"x\":-1.0047047138214111,\"y\":-2.5071094036102295},\"id\":\"1160\",\"type\":\"Label\"},{\"attributes\":{\"text\":\"t-SNE Clustering of 20 LDA Topics\"},\"id\":\"1121\",\"type\":\"Title\"},{\"attributes\":{\"active_multi\":null,\"tools\":[{\"id\":\"1139\"},{\"id\":\"1140\"},{\"id\":\"1141\"},{\"id\":\"1142\"},{\"id\":\"1143\"},{\"id\":\"1144\"}]},\"id\":\"1146\",\"type\":\"Toolbar\"},{\"attributes\":{\"text\":\"church texas figure\",\"text_color\":\"#9edae5\",\"x\":3.7358083724975586,\"y\":-8.648079872131348},\"id\":\"1177\",\"type\":\"Label\"},{\"attributes\":{\"text\":\"secretary ukraine mariupol\",\"text_color\":\"#ffbb78\",\"x\":1.0637539625167847,\"y\":-11.307204246520996},\"id\":\"1161\",\"type\":\"Label\"},{\"attributes\":{},\"id\":\"1125\",\"type\":\"DataRange1d\"},{\"attributes\":{\"text\":\"oil russian abortion\",\"text_color\":\"#2ca02c\",\"x\":-2.539738178253174,\"y\":-13.18300724029541},\"id\":\"1162\",\"type\":\"Label\"},{\"attributes\":{},\"id\":\"1191\",\"type\":\"AllLabels\"},{\"attributes\":{\"data\":{\"fill_color\":[\"#ff7f0e\",\"#ff9896\",\"#d62728\",\"#2ca02c\",\"#f7b6d2\",\"#aec7e8\",\"#7f7f7f\",\"#f7b6d2\",\"#ff9896\",\"#7f7f7f\",\"#17becf\",\"#ff7f0e\",\"#ffbb78\",\"#d62728\",\"#9edae5\",\"#d62728\",\"#ff9896\",\"#1f77b4\",\"#ff7f0e\",\"#1f77b4\",\"#9edae5\",\"#ff9896\",\"#17becf\",\"#ffbb78\",\"#ffbb78\",\"#bcbd22\",\"#ff9896\",\"#ff9896\",\"#ffbb78\",\"#bcbd22\",\"#ffbb78\",\"#c5b0d5\",\"#f7b6d2\",\"#c5b0d5\",\"#17becf\",\"#ffbb78\",\"#aec7e8\",\"#d62728\",\"#f7b6d2\",\"#2ca02c\",\"#ffbb78\",\"#ff9896\",\"#ff9896\",\"#dbdb8d\",\"#bcbd22\",\"#98df8a\",\"#2ca02c\",\"#c49c94\",\"#f7b6d2\",\"#c7c7c7\",\"#ff7f0e\",\"#e377c2\",\"#f7b6d2\",\"#e377c2\",\"#ffbb78\",\"#dbdb8d\",\"#2ca02c\",\"#7f7f7f\",\"#dbdb8d\",\"#c7c7c7\",\"#7f7f7f\",\"#d62728\",\"#8c564b\",\"#aec7e8\",\"#7f7f7f\",\"#c5b0d5\",\"#9edae5\",\"#c49c94\",\"#aec7e8\",\"#ff7f0e\",\"#ffbb78\",\"#17becf\",\"#ff7f0e\",\"#aec7e8\",\"#ff9896\",\"#98df8a\",\"#9467bd\",\"#ff9896\",\"#bcbd22\",\"#9467bd\",\"#c5b0d5\",\"#9467bd\",\"#17becf\",\"#c7c7c7\",\"#7f7f7f\",\"#98df8a\",\"#ff9896\",\"#7f7f7f\",\"#8c564b\",\"#ff7f0e\",\"#1f77b4\",\"#ffbb78\",\"#c5b0d5\",\"#7f7f7f\",\"#f7b6d2\",\"#f7b6d2\",\"#c49c94\",\"#98df8a\",\"#7f7f7f\",\"#f7b6d2\",\"#2ca02c\",\"#ff9896\",\"#ff9896\",\"#bcbd22\",\"#c7c7c7\",\"#ff9896\",\"#bcbd22\",\"#aec7e8\",\"#ff7f0e\",\"#ff7f0e\",\"#9467bd\",\"#98df8a\",\"#ff9896\",\"#7f7f7f\",\"#7f7f7f\",\"#9edae5\",\"#1f77b4\",\"#c49c94\",\"#ff9896\",\"#e377c2\",\"#7f7f7f\",\"#c49c94\",\"#9467bd\",\"#9edae5\",\"#c49c94\",\"#dbdb8d\",\"#2ca02c\",\"#7f7f7f\",\"#d62728\",\"#bcbd22\",\"#17becf\",\"#ffbb78\",\"#c49c94\",\"#ff9896\",\"#c49c94\",\"#aec7e8\",\"#2ca02c\",\"#c49c94\",\"#9467bd\",\"#7f7f7f\",\"#c5b0d5\",\"#7f7f7f\",\"#ffbb78\",\"#2ca02c\",\"#ff7f0e\",\"#e377c2\",\"#bcbd22\",\"#dbdb8d\",\"#2ca02c\",\"#bcbd22\",\"#c7c7c7\",\"#e377c2\",\"#8c564b\",\"#9edae5\",\"#d62728\",\"#ffbb78\",\"#7f7f7f\",\"#bcbd22\",\"#e377c2\",\"#c5b0d5\",\"#2ca02c\",\"#9467bd\",\"#2ca02c\",\"#7f7f7f\"],\"line_color\":[\"#ff7f0e\",\"#ff9896\",\"#d62728\",\"#2ca02c\",\"#f7b6d2\",\"#aec7e8\",\"#7f7f7f\",\"#f7b6d2\",\"#ff9896\",\"#7f7f7f\",\"#17becf\",\"#ff7f0e\",\"#ffbb78\",\"#d62728\",\"#9edae5\",\"#d62728\",\"#ff9896\",\"#1f77b4\",\"#ff7f0e\",\"#1f77b4\",\"#9edae5\",\"#ff9896\",\"#17becf\",\"#ffbb78\",\"#ffbb78\",\"#bcbd22\",\"#ff9896\",\"#ff9896\",\"#ffbb78\",\"#bcbd22\",\"#ffbb78\",\"#c5b0d5\",\"#f7b6d2\",\"#c5b0d5\",\"#17becf\",\"#ffbb78\",\"#aec7e8\",\"#d62728\",\"#f7b6d2\",\"#2ca02c\",\"#ffbb78\",\"#ff9896\",\"#ff9896\",\"#dbdb8d\",\"#bcbd22\",\"#98df8a\",\"#2ca02c\",\"#c49c94\",\"#f7b6d2\",\"#c7c7c7\",\"#ff7f0e\",\"#e377c2\",\"#f7b6d2\",\"#e377c2\",\"#ffbb78\",\"#dbdb8d\",\"#2ca02c\",\"#7f7f7f\",\"#dbdb8d\",\"#c7c7c7\",\"#7f7f7f\",\"#d62728\",\"#8c564b\",\"#aec7e8\",\"#7f7f7f\",\"#c5b0d5\",\"#9edae5\",\"#c49c94\",\"#aec7e8\",\"#ff7f0e\",\"#ffbb78\",\"#17becf\",\"#ff7f0e\",\"#aec7e8\",\"#ff9896\",\"#98df8a\",\"#9467bd\",\"#ff9896\",\"#bcbd22\",\"#9467bd\",\"#c5b0d5\",\"#9467bd\",\"#17becf\",\"#c7c7c7\",\"#7f7f7f\",\"#98df8a\",\"#ff9896\",\"#7f7f7f\",\"#8c564b\",\"#ff7f0e\",\"#1f77b4\",\"#ffbb78\",\"#c5b0d5\",\"#7f7f7f\",\"#f7b6d2\",\"#f7b6d2\",\"#c49c94\",\"#98df8a\",\"#7f7f7f\",\"#f7b6d2\",\"#2ca02c\",\"#ff9896\",\"#ff9896\",\"#bcbd22\",\"#c7c7c7\",\"#ff9896\",\"#bcbd22\",\"#aec7e8\",\"#ff7f0e\",\"#ff7f0e\",\"#9467bd\",\"#98df8a\",\"#ff9896\",\"#7f7f7f\",\"#7f7f7f\",\"#9edae5\",\"#1f77b4\",\"#c49c94\",\"#ff9896\",\"#e377c2\",\"#7f7f7f\",\"#c49c94\",\"#9467bd\",\"#9edae5\",\"#c49c94\",\"#dbdb8d\",\"#2ca02c\",\"#7f7f7f\",\"#d62728\",\"#bcbd22\",\"#17becf\",\"#ffbb78\",\"#c49c94\",\"#ff9896\",\"#c49c94\",\"#aec7e8\",\"#2ca02c\",\"#c49c94\",\"#9467bd\",\"#7f7f7f\",\"#c5b0d5\",\"#7f7f7f\",\"#ffbb78\",\"#2ca02c\",\"#ff7f0e\",\"#e377c2\",\"#bcbd22\",\"#dbdb8d\",\"#2ca02c\",\"#bcbd22\",\"#c7c7c7\",\"#e377c2\",\"#8c564b\",\"#9edae5\",\"#d62728\",\"#ffbb78\",\"#7f7f7f\",\"#bcbd22\",\"#e377c2\",\"#c5b0d5\",\"#2ca02c\",\"#9467bd\",\"#2ca02c\",\"#7f7f7f\"],\"x\":{\"__ndarray__\":\"qyCJv6du/MDjEt8/9CsawCH0csCsyRbBNzfAwNlScMBsVAPBNBvXwHtMD0Ai35a/3U9GPxqj3j8xjWxAXN3dP/nP4sCi8JDAOmJnvxjXkMC0Y2xA7ekFwY5oD0DMbKs/RRhZP+6BhsAC6wnB6W78wLPxmz9ytYbAbZmfPx5vBcAh9HLAl3ERwBOmFUAk+GY/fpcWwZpt2j8oJXnA7ckVwG/fMz+k/f3Aij0HwWhs8MAndIfAMJIQwBYTM8BNFny/8KBzwI3dj8DWP4G/2D8VPq/occCE1Xc9FoKwP9Lb8MBcySjAsKrGwChl8sAqr4/AdzrFwMF03z//A2TAmrkWweBkrcCJdhHAdNtrQBe8eL/mdhbBGXVyv1gqmz/uzw1AAvtRv43vFsHJRvTAh4UQwCP5zsDfgQPBa0aRwInPy8CJdhHAKLLLwCeoD0CO3Y/AZrKowDV/EMDVFAHBq0rMwDNWYsC8KXS/QOuQwM3JsD96nRHA0Ii1wCDMbMDbcHHA0sp7v5cHE8B2W87AKeJxwNOfKsBcxQfBDXXywMDOisD2m4/AbtQFwWNGkcAzZRjBdvNUv4FcnL8vc8vAz8QQwPkMDMHH9LnALR/XwEqUdEC65pDAf/SEv+x9+sDDl449NWDAwEcWfL9EWMvAs5dsQC77h7+iR/DA1xcnwLK3vcANb90/KUSMwEnLDkB6tks/84B/v5fx8MA5Z3m/ht0WwSmaIsBx3X6/LnPLwFPYxsD5chHAqhPOwGFVST9KEhPAwvGNv75TcD2QFJHAX1HwwHCFM8BDS5LAAZ6PwL8oYT21iGLAmpR0QI4N3j8wAp8/BsS+wGhrhsC+U3A9gKcRwMZ9I8CkAM/AIMARwId5y8A=\",\"dtype\":\"float32\",\"order\":\"little\",\"shape\":[164]},\"y\":{\"__ndarray__\":\"eywZwKUIIsEaIc7Ai5BWwS+qhMD8irvAMqXNwPv0hcDLOxbBGyrCwDkgYMAkCx7AQ9Y3wT4lzsAyPwrB9jLOwPDbLcFyBi3BWGEmwPXsLMEGPgrBnaMjwVsKYMArTDLBSmcwwavxZb/SrBvBxggiwaUDMMHEJ2a/ckEwwYnc9cAvqoTAIgMBwYxYW8AavTnBOZ+7wKlvzsCwKXvAVo9VwRdRMsH1EhXBHggYwfzHMMAb72C/zoQlwVRCU8HFgLnACmyEwPg2DMGW6CvARowVwTEXhcCuHgvBzjM4wYBaL8AqQk/BMdPlwOXCLMAfOAzB1xjPwP0ZzsBxaNLAFJO7wHwe4cBi0wDBmB4KwZ6kt8BkrbvAgrszwF+BOsEjMmHANg8KwFxyu8BZPB3BTI4lwfGiUME28hXBtYtjvyofTsFj0wDBtPhNwfPuX8D4NgzBeEHGwGCRJcE7HSPBpkDPwBHi0cC0syzAAP8swbkSNMEZCwHBscLSwJ/DicAY3ITAX564wFI4J8FQ9s3AWASFwHORVsHZ2hrBUWQawX29m784LwzBSpIjwSSCY79LI7vAJ5gYwJLRHcDbo03BPG0lwdC5IMFIT8nA8bbBwKm6CsEt+yzBP126wCs0FsEDGQvBhLu4wMeAucBXfk3B6SUKwZ4dvMCx0DDANP9WwdaOvcCfOs7AWZAGv8OBYMBl6jfBNHq4wN8LG8Eo9rfAZ3u7wA9OTsF5K7vA26NNwfAeuMAhiQDBZSbNwKVMMMGpolHBGCMawKImC8HoPIO/0sEwwKlJU8FG4mq/ki0MwRwxC8Ec7dHA2roKwa0vzsAWCjrBDwe6wLmoZL+iJgvBCskAwRilTsHXolDBFiFSwcQqucA=\",\"dtype\":\"float32\",\"order\":\"little\",\"shape\":[164]}},\"selected\":{\"id\":\"1196\"},\"selection_policy\":{\"id\":\"1197\"}},\"id\":\"1153\",\"type\":\"ColumnDataSource\"},{\"attributes\":{\"data_source\":{\"id\":\"1153\"},\"glyph\":{\"id\":\"1154\"},\"hover_glyph\":null,\"muted_glyph\":null,\"nonselection_glyph\":{\"id\":\"1155\"},\"view\":{\"id\":\"1157\"}},\"id\":\"1156\",\"type\":\"GlyphRenderer\"},{\"attributes\":{},\"id\":\"1140\",\"type\":\"WheelZoomTool\"},{\"attributes\":{},\"id\":\"1190\",\"type\":\"BasicTickFormatter\"},{\"attributes\":{},\"id\":\"1197\",\"type\":\"UnionRenderers\"},{\"attributes\":{\"text\":\"gas stock city\",\"text_color\":\"#98df8a\",\"x\":-2.2668375968933105,\"y\":-10.366114616394043},\"id\":\"1163\",\"type\":\"Label\"},{\"attributes\":{},\"id\":\"1136\",\"type\":\"BasicTicker\"},{\"attributes\":{},\"id\":\"1143\",\"type\":\"ResetTool\"},{\"attributes\":{\"text\":\"wave california chappelle\",\"text_color\":\"#1f77b4\",\"x\":-4.528128147125244,\"y\":-10.811375617980957},\"id\":\"1158\",\"type\":\"Label\"},{\"attributes\":{\"text\":\"library rep book\",\"text_color\":\"#c5b0d5\",\"x\":-2.246701717376709,\"y\":-7.999631404876709},\"id\":\"1167\",\"type\":\"Label\"},{\"attributes\":{\"text\":\"new people die\",\"text_color\":\"#9467bd\",\"x\":-6.39163875579834,\"y\":-12.911958694458008},\"id\":\"1166\",\"type\":\"Label\"},{\"attributes\":{\"axis\":{\"id\":\"1131\"},\"ticker\":null},\"id\":\"1134\",\"type\":\"Grid\"},{\"attributes\":{\"text\":\"ohio primary senate\",\"text_color\":\"#ff9896\",\"x\":-8.053533554077148,\"y\":-9.844379425048828},\"id\":\"1165\",\"type\":\"Label\"},{\"attributes\":{},\"id\":\"1142\",\"type\":\"SaveTool\"},{\"attributes\":{\"fill_alpha\":{\"value\":0.1},\"fill_color\":{\"field\":\"fill_color\"},\"line_alpha\":{\"value\":0.1},\"line_color\":{\"field\":\"line_color\"},\"x\":{\"field\":\"x\"},\"y\":{\"field\":\"y\"}},\"id\":\"1155\",\"type\":\"Scatter\"},{\"attributes\":{},\"id\":\"1194\",\"type\":\"AllLabels\"},{\"attributes\":{\"source\":{\"id\":\"1153\"}},\"id\":\"1157\",\"type\":\"CDSView\"},{\"attributes\":{\"text\":\"abortion john underground\",\"text_color\":\"#8c564b\",\"x\":-3.546283006668091,\"y\":-6.56476354598999},\"id\":\"1168\",\"type\":\"Label\"},{\"attributes\":{},\"id\":\"1129\",\"type\":\"LinearScale\"},{\"attributes\":{\"formatter\":{\"id\":\"1190\"},\"major_label_policy\":{\"id\":\"1191\"},\"ticker\":{\"id\":\"1132\"}},\"id\":\"1131\",\"type\":\"LinearAxis\"},{\"attributes\":{\"formatter\":{\"id\":\"1193\"},\"major_label_policy\":{\"id\":\"1194\"},\"ticker\":{\"id\":\"1136\"}},\"id\":\"1135\",\"type\":\"LinearAxis\"},{\"attributes\":{},\"id\":\"1127\",\"type\":\"LinearScale\"},{\"attributes\":{\"text\":\"climate change emotion\",\"text_color\":\"#c49c94\",\"x\":-0.9992820024490356,\"y\":-5.796376705169678},\"id\":\"1169\",\"type\":\"Label\"},{\"attributes\":{},\"id\":\"1123\",\"type\":\"DataRange1d\"},{\"attributes\":{},\"id\":\"1193\",\"type\":\"BasicTickFormatter\"},{\"attributes\":{\"text\":\"fairfax amber speak\",\"text_color\":\"#e377c2\",\"x\":0.07470013946294785,\"y\":-8.80478286743164},\"id\":\"1170\",\"type\":\"Label\"},{\"attributes\":{\"text\":\"mariupol york new\",\"text_color\":\"#f7b6d2\",\"x\":-3.7865192890167236,\"y\":-4.145907402038574},\"id\":\"1171\",\"type\":\"Label\"},{\"attributes\":{},\"id\":\"1139\",\"type\":\"PanTool\"},{\"attributes\":{\"axis\":{\"id\":\"1135\"},\"dimension\":1,\"ticker\":null},\"id\":\"1138\",\"type\":\"Grid\"},{\"attributes\":{\"text\":\"supreme court roe\",\"text_color\":\"#7f7f7f\",\"x\":-6.102619171142578,\"y\":-6.275481224060059},\"id\":\"1172\",\"type\":\"Label\"},{\"attributes\":{\"overlay\":{\"id\":\"1145\"}},\"id\":\"1141\",\"type\":\"BoxZoomTool\"}],\"root_ids\":[\"1120\"]},\"title\":\"Bokeh Application\",\"version\":\"2.3.3\"}};\n",
              "  var render_items = [{\"docid\":\"382b0f4d-d3e9-4c11-959e-ef6d6695f0a4\",\"root_ids\":[\"1120\"],\"roots\":{\"1120\":\"7cdaf00c-e371-4501-a54d-9b37d13b5f7c\"}}];\n",
              "  root.Bokeh.embed.embed_items_notebook(docs_json, render_items);\n",
              "\n",
              "  }\n",
              "  if (root.Bokeh !== undefined) {\n",
              "    embed_document(root);\n",
              "  } else {\n",
              "    var attempts = 0;\n",
              "    var timer = setInterval(function(root) {\n",
              "      if (root.Bokeh !== undefined) {\n",
              "        clearInterval(timer);\n",
              "        embed_document(root);\n",
              "      } else {\n",
              "        attempts++;\n",
              "        if (attempts > 100) {\n",
              "          clearInterval(timer);\n",
              "          console.log(\"Bokeh: ERROR: Unable to run BokehJS code because BokehJS library is missing\");\n",
              "        }\n",
              "      }\n",
              "    }, 10, root)\n",
              "  }\n",
              "})(window);"
            ],
            "application/vnd.bokehjs_exec.v0+json": ""
          },
          "metadata": {
            "application/vnd.bokehjs_exec.v0+json": {
              "id": "1120"
            }
          }
        }
      ]
    },
    {
      "cell_type": "code",
      "source": [
        "for t in range(n_topics):\n",
        "    print(top_3_words_lda[t])"
      ],
      "metadata": {
        "colab": {
          "base_uri": "https://localhost:8080/"
        },
        "id": "lsXNqbmy5MEA",
        "outputId": "a6e4d196-d015-4ffc-fa4e-c2c13c11e345"
      },
      "execution_count": 32,
      "outputs": [
        {
          "output_type": "stream",
          "name": "stdout",
          "text": [
            "wave california chappelle\n",
            "zurich natural capitol\n",
            "house free solar\n",
            "secretary ukraine mariupol\n",
            "oil russian abortion\n",
            "gas stock city\n",
            "quantitative kasha kondabolu\n",
            "ohio primary senate\n",
            "new people die\n",
            "library rep book\n",
            "abortion john underground\n",
            "climate change emotion\n",
            "fairfax amber speak\n",
            "mariupol york new\n",
            "supreme court roe\n",
            "abortion mask washington\n",
            "south new health\n",
            "arizona judge year\n",
            "tulsa shirt auction\n",
            "church texas figure\n"
          ]
        }
      ]
    }
  ]
}