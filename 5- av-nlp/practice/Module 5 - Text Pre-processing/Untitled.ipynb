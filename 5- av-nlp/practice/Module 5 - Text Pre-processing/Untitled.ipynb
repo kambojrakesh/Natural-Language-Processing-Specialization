{
 "cells": [
  {
   "cell_type": "code",
   "execution_count": 2,
   "id": "4dce6a20",
   "metadata": {},
   "outputs": [
    {
     "name": "stdout",
     "output_type": "stream",
     "text": [
      "['hello', 'how', 'are', 'you?']\n"
     ]
    }
   ],
   "source": [
    "text =\"hello how are you?\"\n",
    "print(text.split())"
   ]
  },
  {
   "cell_type": "code",
   "execution_count": 3,
   "id": "8be56986",
   "metadata": {},
   "outputs": [],
   "source": [
    "import spacy"
   ]
  },
  {
   "cell_type": "code",
   "execution_count": 4,
   "id": "b409d39c",
   "metadata": {},
   "outputs": [],
   "source": [
    "nlp=spacy.load('en_core_web_sm')"
   ]
  },
  {
   "cell_type": "code",
   "execution_count": 8,
   "id": "5e070252",
   "metadata": {},
   "outputs": [
    {
     "data": {
      "text/plain": [
       "spacy.tokens.doc.Doc"
      ]
     },
     "execution_count": 8,
     "metadata": {},
     "output_type": "execute_result"
    }
   ],
   "source": [
    "doc=nlp(text)\n",
    "type(doc)"
   ]
  },
  {
   "cell_type": "code",
   "execution_count": 10,
   "id": "a2fcc760",
   "metadata": {},
   "outputs": [
    {
     "data": {
      "text/plain": [
       "[spacy.tokens.token.Token,\n",
       " spacy.tokens.token.Token,\n",
       " spacy.tokens.token.Token,\n",
       " spacy.tokens.token.Token,\n",
       " spacy.tokens.token.Token]"
      ]
     },
     "execution_count": 10,
     "metadata": {},
     "output_type": "execute_result"
    }
   ],
   "source": [
    "[type(x) for x in doc]"
   ]
  },
  {
   "cell_type": "code",
   "execution_count": 12,
   "id": "3cdce5ed",
   "metadata": {},
   "outputs": [
    {
     "data": {
      "text/plain": [
       "['hello', 'how', 'are', 'you', '?']"
      ]
     },
     "execution_count": 12,
     "metadata": {},
     "output_type": "execute_result"
    }
   ],
   "source": [
    "[x.text for x in doc]"
   ]
  },
  {
   "cell_type": "code",
   "execution_count": null,
   "id": "70c9623d",
   "metadata": {},
   "outputs": [],
   "source": []
  }
 ],
 "metadata": {
  "kernelspec": {
   "display_name": "Python 3",
   "language": "python",
   "name": "python3"
  },
  "language_info": {
   "codemirror_mode": {
    "name": "ipython",
    "version": 3
   },
   "file_extension": ".py",
   "mimetype": "text/x-python",
   "name": "python",
   "nbconvert_exporter": "python",
   "pygments_lexer": "ipython3",
   "version": "3.8.8"
  }
 },
 "nbformat": 4,
 "nbformat_minor": 5
}
