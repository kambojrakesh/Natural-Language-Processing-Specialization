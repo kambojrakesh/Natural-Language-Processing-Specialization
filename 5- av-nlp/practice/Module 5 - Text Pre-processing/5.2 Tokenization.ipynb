{
 "cells": [
  {
   "cell_type": "code",
   "execution_count": 106,
   "metadata": {
    "colab": {},
    "colab_type": "code",
    "executionInfo": {
     "elapsed": 1290,
     "status": "ok",
     "timestamp": 1598782505222,
     "user": {
      "displayName": "Aishwarya Singh",
      "photoUrl": "https://lh3.googleusercontent.com/a-/AOh14GgeJwfn4BdBDCAplWi_kdtB9FRssOpXO7T_aMgg=s64",
      "userId": "01105858832371513140"
     },
     "user_tz": -330
    },
    "id": "RtF6PxC6i7Kw"
   },
   "outputs": [],
   "source": [
    "# Defining string\n",
    "text= \"I'm working as a Data_Scientist in the U.S. and earning $140,000. Governor Serhiy_Gaidai said about 30% of residents had stayed in the area’s cities and villages despite being asked to leave. They [Russia] are amassing forces for an offensive and we see the number of shellings has increased, Gaidai told public television.\""
   ]
  },
  {
   "cell_type": "code",
   "execution_count": 107,
   "metadata": {
    "colab": {
     "base_uri": "https://localhost:8080/",
     "height": 34
    },
    "colab_type": "code",
    "executionInfo": {
     "elapsed": 1075,
     "status": "ok",
     "timestamp": 1598782520476,
     "user": {
      "displayName": "Aishwarya Singh",
      "photoUrl": "https://lh3.googleusercontent.com/a-/AOh14GgeJwfn4BdBDCAplWi_kdtB9FRssOpXO7T_aMgg=s64",
      "userId": "01105858832371513140"
     },
     "user_tz": -330
    },
    "id": "zI-hr_Lti7K6",
    "outputId": "dbe2e6f3-d3bb-4606-a000-8deb6d4df0dc"
   },
   "outputs": [
    {
     "name": "stdout",
     "output_type": "stream",
     "text": [
      "[\"I'm\", 'working', 'as', 'a', 'Data_Scientist', 'in', 'the', 'U.S.', 'and', 'earning', '$140,000.', 'Governor', 'Serhiy_Gaidai', 'said', 'about', '30%', 'of', 'residents', 'had', 'stayed', 'in', 'the', 'area’s', 'cities', 'and', 'villages', 'despite', 'being', 'asked', 'to', 'leave.', 'They', '[Russia]', 'are', 'amassing', 'forces', 'for', 'an', 'offensive', 'and', 'we', 'see', 'the', 'number', 'of', 'shellings', 'has', 'increased,', 'Gaidai', 'told', 'public', 'television.']\n"
     ]
    }
   ],
   "source": [
    "text1 = text\n",
    "# Whitespace Tokenizer\n",
    "print(text.split())"
   ]
  },
  {
   "cell_type": "code",
   "execution_count": 108,
   "metadata": {
    "colab": {},
    "colab_type": "code",
    "executionInfo": {
     "elapsed": 1753,
     "status": "ok",
     "timestamp": 1598782614087,
     "user": {
      "displayName": "Aishwarya Singh",
      "photoUrl": "https://lh3.googleusercontent.com/a-/AOh14GgeJwfn4BdBDCAplWi_kdtB9FRssOpXO7T_aMgg=s64",
      "userId": "01105858832371513140"
     },
     "user_tz": -330
    },
    "id": "QwOeOOd8i7LE"
   },
   "outputs": [],
   "source": [
    "import spacy"
   ]
  },
  {
   "cell_type": "markdown",
   "metadata": {
    "colab_type": "text",
    "id": "nRkbF65Di7LM"
   },
   "source": [
    "Models in spaCy for English Language as of release 2.3.1:\n",
    "- **en_core_web_sm:** 11MB\n",
    "- **en_core_web_md:** 48MB\n",
    "- **en_core_web_lg:** 746MB"
   ]
  },
  {
   "cell_type": "code",
   "execution_count": 109,
   "metadata": {
    "colab": {},
    "colab_type": "code",
    "executionInfo": {
     "elapsed": 1852,
     "status": "ok",
     "timestamp": 1598782685464,
     "user": {
      "displayName": "Aishwarya Singh",
      "photoUrl": "https://lh3.googleusercontent.com/a-/AOh14GgeJwfn4BdBDCAplWi_kdtB9FRssOpXO7T_aMgg=s64",
      "userId": "01105858832371513140"
     },
     "user_tz": -330
    },
    "id": "uNMIGwtgi7LO"
   },
   "outputs": [],
   "source": [
    "# Loading model\n",
    "nlp=spacy.load('en_core_web_sm')"
   ]
  },
  {
   "cell_type": "code",
   "execution_count": 110,
   "metadata": {
    "colab": {},
    "colab_type": "code",
    "executionInfo": {
     "elapsed": 1022,
     "status": "ok",
     "timestamp": 1598782688645,
     "user": {
      "displayName": "Aishwarya Singh",
      "photoUrl": "https://lh3.googleusercontent.com/a-/AOh14GgeJwfn4BdBDCAplWi_kdtB9FRssOpXO7T_aMgg=s64",
      "userId": "01105858832371513140"
     },
     "user_tz": -330
    },
    "id": "W_V6pOrri7LV"
   },
   "outputs": [],
   "source": [
    "# creating Doc object\n",
    "doc=nlp(text)"
   ]
  },
  {
   "cell_type": "code",
   "execution_count": 111,
   "metadata": {
    "colab": {
     "base_uri": "https://localhost:8080/",
     "height": 34
    },
    "colab_type": "code",
    "executionInfo": {
     "elapsed": 1327,
     "status": "ok",
     "timestamp": 1598782691592,
     "user": {
      "displayName": "Aishwarya Singh",
      "photoUrl": "https://lh3.googleusercontent.com/a-/AOh14GgeJwfn4BdBDCAplWi_kdtB9FRssOpXO7T_aMgg=s64",
      "userId": "01105858832371513140"
     },
     "user_tz": -330
    },
    "id": "ZfhUAFNxi7Ld",
    "outputId": "e1a854ab-ac52-4573-9bbc-40354d11c66b"
   },
   "outputs": [
    {
     "data": {
      "text/plain": [
       "I'm working as a Data_Scientist in the U.S. and earning $140,000. Governor Serhiy_Gaidai said about 30% of residents had stayed in the area’s cities and villages despite being asked to leave. They [Russia] are amassing forces for an offensive and we see the number of shellings has increased, Gaidai told public television."
      ]
     },
     "execution_count": 111,
     "metadata": {},
     "output_type": "execute_result"
    }
   ],
   "source": [
    "doc"
   ]
  },
  {
   "cell_type": "code",
   "execution_count": 112,
   "metadata": {
    "colab": {
     "base_uri": "https://localhost:8080/",
     "height": 34
    },
    "colab_type": "code",
    "executionInfo": {
     "elapsed": 1156,
     "status": "ok",
     "timestamp": 1598782712951,
     "user": {
      "displayName": "Aishwarya Singh",
      "photoUrl": "https://lh3.googleusercontent.com/a-/AOh14GgeJwfn4BdBDCAplWi_kdtB9FRssOpXO7T_aMgg=s64",
      "userId": "01105858832371513140"
     },
     "user_tz": -330
    },
    "id": "is99sNori7Ll",
    "outputId": "c7d0a0ed-b420-4125-dee1-96cdb28165cd"
   },
   "outputs": [
    {
     "data": {
      "text/plain": [
       "spacy.tokens.doc.Doc"
      ]
     },
     "execution_count": 112,
     "metadata": {},
     "output_type": "execute_result"
    }
   ],
   "source": [
    "type(doc)"
   ]
  },
  {
   "cell_type": "code",
   "execution_count": 113,
   "metadata": {
    "colab": {
     "base_uri": "https://localhost:8080/",
     "height": 34
    },
    "colab_type": "code",
    "executionInfo": {
     "elapsed": 1368,
     "status": "ok",
     "timestamp": 1598782723499,
     "user": {
      "displayName": "Aishwarya Singh",
      "photoUrl": "https://lh3.googleusercontent.com/a-/AOh14GgeJwfn4BdBDCAplWi_kdtB9FRssOpXO7T_aMgg=s64",
      "userId": "01105858832371513140"
     },
     "user_tz": -330
    },
    "id": "TArL0yPei7Lt",
    "outputId": "6c1e7619-133e-4bd7-da60-0cc6af3936e1"
   },
   "outputs": [
    {
     "name": "stdout",
     "output_type": "stream",
     "text": [
      "[I, 'm, working, as, a, Data_Scientist, in, the, U.S., and, earning, $, 140,000, ., Governor, Serhiy_Gaidai, said, about, 30, %, of, residents, had, stayed, in, the, area, ’s, cities, and, villages, despite, being, asked, to, leave, ., They, [, Russia, ], are, amassing, forces, for, an, offensive, and, we, see, the, number, of, shellings, has, increased, ,, Gaidai, told, public, television, .]\n"
     ]
    }
   ],
   "source": [
    "# spaCy Tokenizer\n",
    "print([token for token in doc])"
   ]
  },
  {
   "cell_type": "code",
   "execution_count": 114,
   "metadata": {
    "colab": {
     "base_uri": "https://localhost:8080/",
     "height": 278
    },
    "colab_type": "code",
    "executionInfo": {
     "elapsed": 1120,
     "status": "ok",
     "timestamp": 1598782755572,
     "user": {
      "displayName": "Aishwarya Singh",
      "photoUrl": "https://lh3.googleusercontent.com/a-/AOh14GgeJwfn4BdBDCAplWi_kdtB9FRssOpXO7T_aMgg=s64",
      "userId": "01105858832371513140"
     },
     "user_tz": -330
    },
    "id": "0DTjZrDyi7L2",
    "outputId": "7bf0b9ca-eed7-4605-ad54-8c03d0023db4"
   },
   "outputs": [
    {
     "data": {
      "text/plain": [
       "[spacy.tokens.token.Token,\n",
       " spacy.tokens.token.Token,\n",
       " spacy.tokens.token.Token,\n",
       " spacy.tokens.token.Token,\n",
       " spacy.tokens.token.Token,\n",
       " spacy.tokens.token.Token,\n",
       " spacy.tokens.token.Token,\n",
       " spacy.tokens.token.Token,\n",
       " spacy.tokens.token.Token,\n",
       " spacy.tokens.token.Token,\n",
       " spacy.tokens.token.Token,\n",
       " spacy.tokens.token.Token,\n",
       " spacy.tokens.token.Token,\n",
       " spacy.tokens.token.Token,\n",
       " spacy.tokens.token.Token,\n",
       " spacy.tokens.token.Token,\n",
       " spacy.tokens.token.Token,\n",
       " spacy.tokens.token.Token,\n",
       " spacy.tokens.token.Token,\n",
       " spacy.tokens.token.Token,\n",
       " spacy.tokens.token.Token,\n",
       " spacy.tokens.token.Token,\n",
       " spacy.tokens.token.Token,\n",
       " spacy.tokens.token.Token,\n",
       " spacy.tokens.token.Token,\n",
       " spacy.tokens.token.Token,\n",
       " spacy.tokens.token.Token,\n",
       " spacy.tokens.token.Token,\n",
       " spacy.tokens.token.Token,\n",
       " spacy.tokens.token.Token,\n",
       " spacy.tokens.token.Token,\n",
       " spacy.tokens.token.Token,\n",
       " spacy.tokens.token.Token,\n",
       " spacy.tokens.token.Token,\n",
       " spacy.tokens.token.Token,\n",
       " spacy.tokens.token.Token,\n",
       " spacy.tokens.token.Token,\n",
       " spacy.tokens.token.Token,\n",
       " spacy.tokens.token.Token,\n",
       " spacy.tokens.token.Token,\n",
       " spacy.tokens.token.Token,\n",
       " spacy.tokens.token.Token,\n",
       " spacy.tokens.token.Token,\n",
       " spacy.tokens.token.Token,\n",
       " spacy.tokens.token.Token,\n",
       " spacy.tokens.token.Token,\n",
       " spacy.tokens.token.Token,\n",
       " spacy.tokens.token.Token,\n",
       " spacy.tokens.token.Token,\n",
       " spacy.tokens.token.Token,\n",
       " spacy.tokens.token.Token,\n",
       " spacy.tokens.token.Token,\n",
       " spacy.tokens.token.Token,\n",
       " spacy.tokens.token.Token,\n",
       " spacy.tokens.token.Token,\n",
       " spacy.tokens.token.Token,\n",
       " spacy.tokens.token.Token,\n",
       " spacy.tokens.token.Token,\n",
       " spacy.tokens.token.Token,\n",
       " spacy.tokens.token.Token,\n",
       " spacy.tokens.token.Token,\n",
       " spacy.tokens.token.Token]"
      ]
     },
     "execution_count": 114,
     "metadata": {},
     "output_type": "execute_result"
    }
   ],
   "source": [
    "# Type of token\n",
    "[type(token) for token in doc]"
   ]
  },
  {
   "cell_type": "code",
   "execution_count": 115,
   "metadata": {
    "colab": {
     "base_uri": "https://localhost:8080/",
     "height": 34
    },
    "colab_type": "code",
    "executionInfo": {
     "elapsed": 1218,
     "status": "ok",
     "timestamp": 1598782775865,
     "user": {
      "displayName": "Aishwarya Singh",
      "photoUrl": "https://lh3.googleusercontent.com/a-/AOh14GgeJwfn4BdBDCAplWi_kdtB9FRssOpXO7T_aMgg=s64",
      "userId": "01105858832371513140"
     },
     "user_tz": -330
    },
    "id": "WDDbkA7wi7L9",
    "outputId": "1ab2ff6e-9edc-4b3c-e8cb-f9164beae281",
    "scrolled": true
   },
   "outputs": [
    {
     "name": "stdout",
     "output_type": "stream",
     "text": [
      "['I', \"'m\", 'working', 'as', 'a', 'Data_Scientist', 'in', 'the', 'U.S.', 'and', 'earning', '$', '140,000', '.', 'Governor', 'Serhiy_Gaidai', 'said', 'about', '30', '%', 'of', 'residents', 'had', 'stayed', 'in', 'the', 'area', '’s', 'cities', 'and', 'villages', 'despite', 'being', 'asked', 'to', 'leave', '.', 'They', '[', 'Russia', ']', 'are', 'amassing', 'forces', 'for', 'an', 'offensive', 'and', 'we', 'see', 'the', 'number', 'of', 'shellings', 'has', 'increased', ',', 'Gaidai', 'told', 'public', 'television', '.']\n"
     ]
    }
   ],
   "source": [
    "# Tokens as string\n",
    "print([token.text for token in doc])"
   ]
  },
  {
   "cell_type": "code",
   "execution_count": 116,
   "metadata": {
    "colab": {
     "base_uri": "https://localhost:8080/",
     "height": 52
    },
    "colab_type": "code",
    "executionInfo": {
     "elapsed": 1054,
     "status": "ok",
     "timestamp": 1598782891232,
     "user": {
      "displayName": "Aishwarya Singh",
      "photoUrl": "https://lh3.googleusercontent.com/a-/AOh14GgeJwfn4BdBDCAplWi_kdtB9FRssOpXO7T_aMgg=s64",
      "userId": "01105858832371513140"
     },
     "user_tz": -330
    },
    "id": "zwLhE_pBi7MF",
    "outputId": "9281d771-5652-4055-9a08-10f5868aea7d"
   },
   "outputs": [
    {
     "name": "stdout",
     "output_type": "stream",
     "text": [
      "[\"I'm\", 'working', 'as', 'a', 'Data_Scientist', 'in', 'the', 'U.S.', 'and', 'earning', '$140,000.', 'Governor', 'Serhiy_Gaidai', 'said', 'about', '30%', 'of', 'residents', 'had', 'stayed', 'in', 'the', 'area’s', 'cities', 'and', 'villages', 'despite', 'being', 'asked', 'to', 'leave.', 'They', '[Russia]', 'are', 'amassing', 'forces', 'for', 'an', 'offensive', 'and', 'we', 'see', 'the', 'number', 'of', 'shellings', 'has', 'increased,', 'Gaidai', 'told', 'public', 'television.']\n",
      "['I', \"'m\", 'working', 'as', 'a', 'Data_Scientist', 'in', 'the', 'U.S.', 'and', 'earning', '$', '140,000', '.', 'Governor', 'Serhiy_Gaidai', 'said', 'about', '30', '%', 'of', 'residents', 'had', 'stayed', 'in', 'the', 'area', '’s', 'cities', 'and', 'villages', 'despite', 'being', 'asked', 'to', 'leave', '.', 'They', '[', 'Russia', ']', 'are', 'amassing', 'forces', 'for', 'an', 'offensive', 'and', 'we', 'see', 'the', 'number', 'of', 'shellings', 'has', 'increased', ',', 'Gaidai', 'told', 'public', 'television', '.']\n"
     ]
    }
   ],
   "source": [
    "# Comparing Whitespace and spaCy Tokenizer\n",
    "\n",
    "# Whitespace Tokenizer\n",
    "print(text.split())\n",
    "\n",
    "# spaCy Tokenizer\n",
    "print([token.text for token in doc])"
   ]
  },
  {
   "cell_type": "code",
   "execution_count": 117,
   "metadata": {
    "colab": {
     "base_uri": "https://localhost:8080/",
     "height": 52
    },
    "colab_type": "code",
    "executionInfo": {
     "elapsed": 1152,
     "status": "ok",
     "timestamp": 1598782924904,
     "user": {
      "displayName": "Aishwarya Singh",
      "photoUrl": "https://lh3.googleusercontent.com/a-/AOh14GgeJwfn4BdBDCAplWi_kdtB9FRssOpXO7T_aMgg=s64",
      "userId": "01105858832371513140"
     },
     "user_tz": -330
    },
    "id": "i1Wi4Ewfi7MM",
    "outputId": "85051093-ab41-4da5-b6c4-84841d3d1593"
   },
   "outputs": [
    {
     "name": "stdout",
     "output_type": "stream",
     "text": [
      "52\n",
      "62\n"
     ]
    }
   ],
   "source": [
    "# No. of Tokens in Whitespace Tokenizer\n",
    "print(len(text.split()))\n",
    "\n",
    "# No. of Tokens in spaCy's Tokenizer\n",
    "print(len(doc))"
   ]
  },
  {
   "cell_type": "code",
   "execution_count": 118,
   "metadata": {
    "colab": {
     "base_uri": "https://localhost:8080/",
     "height": 52
    },
    "colab_type": "code",
    "executionInfo": {
     "elapsed": 1142,
     "status": "ok",
     "timestamp": 1598782958748,
     "user": {
      "displayName": "Aishwarya Singh",
      "photoUrl": "https://lh3.googleusercontent.com/a-/AOh14GgeJwfn4BdBDCAplWi_kdtB9FRssOpXO7T_aMgg=s64",
      "userId": "01105858832371513140"
     },
     "user_tz": -330
    },
    "id": "KvLyXUp7i7MU",
    "outputId": "c70be9dd-ed04-4d17-dbc8-b991a2f1cbc4"
   },
   "outputs": [
    {
     "name": "stdout",
     "output_type": "stream",
     "text": [
      "[\"I'm\", 'working', 'as', 'a', 'Data_Scientist', 'in', 'the', 'U.S.', 'and', 'earning', '$140,000.', 'Governor', 'Serhiy_Gaidai', 'said', 'about', '30%', 'of', 'residents', 'had', 'stayed', 'in', 'the', 'area’s', 'cities', 'and', 'villages', 'despite', 'being', 'asked', 'to', 'leave.', 'They', '[Russia]', 'are', 'amassing', 'forces', 'for', 'an', 'offensive', 'and', 'we', 'see', 'the', 'number', 'of', 'shellings', 'has', 'increased,', 'Gaidai', 'told', 'public', 'television.']\n",
      "['I', \"'m\", 'working', 'as', 'a', 'Data_Scientist', 'in', 'the', 'U.S.', 'and', 'earning', '$', '140,000', '.', 'Governor', 'Serhiy_Gaidai', 'said', 'about', '30', '%', 'of', 'residents', 'had', 'stayed', 'in', 'the', 'area', '’s', 'cities', 'and', 'villages', 'despite', 'being', 'asked', 'to', 'leave', '.', 'They', '[', 'Russia', ']', 'are', 'amassing', 'forces', 'for', 'an', 'offensive', 'and', 'we', 'see', 'the', 'number', 'of', 'shellings', 'has', 'increased', ',', 'Gaidai', 'told', 'public', 'television', '.']\n"
     ]
    }
   ],
   "source": [
    "#text=\"My phone has a 20% battery left.\"\n",
    "\n",
    "# Whitespace Tokenizer\n",
    "print(text.split())\n",
    "\n",
    "# spaCy Tokenizer\n",
    "print([token.text for token in nlp(text)])"
   ]
  },
  {
   "cell_type": "code",
   "execution_count": 119,
   "metadata": {
    "colab": {
     "base_uri": "https://localhost:8080/",
     "height": 52
    },
    "colab_type": "code",
    "executionInfo": {
     "elapsed": 1325,
     "status": "ok",
     "timestamp": 1598782980463,
     "user": {
      "displayName": "Aishwarya Singh",
      "photoUrl": "https://lh3.googleusercontent.com/a-/AOh14GgeJwfn4BdBDCAplWi_kdtB9FRssOpXO7T_aMgg=s64",
      "userId": "01105858832371513140"
     },
     "user_tz": -330
    },
    "id": "jsNGne55i7Mb",
    "outputId": "ba4954ad-1d31-4b94-e018-0f5d29210eae"
   },
   "outputs": [
    {
     "name": "stdout",
     "output_type": "stream",
     "text": [
      "[\"I'm\", 'working', 'as', 'a', 'Data_Scientist', 'in', 'the', 'U.S.', 'and', 'earning', '$140,000.', 'Governor', 'Serhiy_Gaidai', 'said', 'about', '30%', 'of', 'residents', 'had', 'stayed', 'in', 'the', 'area’s', 'cities', 'and', 'villages', 'despite', 'being', 'asked', 'to', 'leave.', 'They', '[Russia]', 'are', 'amassing', 'forces', 'for', 'an', 'offensive', 'and', 'we', 'see', 'the', 'number', 'of', 'shellings', 'has', 'increased,', 'Gaidai', 'told', 'public', 'television.']\n",
      "['I', \"'m\", 'working', 'as', 'a', 'Data_Scientist', 'in', 'the', 'U.S.', 'and', 'earning', '$', '140,000', '.', 'Governor', 'Serhiy_Gaidai', 'said', 'about', '30', '%', 'of', 'residents', 'had', 'stayed', 'in', 'the', 'area', '’s', 'cities', 'and', 'villages', 'despite', 'being', 'asked', 'to', 'leave', '.', 'They', '[', 'Russia', ']', 'are', 'amassing', 'forces', 'for', 'an', 'offensive', 'and', 'we', 'see', 'the', 'number', 'of', 'shellings', 'has', 'increased', ',', 'Gaidai', 'told', 'public', 'television', '.']\n"
     ]
    }
   ],
   "source": [
    "#text=\"I ran 10km today.\"\n",
    "\n",
    "# Whitespace Tokenizer\n",
    "print(text.split())\n",
    "\n",
    "# spaCy Tokenizer\n",
    "print([token.text for token in nlp(text)])"
   ]
  },
  {
   "cell_type": "code",
   "execution_count": 120,
   "metadata": {
    "colab": {
     "base_uri": "https://localhost:8080/",
     "height": 52
    },
    "colab_type": "code",
    "executionInfo": {
     "elapsed": 868,
     "status": "ok",
     "timestamp": 1598783038977,
     "user": {
      "displayName": "Aishwarya Singh",
      "photoUrl": "https://lh3.googleusercontent.com/a-/AOh14GgeJwfn4BdBDCAplWi_kdtB9FRssOpXO7T_aMgg=s64",
      "userId": "01105858832371513140"
     },
     "user_tz": -330
    },
    "id": "xzwC7j9Si7Mi",
    "outputId": "1a8937a1-8274-4791-ddf2-168e88e6116d"
   },
   "outputs": [
    {
     "name": "stdout",
     "output_type": "stream",
     "text": [
      "[\"I'm\", 'working', 'as', 'a', 'Data_Scientist', 'in', 'the', 'U.S.', 'and', 'earning', '$140,000.', 'Governor', 'Serhiy_Gaidai', 'said', 'about', '30%', 'of', 'residents', 'had', 'stayed', 'in', 'the', 'area’s', 'cities', 'and', 'villages', 'despite', 'being', 'asked', 'to', 'leave.', 'They', '[Russia]', 'are', 'amassing', 'forces', 'for', 'an', 'offensive', 'and', 'we', 'see', 'the', 'number', 'of', 'shellings', 'has', 'increased,', 'Gaidai', 'told', 'public', 'television.']\n"
     ]
    }
   ],
   "source": [
    "#text=\"I know HTML, CSS, JavaScript, C++, and Node.js.\"\n",
    "\n",
    "# Whitespace Tokenizer\n",
    "print(text.split())\n",
    "\n",
    "# spaCy Tokenizer\n",
    "text =[token.text for token in nlp(text)]"
   ]
  },
  {
   "cell_type": "code",
   "execution_count": 133,
   "metadata": {
    "colab": {},
    "colab_type": "code",
    "id": "Fd5Tyzks5SAB"
   },
   "outputs": [
    {
     "ename": "AttributeError",
     "evalue": "'list' object has no attribute 'lower'",
     "output_type": "error",
     "traceback": [
      "\u001b[1;31m---------------------------------------------------------------------------\u001b[0m",
      "\u001b[1;31mAttributeError\u001b[0m                            Traceback (most recent call last)",
      "\u001b[1;32m<ipython-input-133-dd2402646e6e>\u001b[0m in \u001b[0;36m<module>\u001b[1;34m\u001b[0m\n\u001b[0;32m      8\u001b[0m     \u001b[1;32mreturn\u001b[0m \u001b[0mtext\u001b[0m\u001b[1;33m\u001b[0m\u001b[1;33m\u001b[0m\u001b[0m\n\u001b[0;32m      9\u001b[0m \u001b[1;33m\u001b[0m\u001b[0m\n\u001b[1;32m---> 10\u001b[1;33m \u001b[0mclean_text\u001b[0m\u001b[1;33m(\u001b[0m\u001b[0mtext\u001b[0m\u001b[1;33m)\u001b[0m\u001b[1;33m\u001b[0m\u001b[1;33m\u001b[0m\u001b[0m\n\u001b[0m\u001b[0;32m     11\u001b[0m \u001b[0mdoc\u001b[0m \u001b[1;33m=\u001b[0m  \u001b[0mnlp\u001b[0m\u001b[1;33m(\u001b[0m\u001b[0mcleaned_text\u001b[0m\u001b[1;33m)\u001b[0m\u001b[1;33m\u001b[0m\u001b[1;33m\u001b[0m\u001b[0m\n",
      "\u001b[1;32m<ipython-input-133-dd2402646e6e>\u001b[0m in \u001b[0;36mclean_text\u001b[1;34m(text)\u001b[0m\n\u001b[0;32m      1\u001b[0m \u001b[1;32mimport\u001b[0m \u001b[0mre\u001b[0m\u001b[1;33m\u001b[0m\u001b[1;33m\u001b[0m\u001b[0m\n\u001b[0;32m      2\u001b[0m \u001b[1;32mdef\u001b[0m \u001b[0mclean_text\u001b[0m\u001b[1;33m(\u001b[0m\u001b[0mtext\u001b[0m\u001b[1;33m)\u001b[0m\u001b[1;33m:\u001b[0m\u001b[1;33m\u001b[0m\u001b[1;33m\u001b[0m\u001b[0m\n\u001b[1;32m----> 3\u001b[1;33m     \u001b[0mtext\u001b[0m \u001b[1;33m=\u001b[0m \u001b[0mtext\u001b[0m\u001b[1;33m.\u001b[0m\u001b[0mlower\u001b[0m\u001b[1;33m(\u001b[0m\u001b[1;33m)\u001b[0m\u001b[1;33m\u001b[0m\u001b[1;33m\u001b[0m\u001b[0m\n\u001b[0m\u001b[0;32m      4\u001b[0m \u001b[1;33m\u001b[0m\u001b[0m\n\u001b[0;32m      5\u001b[0m     \u001b[0mtext\u001b[0m \u001b[1;33m=\u001b[0m \u001b[0mre\u001b[0m\u001b[1;33m.\u001b[0m\u001b[0msub\u001b[0m\u001b[1;33m(\u001b[0m\u001b[1;34m\"[\\[\\].,\\n]\"\u001b[0m\u001b[1;33m,\u001b[0m\u001b[1;34m\"\"\u001b[0m\u001b[1;33m,\u001b[0m \u001b[0mtext\u001b[0m\u001b[1;33m)\u001b[0m\u001b[1;33m\u001b[0m\u001b[1;33m\u001b[0m\u001b[0m\n",
      "\u001b[1;31mAttributeError\u001b[0m: 'list' object has no attribute 'lower'"
     ]
    }
   ],
   "source": [
    "import re\n",
    "def clean_text(text):\n",
    "    text = text.lower()\n",
    "    \n",
    "    text = re.sub(\"[\\[\\].,\\n]\",\"\", text)\n",
    "    text = re.sub(\"[-_]\",\" \", text)\n",
    "    \n",
    "    return text\n",
    "    \n",
    "clean_text(text)\n",
    "doc =  nlp(cleaned_text)"
   ]
  },
  {
   "cell_type": "code",
   "execution_count": 131,
   "metadata": {},
   "outputs": [
    {
     "data": {
      "text/plain": [
       "[I,\n",
       " 'm,\n",
       " working,\n",
       " as,\n",
       " a,\n",
       " Data_Scientist,\n",
       " in,\n",
       " the,\n",
       " U.S.,\n",
       " and,\n",
       " earning,\n",
       " $,\n",
       " 140,000,\n",
       " .,\n",
       " Governor,\n",
       " Serhiy_Gaidai,\n",
       " said,\n",
       " about,\n",
       " 30,\n",
       " %,\n",
       " of,\n",
       " residents,\n",
       " had,\n",
       " stayed,\n",
       " in,\n",
       " the,\n",
       " area,\n",
       " ’s,\n",
       " cities,\n",
       " and,\n",
       " villages,\n",
       " despite,\n",
       " being,\n",
       " asked,\n",
       " to,\n",
       " leave,\n",
       " .,\n",
       " They,\n",
       " [,\n",
       " Russia,\n",
       " ],\n",
       " are,\n",
       " amassing,\n",
       " forces,\n",
       " for,\n",
       " an,\n",
       " offensive,\n",
       " and,\n",
       " we,\n",
       " see,\n",
       " the,\n",
       " number,\n",
       " of,\n",
       " shellings,\n",
       " has,\n",
       " increased,\n",
       " ,,\n",
       " Gaidai,\n",
       " told,\n",
       " public,\n",
       " television,\n",
       " .]"
      ]
     },
     "execution_count": 131,
     "metadata": {},
     "output_type": "execute_result"
    }
   ],
   "source": [
    "import pandas as pd\n",
    "word_dic = {}\n",
    "\n",
    "for w in doc:\n",
    "    if w in word_dic:\n",
    "        word_dic[w] = word_dic[w] + 1\n",
    "    else:\n",
    "        word_dic[w] = 1\n",
    "list(word_dic)\n",
    "#pd.DataFrame({})"
   ]
  },
  {
   "cell_type": "code",
   "execution_count": null,
   "metadata": {},
   "outputs": [],
   "source": []
  }
 ],
 "metadata": {
  "colab": {
   "collapsed_sections": [],
   "name": "5.2 Tokenization.ipynb",
   "provenance": []
  },
  "kernelspec": {
   "display_name": "Python 3",
   "language": "python",
   "name": "python3"
  },
  "language_info": {
   "codemirror_mode": {
    "name": "ipython",
    "version": 3
   },
   "file_extension": ".py",
   "mimetype": "text/x-python",
   "name": "python",
   "nbconvert_exporter": "python",
   "pygments_lexer": "ipython3",
   "version": "3.8.8"
  }
 },
 "nbformat": 4,
 "nbformat_minor": 1
}
