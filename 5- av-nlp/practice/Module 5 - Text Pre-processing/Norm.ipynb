{
  "cells": [
    {
      "cell_type": "code",
      "execution_count": 5,
      "id": "4dce6a20",
      "metadata": {
        "colab": {
          "base_uri": "https://localhost:8080/"
        },
        "id": "4dce6a20",
        "outputId": "584225d3-3bf2-44aa-a034-7d0538a52c68"
      },
      "outputs": [
        {
          "output_type": "stream",
          "name": "stdout",
          "text": [
            "['hello', 'how', 'are', 'you?']\n"
          ]
        }
      ],
      "source": [
        "text =\"hello how are you?\"\n",
        "print(text.split())"
      ]
    },
    {
      "cell_type": "code",
      "execution_count": 6,
      "id": "8be56986",
      "metadata": {
        "id": "8be56986"
      },
      "outputs": [],
      "source": [
        "import spacy"
      ]
    },
    {
      "cell_type": "code",
      "execution_count": 7,
      "id": "b409d39c",
      "metadata": {
        "id": "b409d39c"
      },
      "outputs": [],
      "source": [
        "nlp=spacy.load('en_core_web_sm')"
      ]
    },
    {
      "cell_type": "code",
      "execution_count": 11,
      "id": "5e070252",
      "metadata": {
        "id": "5e070252"
      },
      "outputs": [],
      "source": [
        "doc = nlp(text)"
      ]
    },
    {
      "cell_type": "code",
      "execution_count": 12,
      "id": "a2fcc760",
      "metadata": {
        "colab": {
          "base_uri": "https://localhost:8080/"
        },
        "id": "a2fcc760",
        "outputId": "c92a4717-f292-4dd7-96d1-78e5e12e65ba"
      },
      "outputs": [
        {
          "output_type": "execute_result",
          "data": {
            "text/plain": [
              "[('hello', 'hello'),\n",
              " ('how', 'how'),\n",
              " ('are', 'be'),\n",
              " ('you', '-PRON-'),\n",
              " ('?', '?')]"
            ]
          },
          "metadata": {},
          "execution_count": 12
        }
      ],
      "source": [
        "[(t.text, t.lemma_) for t in doc]"
      ]
    },
    {
      "cell_type": "code",
      "execution_count": null,
      "id": "3cdce5ed",
      "metadata": {
        "id": "3cdce5ed",
        "outputId": "3bba504b-4b5b-4f61-ecd6-2763c9873c3e"
      },
      "outputs": [
        {
          "data": {
            "text/plain": [
              "['hello', 'how', 'are', 'you', '?']"
            ]
          },
          "execution_count": 12,
          "metadata": {},
          "output_type": "execute_result"
        }
      ],
      "source": [
        ""
      ]
    },
    {
      "cell_type": "code",
      "execution_count": null,
      "id": "70c9623d",
      "metadata": {
        "id": "70c9623d"
      },
      "outputs": [],
      "source": [
        ""
      ]
    }
  ],
  "metadata": {
    "kernelspec": {
      "display_name": "Python 3",
      "language": "python",
      "name": "python3"
    },
    "language_info": {
      "codemirror_mode": {
        "name": "ipython",
        "version": 3
      },
      "file_extension": ".py",
      "mimetype": "text/x-python",
      "name": "python",
      "nbconvert_exporter": "python",
      "pygments_lexer": "ipython3",
      "version": "3.8.8"
    },
    "colab": {
      "name": "Norm.ipynb",
      "provenance": []
    }
  },
  "nbformat": 4,
  "nbformat_minor": 5
}