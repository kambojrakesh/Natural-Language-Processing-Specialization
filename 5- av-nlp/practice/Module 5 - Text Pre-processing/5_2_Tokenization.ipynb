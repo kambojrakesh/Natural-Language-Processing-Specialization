{
  "cells": [
    {
      "cell_type": "code",
      "execution_count": null,
      "metadata": {
        "id": "RtF6PxC6i7Kw"
      },
      "outputs": [],
      "source": [
        "# Defining string\n",
        "text= \"I'm working as a Data_Scientist in the U.S. and earning $140,000. Governor Serhiy_Gaidai said about 30% of residents had stayed in the area’s cities and villages despite being asked to leave. They [Russia] are amassing forces for an offensive and we see the number of shellings has increased, Gaidai told public television.\""
      ]
    },
    {
      "cell_type": "code",
      "execution_count": null,
      "metadata": {
        "colab": {
          "base_uri": "https://localhost:8080/"
        },
        "id": "zI-hr_Lti7K6",
        "outputId": "0c1fe42b-c0aa-4bc6-9230-e10783475e1a"
      },
      "outputs": [
        {
          "output_type": "stream",
          "name": "stdout",
          "text": [
            "[\"I'm\", 'working', 'as', 'a', 'Data_Scientist', 'in', 'the', 'U.S.', 'and', 'earning', '$140,000.', 'Governor', 'Serhiy_Gaidai', 'said', 'about', '30%', 'of', 'residents', 'had', 'stayed', 'in', 'the', 'area’s', 'cities', 'and', 'villages', 'despite', 'being', 'asked', 'to', 'leave.', 'They', '[Russia]', 'are', 'amassing', 'forces', 'for', 'an', 'offensive', 'and', 'we', 'see', 'the', 'number', 'of', 'shellings', 'has', 'increased,', 'Gaidai', 'told', 'public', 'television.']\n"
          ]
        }
      ],
      "source": [
        "text1 = text\n",
        "# Whitespace Tokenizer\n",
        "print(text.split())"
      ]
    },
    {
      "cell_type": "code",
      "execution_count": null,
      "metadata": {
        "id": "QwOeOOd8i7LE"
      },
      "outputs": [],
      "source": [
        "import spacy"
      ]
    },
    {
      "cell_type": "markdown",
      "metadata": {
        "id": "nRkbF65Di7LM"
      },
      "source": [
        "Models in spaCy for English Language as of release 2.3.1:\n",
        "- **en_core_web_sm:** 11MB\n",
        "- **en_core_web_md:** 48MB\n",
        "- **en_core_web_lg:** 746MB"
      ]
    },
    {
      "cell_type": "code",
      "execution_count": null,
      "metadata": {
        "id": "uNMIGwtgi7LO"
      },
      "outputs": [],
      "source": [
        "# Loading model\n",
        "nlp=spacy.load('en_core_web_sm')"
      ]
    },
    {
      "cell_type": "code",
      "execution_count": null,
      "metadata": {
        "id": "W_V6pOrri7LV"
      },
      "outputs": [],
      "source": [
        "# creating Doc object\n",
        "doc=nlp(text)"
      ]
    },
    {
      "cell_type": "code",
      "execution_count": null,
      "metadata": {
        "colab": {
          "base_uri": "https://localhost:8080/"
        },
        "id": "ZfhUAFNxi7Ld",
        "outputId": "baa00a45-c924-43b1-9641-016da551b69e"
      },
      "outputs": [
        {
          "output_type": "execute_result",
          "data": {
            "text/plain": [
              "I'm working as a Data_Scientist in the U.S. and earning $140,000. Governor Serhiy_Gaidai said about 30% of residents had stayed in the area’s cities and villages despite being asked to leave. They [Russia] are amassing forces for an offensive and we see the number of shellings has increased, Gaidai told public television."
            ]
          },
          "metadata": {},
          "execution_count": 48
        }
      ],
      "source": [
        "doc"
      ]
    },
    {
      "cell_type": "code",
      "execution_count": null,
      "metadata": {
        "colab": {
          "base_uri": "https://localhost:8080/"
        },
        "id": "is99sNori7Ll",
        "outputId": "4a40fe42-3057-4cb5-dc5b-3c29f5a0f1a7"
      },
      "outputs": [
        {
          "output_type": "execute_result",
          "data": {
            "text/plain": [
              "spacy.tokens.doc.Doc"
            ]
          },
          "metadata": {},
          "execution_count": 49
        }
      ],
      "source": [
        "type(doc)"
      ]
    },
    {
      "cell_type": "code",
      "execution_count": null,
      "metadata": {
        "colab": {
          "base_uri": "https://localhost:8080/"
        },
        "id": "TArL0yPei7Lt",
        "outputId": "f4639321-13bc-4090-ad56-cb312ee8f316"
      },
      "outputs": [
        {
          "output_type": "stream",
          "name": "stdout",
          "text": [
            "[I, 'm, working, as, a, Data_Scientist, in, the, U.S., and, earning, $, 140,000, ., Governor, Serhiy_Gaidai, said, about, 30, %, of, residents, had, stayed, in, the, area, ’s, cities, and, villages, despite, being, asked, to, leave, ., They, [, Russia, ], are, amassing, forces, for, an, offensive, and, we, see, the, number, of, shellings, has, increased, ,, Gaidai, told, public, television, .]\n"
          ]
        }
      ],
      "source": [
        "# spaCy Tokenizer\n",
        "print([token for token in doc])"
      ]
    },
    {
      "cell_type": "code",
      "execution_count": null,
      "metadata": {
        "colab": {
          "base_uri": "https://localhost:8080/"
        },
        "id": "0DTjZrDyi7L2",
        "outputId": "2fc1a303-410f-49f7-b67a-47085a45ba89"
      },
      "outputs": [
        {
          "output_type": "execute_result",
          "data": {
            "text/plain": [
              "[spacy.tokens.token.Token,\n",
              " spacy.tokens.token.Token,\n",
              " spacy.tokens.token.Token,\n",
              " spacy.tokens.token.Token,\n",
              " spacy.tokens.token.Token,\n",
              " spacy.tokens.token.Token,\n",
              " spacy.tokens.token.Token,\n",
              " spacy.tokens.token.Token,\n",
              " spacy.tokens.token.Token,\n",
              " spacy.tokens.token.Token,\n",
              " spacy.tokens.token.Token,\n",
              " spacy.tokens.token.Token,\n",
              " spacy.tokens.token.Token,\n",
              " spacy.tokens.token.Token,\n",
              " spacy.tokens.token.Token,\n",
              " spacy.tokens.token.Token,\n",
              " spacy.tokens.token.Token,\n",
              " spacy.tokens.token.Token,\n",
              " spacy.tokens.token.Token,\n",
              " spacy.tokens.token.Token,\n",
              " spacy.tokens.token.Token,\n",
              " spacy.tokens.token.Token,\n",
              " spacy.tokens.token.Token,\n",
              " spacy.tokens.token.Token,\n",
              " spacy.tokens.token.Token,\n",
              " spacy.tokens.token.Token,\n",
              " spacy.tokens.token.Token,\n",
              " spacy.tokens.token.Token,\n",
              " spacy.tokens.token.Token,\n",
              " spacy.tokens.token.Token,\n",
              " spacy.tokens.token.Token,\n",
              " spacy.tokens.token.Token,\n",
              " spacy.tokens.token.Token,\n",
              " spacy.tokens.token.Token,\n",
              " spacy.tokens.token.Token,\n",
              " spacy.tokens.token.Token,\n",
              " spacy.tokens.token.Token,\n",
              " spacy.tokens.token.Token,\n",
              " spacy.tokens.token.Token,\n",
              " spacy.tokens.token.Token,\n",
              " spacy.tokens.token.Token,\n",
              " spacy.tokens.token.Token,\n",
              " spacy.tokens.token.Token,\n",
              " spacy.tokens.token.Token,\n",
              " spacy.tokens.token.Token,\n",
              " spacy.tokens.token.Token,\n",
              " spacy.tokens.token.Token,\n",
              " spacy.tokens.token.Token,\n",
              " spacy.tokens.token.Token,\n",
              " spacy.tokens.token.Token,\n",
              " spacy.tokens.token.Token,\n",
              " spacy.tokens.token.Token,\n",
              " spacy.tokens.token.Token,\n",
              " spacy.tokens.token.Token,\n",
              " spacy.tokens.token.Token,\n",
              " spacy.tokens.token.Token,\n",
              " spacy.tokens.token.Token,\n",
              " spacy.tokens.token.Token,\n",
              " spacy.tokens.token.Token,\n",
              " spacy.tokens.token.Token,\n",
              " spacy.tokens.token.Token,\n",
              " spacy.tokens.token.Token]"
            ]
          },
          "metadata": {},
          "execution_count": 51
        }
      ],
      "source": [
        "# Type of token\n",
        "[type(token) for token in doc]"
      ]
    },
    {
      "cell_type": "code",
      "execution_count": null,
      "metadata": {
        "colab": {
          "base_uri": "https://localhost:8080/"
        },
        "id": "WDDbkA7wi7L9",
        "outputId": "1e43f344-e38d-4a0a-e68b-8a10a96d42a3",
        "scrolled": true
      },
      "outputs": [
        {
          "output_type": "stream",
          "name": "stdout",
          "text": [
            "['I', \"'m\", 'working', 'as', 'a', 'Data_Scientist', 'in', 'the', 'U.S.', 'and', 'earning', '$', '140,000', '.', 'Governor', 'Serhiy_Gaidai', 'said', 'about', '30', '%', 'of', 'residents', 'had', 'stayed', 'in', 'the', 'area', '’s', 'cities', 'and', 'villages', 'despite', 'being', 'asked', 'to', 'leave', '.', 'They', '[', 'Russia', ']', 'are', 'amassing', 'forces', 'for', 'an', 'offensive', 'and', 'we', 'see', 'the', 'number', 'of', 'shellings', 'has', 'increased', ',', 'Gaidai', 'told', 'public', 'television', '.']\n"
          ]
        }
      ],
      "source": [
        "# Tokens as string\n",
        "print([token.text for token in doc])"
      ]
    },
    {
      "cell_type": "code",
      "execution_count": null,
      "metadata": {
        "colab": {
          "base_uri": "https://localhost:8080/"
        },
        "id": "zwLhE_pBi7MF",
        "outputId": "9ae22f98-9dae-4c02-c10b-6f9624f28f6a"
      },
      "outputs": [
        {
          "output_type": "stream",
          "name": "stdout",
          "text": [
            "[\"I'm\", 'working', 'as', 'a', 'Data_Scientist', 'in', 'the', 'U.S.', 'and', 'earning', '$140,000.', 'Governor', 'Serhiy_Gaidai', 'said', 'about', '30%', 'of', 'residents', 'had', 'stayed', 'in', 'the', 'area’s', 'cities', 'and', 'villages', 'despite', 'being', 'asked', 'to', 'leave.', 'They', '[Russia]', 'are', 'amassing', 'forces', 'for', 'an', 'offensive', 'and', 'we', 'see', 'the', 'number', 'of', 'shellings', 'has', 'increased,', 'Gaidai', 'told', 'public', 'television.']\n",
            "['I', \"'m\", 'working', 'as', 'a', 'Data_Scientist', 'in', 'the', 'U.S.', 'and', 'earning', '$', '140,000', '.', 'Governor', 'Serhiy_Gaidai', 'said', 'about', '30', '%', 'of', 'residents', 'had', 'stayed', 'in', 'the', 'area', '’s', 'cities', 'and', 'villages', 'despite', 'being', 'asked', 'to', 'leave', '.', 'They', '[', 'Russia', ']', 'are', 'amassing', 'forces', 'for', 'an', 'offensive', 'and', 'we', 'see', 'the', 'number', 'of', 'shellings', 'has', 'increased', ',', 'Gaidai', 'told', 'public', 'television', '.']\n"
          ]
        }
      ],
      "source": [
        "# Comparing Whitespace and spaCy Tokenizer\n",
        "\n",
        "# Whitespace Tokenizer\n",
        "print(text.split())\n",
        "\n",
        "# spaCy Tokenizer\n",
        "print([token.text for token in doc])"
      ]
    },
    {
      "cell_type": "code",
      "execution_count": null,
      "metadata": {
        "colab": {
          "base_uri": "https://localhost:8080/"
        },
        "id": "i1Wi4Ewfi7MM",
        "outputId": "5b1ea325-105a-43ed-c4b3-77503896f585"
      },
      "outputs": [
        {
          "output_type": "stream",
          "name": "stdout",
          "text": [
            "52\n",
            "62\n"
          ]
        }
      ],
      "source": [
        "# No. of Tokens in Whitespace Tokenizer\n",
        "print(len(text.split()))\n",
        "\n",
        "# No. of Tokens in spaCy's Tokenizer\n",
        "print(len(doc))"
      ]
    },
    {
      "cell_type": "code",
      "execution_count": null,
      "metadata": {
        "colab": {
          "base_uri": "https://localhost:8080/"
        },
        "id": "KvLyXUp7i7MU",
        "outputId": "aad98710-726d-4f2e-bf1f-2d8765fd0901"
      },
      "outputs": [
        {
          "output_type": "stream",
          "name": "stdout",
          "text": [
            "[\"I'm\", 'working', 'as', 'a', 'Data_Scientist', 'in', 'the', 'U.S.', 'and', 'earning', '$140,000.', 'Governor', 'Serhiy_Gaidai', 'said', 'about', '30%', 'of', 'residents', 'had', 'stayed', 'in', 'the', 'area’s', 'cities', 'and', 'villages', 'despite', 'being', 'asked', 'to', 'leave.', 'They', '[Russia]', 'are', 'amassing', 'forces', 'for', 'an', 'offensive', 'and', 'we', 'see', 'the', 'number', 'of', 'shellings', 'has', 'increased,', 'Gaidai', 'told', 'public', 'television.']\n",
            "['I', \"'m\", 'working', 'as', 'a', 'Data_Scientist', 'in', 'the', 'U.S.', 'and', 'earning', '$', '140,000', '.', 'Governor', 'Serhiy_Gaidai', 'said', 'about', '30', '%', 'of', 'residents', 'had', 'stayed', 'in', 'the', 'area', '’s', 'cities', 'and', 'villages', 'despite', 'being', 'asked', 'to', 'leave', '.', 'They', '[', 'Russia', ']', 'are', 'amassing', 'forces', 'for', 'an', 'offensive', 'and', 'we', 'see', 'the', 'number', 'of', 'shellings', 'has', 'increased', ',', 'Gaidai', 'told', 'public', 'television', '.']\n"
          ]
        }
      ],
      "source": [
        "#text=\"My phone has a 20% battery left.\"\n",
        "\n",
        "# Whitespace Tokenizer\n",
        "print(text.split())\n",
        "\n",
        "# spaCy Tokenizer\n",
        "print([token.text for token in nlp(text)])"
      ]
    },
    {
      "cell_type": "code",
      "execution_count": null,
      "metadata": {
        "id": "jsNGne55i7Mb"
      },
      "outputs": [],
      "source": [
        ""
      ]
    },
    {
      "cell_type": "code",
      "execution_count": null,
      "metadata": {
        "id": "xzwC7j9Si7Mi"
      },
      "outputs": [],
      "source": [
        ""
      ]
    },
    {
      "cell_type": "code",
      "execution_count": null,
      "metadata": {
        "colab": {
          "base_uri": "https://localhost:8080/"
        },
        "id": "Fd5Tyzks5SAB",
        "outputId": "9a1af1a3-9b99-4841-cc22-5b8104dfcfac"
      },
      "outputs": [
        {
          "output_type": "stream",
          "name": "stdout",
          "text": [
            "i'm working as a data scientist in the us and earning $140000 governor serhiy gaidai said about 30% of residents had stayed in the area’s cities and villages despite being asked to leave they russia are amassing forces for an offensive and we see the number of shellings has increased gaidai told public television\n"
          ]
        }
      ],
      "source": [
        "import re\n",
        "def clean_text(text):\n",
        "    text = text.lower()\n",
        "    \n",
        "    text = re.sub(\"[\\[\\].,\\n]\",\"\", text)\n",
        "    text = re.sub(\"[_-]\",\" \", text)\n",
        "    \n",
        "    return text\n",
        "    \n",
        "cleaned_text = clean_text(text1)\n",
        "print(cleaned_text)"
      ]
    },
    {
      "cell_type": "code",
      "source": [
        "doc = nlp(cleaned_text)"
      ],
      "metadata": {
        "id": "E0wcKrMVDHtb"
      },
      "execution_count": null,
      "outputs": []
    },
    {
      "cell_type": "code",
      "execution_count": null,
      "metadata": {
        "id": "gYVncxOZCQcX"
      },
      "outputs": [],
      "source": [
        "\n",
        "import pandas as pd\n",
        "word_dic = {}\n",
        "\n",
        "for w in doc:\n",
        "    if w.text in word_dic:\n",
        "        word_dic[w.text] = word_dic[w.text] + 1\n",
        "    else:\n",
        "        word_dic[w.text] = 1\n",
        "#word_dic\n",
        "#pd.DataFrame({})"
      ]
    },
    {
      "cell_type": "code",
      "execution_count": null,
      "metadata": {
        "colab": {
          "base_uri": "https://localhost:8080/"
        },
        "id": "u70iS1VNCQcY",
        "outputId": "2f47af7f-bc5e-4985-aefe-6da0d89019be"
      },
      "outputs": [
        {
          "output_type": "execute_result",
          "data": {
            "text/plain": [
              "(51, 2)"
            ]
          },
          "metadata": {},
          "execution_count": 73
        }
      ],
      "source": [
        "df = pd.DataFrame({'word':list(word_dic.keys()), 'count':list(word_dic.values())})\n",
        "df.shape"
      ]
    },
    {
      "cell_type": "code",
      "source": [
        "print(nlp.Defaults.stop_words)"
      ],
      "metadata": {
        "colab": {
          "base_uri": "https://localhost:8080/"
        },
        "id": "Vk6JqJ0SJ4cf",
        "outputId": "a019919d-bf91-4855-baf1-0aed3b672c47"
      },
      "execution_count": null,
      "outputs": [
        {
          "output_type": "stream",
          "name": "stdout",
          "text": [
            "{'all', 'everyone', 'himself', 'whereas', 'itself', 'how', 'so', 'been', 'there', 'nothing', 'some', 'less', 'latter', 'onto', '‘ll', 'say', 'full', 'below', 'many', 'against', 'was', 'anywhere', 'nor', 'least', 'who', 'other', 'forty', 'us', 'hereupon', 'seems', 'even', 'name', 'move', 'just', 'sixty', 'among', 'your', 'although', 'these', 'might', 'latterly', 'is', 'serious', 'twenty', 'now', 'someone', 'i', 'never', 'mine', 'whether', 'before', 'a', 'each', 'wherein', 'whither', 'side', 'once', 'thereafter', 'fifteen', 'if', 'those', 'beside', 'neither', 'than', 'almost', 'my', 'used', 'mostly', 'no', 'during', 'thence', 'indeed', 'though', 'go', 'rather', 'towards', 'here', 'while', 'somehow', 'off', 'into', 'you', '’m', 'upon', 'become', 'another', \"'m\", 'done', 'put', 'whoever', 'does', '‘d', '‘re', 'together', 'after', \"'ve\", 'what', 'much', 'again', 'afterwards', 'behind', 'yet', 'enough', 'the', 'along', 'toward', 'others', 'nobody', 'third', 'then', 'make', 'n‘t', 'since', 'throughout', 'about', 'four', 'at', 'thereupon', 'thus', 'hundred', 'hence', 'under', 'besides', 'where', 'must', 'sometimes', 'will', 'be', 'doing', 'therefore', 'she', 'quite', 'first', 'why', 'on', 'fifty', 'still', 'moreover', 'six', 'bottom', 'whereupon', 'via', 'seemed', 'them', 'last', 'wherever', 'formerly', 'for', 'may', \"n't\", \"'d\", 'can', 'nine', 'top', 'either', 'sometime', 'her', 'out', '‘m', 'when', 'most', 'show', 'an', 'we', 'his', 'he', 'whereby', 'up', 'front', 'herein', 'should', 'else', 'down', 'namely', 'myself', 'elsewhere', 'seeming', 'not', 'also', 'had', 'through', 'yourselves', 'me', 'get', 'themselves', 'and', 'do', 'n’t', 'noone', 'seem', 'would', 'ever', 'three', 'hereafter', '’ll', 'nevertheless', 'always', 'am', '’d', \"'re\", 'anyone', 'anyhow', 'which', 'their', 'former', 'eight', 'every', 'whereafter', 'amount', 'whose', 'eleven', 'take', 'otherwise', 'whom', 'yours', 'across', 'could', 'around', 'two', 'that', 'anything', 'part', 'somewhere', 'to', 'five', 'being', 'only', 'becomes', 'back', 'nowhere', 'often', 'hereby', 'none', 'several', 'twelve', 'are', 'because', 'from', 'few', 'meanwhile', 'any', 'its', 'both', 'until', 'without', 'due', 'one', 'except', 'over', 'give', 'it', 'everything', 'herself', 'whence', \"'s\", 'per', 'therein', 'own', 'such', 'please', 'ours', 'next', 'further', 'using', 'ourselves', 'as', 'beforehand', 'thereby', 'well', 'perhaps', 'alone', 'something', 'has', 'see', 'various', 'above', '’ve', 'but', \"'ll\", 'became', '’s', 'however', 'already', 'really', 're', 'in', 'they', '‘s', 'within', 'keep', 'very', 'everywhere', 'anyway', 'more', 'whenever', 'call', 'regarding', 'made', 'did', 'cannot', 'of', 'ca', 'ten', 'unless', 'thru', 'empty', 'yourself', 'beyond', '’re', 'him', 'hers', 'have', 'or', 'whole', 'same', '‘ve', 'our', 'whatever', 'becoming', 'between', 'by', 'this', 'amongst', 'too', 'were', 'with'}\n"
          ]
        }
      ]
    },
    {
      "cell_type": "code",
      "source": [
        "len(nlp.Defaults.stop_words)"
      ],
      "metadata": {
        "colab": {
          "base_uri": "https://localhost:8080/"
        },
        "id": "OnHNohwUKLo8",
        "outputId": "fe1b1981-82cb-454f-eef0-ef549a59ffbc"
      },
      "execution_count": null,
      "outputs": [
        {
          "output_type": "execute_result",
          "data": {
            "text/plain": [
              "326"
            ]
          },
          "metadata": {},
          "execution_count": 75
        }
      ]
    },
    {
      "cell_type": "code",
      "source": [
        "new_tokens = [token.text for token in doc if ( token.is_stop == False) ]\n",
        "new_tokens"
      ],
      "metadata": {
        "colab": {
          "base_uri": "https://localhost:8080/"
        },
        "id": "qnUpJy8dKPwy",
        "outputId": "dad3894f-fdd8-4a88-8e70-3a90059d1cfe"
      },
      "execution_count": null,
      "outputs": [
        {
          "output_type": "execute_result",
          "data": {
            "text/plain": [
              "['working',\n",
              " 'data',\n",
              " 'scientist',\n",
              " 'earning',\n",
              " '$',\n",
              " '140000',\n",
              " 'governor',\n",
              " 'serhiy',\n",
              " 'gaidai',\n",
              " 'said',\n",
              " '30',\n",
              " '%',\n",
              " 'residents',\n",
              " 'stayed',\n",
              " 'area',\n",
              " 'cities',\n",
              " 'villages',\n",
              " 'despite',\n",
              " 'asked',\n",
              " 'leave',\n",
              " 'russia',\n",
              " 'amassing',\n",
              " 'forces',\n",
              " 'offensive',\n",
              " 'number',\n",
              " 'shellings',\n",
              " 'increased',\n",
              " 'gaidai',\n",
              " 'told',\n",
              " 'public',\n",
              " 'television']"
            ]
          },
          "metadata": {},
          "execution_count": 77
        }
      ]
    },
    {
      "cell_type": "code",
      "source": [
        "word_dic1 = {}\n",
        "\n",
        "for w in new_tokens:\n",
        "    if w in word_dic1:\n",
        "        word_dic1[w] = word_dic1[w] + 1\n",
        "    else:\n",
        "        word_dic1[w] = 1\n",
        "word_dic1"
      ],
      "metadata": {
        "colab": {
          "base_uri": "https://localhost:8080/"
        },
        "id": "EsNLyubMK14K",
        "outputId": "35dcc1e3-0898-451b-d66e-b307be4af564"
      },
      "execution_count": null,
      "outputs": [
        {
          "output_type": "execute_result",
          "data": {
            "text/plain": [
              "{'$': 1,\n",
              " '%': 1,\n",
              " '140000': 1,\n",
              " '30': 1,\n",
              " 'amassing': 1,\n",
              " 'area': 1,\n",
              " 'asked': 1,\n",
              " 'cities': 1,\n",
              " 'data': 1,\n",
              " 'despite': 1,\n",
              " 'earning': 1,\n",
              " 'forces': 1,\n",
              " 'gaidai': 2,\n",
              " 'governor': 1,\n",
              " 'increased': 1,\n",
              " 'leave': 1,\n",
              " 'number': 1,\n",
              " 'offensive': 1,\n",
              " 'public': 1,\n",
              " 'residents': 1,\n",
              " 'russia': 1,\n",
              " 'said': 1,\n",
              " 'scientist': 1,\n",
              " 'serhiy': 1,\n",
              " 'shellings': 1,\n",
              " 'stayed': 1,\n",
              " 'television': 1,\n",
              " 'told': 1,\n",
              " 'villages': 1,\n",
              " 'working': 1}"
            ]
          },
          "metadata": {},
          "execution_count": 80
        }
      ]
    },
    {
      "cell_type": "code",
      "source": [
        "df = pd.DataFrame({'word':list(word_dic1.keys()), 'count':list(word_dic1.values())})\n",
        "df.sort_values(by='count', ascending=False, inplace=True, ignore_index=True)\n",
        "df.head()"
      ],
      "metadata": {
        "colab": {
          "base_uri": "https://localhost:8080/",
          "height": 206
        },
        "id": "O8E09kakLOfb",
        "outputId": "ce61e1d3-aeb1-447c-8c36-6bb1ff76cff2"
      },
      "execution_count": null,
      "outputs": [
        {
          "output_type": "execute_result",
          "data": {
            "text/plain": [
              "       word  count\n",
              "0    gaidai      2\n",
              "1   working      1\n",
              "2  villages      1\n",
              "3    public      1\n",
              "4      told      1"
            ],
            "text/html": [
              "\n",
              "  <div id=\"df-91036a20-308d-4798-ba3c-8c676323cdc4\">\n",
              "    <div class=\"colab-df-container\">\n",
              "      <div>\n",
              "<style scoped>\n",
              "    .dataframe tbody tr th:only-of-type {\n",
              "        vertical-align: middle;\n",
              "    }\n",
              "\n",
              "    .dataframe tbody tr th {\n",
              "        vertical-align: top;\n",
              "    }\n",
              "\n",
              "    .dataframe thead th {\n",
              "        text-align: right;\n",
              "    }\n",
              "</style>\n",
              "<table border=\"1\" class=\"dataframe\">\n",
              "  <thead>\n",
              "    <tr style=\"text-align: right;\">\n",
              "      <th></th>\n",
              "      <th>word</th>\n",
              "      <th>count</th>\n",
              "    </tr>\n",
              "  </thead>\n",
              "  <tbody>\n",
              "    <tr>\n",
              "      <th>0</th>\n",
              "      <td>gaidai</td>\n",
              "      <td>2</td>\n",
              "    </tr>\n",
              "    <tr>\n",
              "      <th>1</th>\n",
              "      <td>working</td>\n",
              "      <td>1</td>\n",
              "    </tr>\n",
              "    <tr>\n",
              "      <th>2</th>\n",
              "      <td>villages</td>\n",
              "      <td>1</td>\n",
              "    </tr>\n",
              "    <tr>\n",
              "      <th>3</th>\n",
              "      <td>public</td>\n",
              "      <td>1</td>\n",
              "    </tr>\n",
              "    <tr>\n",
              "      <th>4</th>\n",
              "      <td>told</td>\n",
              "      <td>1</td>\n",
              "    </tr>\n",
              "  </tbody>\n",
              "</table>\n",
              "</div>\n",
              "      <button class=\"colab-df-convert\" onclick=\"convertToInteractive('df-91036a20-308d-4798-ba3c-8c676323cdc4')\"\n",
              "              title=\"Convert this dataframe to an interactive table.\"\n",
              "              style=\"display:none;\">\n",
              "        \n",
              "  <svg xmlns=\"http://www.w3.org/2000/svg\" height=\"24px\"viewBox=\"0 0 24 24\"\n",
              "       width=\"24px\">\n",
              "    <path d=\"M0 0h24v24H0V0z\" fill=\"none\"/>\n",
              "    <path d=\"M18.56 5.44l.94 2.06.94-2.06 2.06-.94-2.06-.94-.94-2.06-.94 2.06-2.06.94zm-11 1L8.5 8.5l.94-2.06 2.06-.94-2.06-.94L8.5 2.5l-.94 2.06-2.06.94zm10 10l.94 2.06.94-2.06 2.06-.94-2.06-.94-.94-2.06-.94 2.06-2.06.94z\"/><path d=\"M17.41 7.96l-1.37-1.37c-.4-.4-.92-.59-1.43-.59-.52 0-1.04.2-1.43.59L10.3 9.45l-7.72 7.72c-.78.78-.78 2.05 0 2.83L4 21.41c.39.39.9.59 1.41.59.51 0 1.02-.2 1.41-.59l7.78-7.78 2.81-2.81c.8-.78.8-2.07 0-2.86zM5.41 20L4 18.59l7.72-7.72 1.47 1.35L5.41 20z\"/>\n",
              "  </svg>\n",
              "      </button>\n",
              "      \n",
              "  <style>\n",
              "    .colab-df-container {\n",
              "      display:flex;\n",
              "      flex-wrap:wrap;\n",
              "      gap: 12px;\n",
              "    }\n",
              "\n",
              "    .colab-df-convert {\n",
              "      background-color: #E8F0FE;\n",
              "      border: none;\n",
              "      border-radius: 50%;\n",
              "      cursor: pointer;\n",
              "      display: none;\n",
              "      fill: #1967D2;\n",
              "      height: 32px;\n",
              "      padding: 0 0 0 0;\n",
              "      width: 32px;\n",
              "    }\n",
              "\n",
              "    .colab-df-convert:hover {\n",
              "      background-color: #E2EBFA;\n",
              "      box-shadow: 0px 1px 2px rgba(60, 64, 67, 0.3), 0px 1px 3px 1px rgba(60, 64, 67, 0.15);\n",
              "      fill: #174EA6;\n",
              "    }\n",
              "\n",
              "    [theme=dark] .colab-df-convert {\n",
              "      background-color: #3B4455;\n",
              "      fill: #D2E3FC;\n",
              "    }\n",
              "\n",
              "    [theme=dark] .colab-df-convert:hover {\n",
              "      background-color: #434B5C;\n",
              "      box-shadow: 0px 1px 3px 1px rgba(0, 0, 0, 0.15);\n",
              "      filter: drop-shadow(0px 1px 2px rgba(0, 0, 0, 0.3));\n",
              "      fill: #FFFFFF;\n",
              "    }\n",
              "  </style>\n",
              "\n",
              "      <script>\n",
              "        const buttonEl =\n",
              "          document.querySelector('#df-91036a20-308d-4798-ba3c-8c676323cdc4 button.colab-df-convert');\n",
              "        buttonEl.style.display =\n",
              "          google.colab.kernel.accessAllowed ? 'block' : 'none';\n",
              "\n",
              "        async function convertToInteractive(key) {\n",
              "          const element = document.querySelector('#df-91036a20-308d-4798-ba3c-8c676323cdc4');\n",
              "          const dataTable =\n",
              "            await google.colab.kernel.invokeFunction('convertToInteractive',\n",
              "                                                     [key], {});\n",
              "          if (!dataTable) return;\n",
              "\n",
              "          const docLinkHtml = 'Like what you see? Visit the ' +\n",
              "            '<a target=\"_blank\" href=https://colab.research.google.com/notebooks/data_table.ipynb>data table notebook</a>'\n",
              "            + ' to learn more about interactive tables.';\n",
              "          element.innerHTML = '';\n",
              "          dataTable['output_type'] = 'display_data';\n",
              "          await google.colab.output.renderOutput(dataTable, element);\n",
              "          const docLink = document.createElement('div');\n",
              "          docLink.innerHTML = docLinkHtml;\n",
              "          element.appendChild(docLink);\n",
              "        }\n",
              "      </script>\n",
              "    </div>\n",
              "  </div>\n",
              "  "
            ]
          },
          "metadata": {},
          "execution_count": 84
        }
      ]
    },
    {
      "cell_type": "code",
      "source": [
        "file = open(\"switzerland.txt\", mode='r', encoding='utf-8')\n",
        "text = file.read()\n",
        "file.close()"
      ],
      "metadata": {
        "id": "dgvNY1iyMINH"
      },
      "execution_count": null,
      "outputs": []
    },
    {
      "cell_type": "code",
      "source": [
        "def clean_text(text):\n",
        "    text = text.lower()\n",
        "    \n",
        "    text = re.sub(\"[\\[\\].,()\\n]\",\"\", text)\n",
        "    text = re.sub(\"[_-]\",\" \", text)\n",
        "    \n",
        "    return text\n",
        "    \n",
        "cleaned_text = clean_text(text)\n",
        "print(cleaned_text)\n",
        "\n",
        "nlp=spacy.load('en_core_web_sm')\n",
        "doc = nlp(cleaned_text)"
      ],
      "metadata": {
        "colab": {
          "base_uri": "https://localhost:8080/"
        },
        "id": "2O_1cdqWNAjN",
        "outputId": "298ffd6f-aac0-4953-989f-efa91598ad98"
      },
      "execution_count": null,
      "outputs": [
        {
          "output_type": "stream",
          "name": "stdout",
          "text": [
            "switzerland officially the swiss confederation is a country situated in the confluence of western central and southern europe it is a federal republic composed of 26 cantons with federal authorities based in bern switzerland is a landlocked country bordered by italy to the south france to the west germany to the north and austria and liechtenstein to the east it is geographically divided among the swiss plateau the alps and the jura spanning a total area of 41285 km2 15940 sq mi and land area of 39997 km2 15443 sq mi while the alps occupy the greater part of the territory the swiss population of approximately 85 million is concentrated mostly on the plateau where the largest cities and economic centres are located among them zürich geneva and basel where multiple international organisations are domiciled such as fifa the un's second largest office and the bank for international settlements and where the main international airports of switzerland are\n"
          ]
        }
      ]
    },
    {
      "cell_type": "code",
      "source": [
        "[token.text for token in doc if ( token.is_stop == False)]"
      ],
      "metadata": {
        "colab": {
          "base_uri": "https://localhost:8080/"
        },
        "id": "YAjN-RoFNrO_",
        "outputId": "bf572c43-03b2-4262-8211-b931c9ba8dd8"
      },
      "execution_count": null,
      "outputs": [
        {
          "output_type": "execute_result",
          "data": {
            "text/plain": [
              "['switzerland',\n",
              " 'officially',\n",
              " 'swiss',\n",
              " 'confederation',\n",
              " 'country',\n",
              " 'situated',\n",
              " 'confluence',\n",
              " 'western',\n",
              " 'central',\n",
              " 'southern',\n",
              " 'europe',\n",
              " 'federal',\n",
              " 'republic',\n",
              " 'composed',\n",
              " '26',\n",
              " 'cantons',\n",
              " 'federal',\n",
              " 'authorities',\n",
              " 'based',\n",
              " 'bern',\n",
              " 'switzerland',\n",
              " 'landlocked',\n",
              " 'country',\n",
              " 'bordered',\n",
              " 'italy',\n",
              " 'south',\n",
              " 'france',\n",
              " 'west',\n",
              " 'germany',\n",
              " 'north',\n",
              " 'austria',\n",
              " 'liechtenstein',\n",
              " 'east',\n",
              " 'geographically',\n",
              " 'divided',\n",
              " 'swiss',\n",
              " 'plateau',\n",
              " 'alps',\n",
              " 'jura',\n",
              " 'spanning',\n",
              " 'total',\n",
              " 'area',\n",
              " '41285',\n",
              " 'km2',\n",
              " '15940',\n",
              " 'sq',\n",
              " 'mi',\n",
              " 'land',\n",
              " 'area',\n",
              " '39997',\n",
              " 'km2',\n",
              " '15443',\n",
              " 'sq',\n",
              " 'mi',\n",
              " 'alps',\n",
              " 'occupy',\n",
              " 'greater',\n",
              " 'territory',\n",
              " 'swiss',\n",
              " 'population',\n",
              " 'approximately',\n",
              " '85',\n",
              " 'million',\n",
              " 'concentrated',\n",
              " 'plateau',\n",
              " 'largest',\n",
              " 'cities',\n",
              " 'economic',\n",
              " 'centres',\n",
              " 'located',\n",
              " 'zürich',\n",
              " 'geneva',\n",
              " 'basel',\n",
              " 'multiple',\n",
              " 'international',\n",
              " 'organisations',\n",
              " 'domiciled',\n",
              " 'fifa',\n",
              " 'un',\n",
              " 'second',\n",
              " 'largest',\n",
              " 'office',\n",
              " 'bank',\n",
              " 'international',\n",
              " 'settlements',\n",
              " 'main',\n",
              " 'international',\n",
              " 'airports',\n",
              " 'switzerland']"
            ]
          },
          "metadata": {},
          "execution_count": 97
        }
      ]
    },
    {
      "cell_type": "code",
      "source": [
        ""
      ],
      "metadata": {
        "id": "vElzVHzyOL_v"
      },
      "execution_count": null,
      "outputs": []
    }
  ],
  "metadata": {
    "colab": {
      "collapsed_sections": [],
      "name": "5.2 Tokenization.ipynb",
      "provenance": []
    },
    "kernelspec": {
      "display_name": "Python 3",
      "language": "python",
      "name": "python3"
    },
    "language_info": {
      "codemirror_mode": {
        "name": "ipython",
        "version": 3
      },
      "file_extension": ".py",
      "mimetype": "text/x-python",
      "name": "python",
      "nbconvert_exporter": "python",
      "pygments_lexer": "ipython3",
      "version": "3.8.8"
    }
  },
  "nbformat": 4,
  "nbformat_minor": 0
}